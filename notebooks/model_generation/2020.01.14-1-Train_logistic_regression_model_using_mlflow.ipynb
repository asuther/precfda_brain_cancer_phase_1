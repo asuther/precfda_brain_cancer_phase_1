{
 "cells": [
  {
   "cell_type": "markdown",
   "metadata": {},
   "source": [
    "# Train_logistic_regression_model_using_mlflow"
   ]
  },
  {
   "cell_type": "markdown",
   "metadata": {},
   "source": [
    "**Background:**\n",
    "\n",
    "**Purpose:**\n",
    "\n",
    "**Methods:**\n",
    ">1. Introduction\n",
    ">2. Inits\n",
    "\n",
    "**Conclusions:**\n",
    "* Verify that the best models are not just predicting 1's for everyone\n",
    "* The model that balanced performance, feature count, and class 0 performance had paramters:\n",
    "   * log10_C between [-0.88889, -0.66667]\n",
    "   * lower_quantile_removed_CoV between [0.5, 0.9]\n",
    "* Increaing the # of max_iterations from 1,000 to 10,000 didn't improve the performance\n",
    "* Final model:\n",
    "   * log10_C=-1.75\n",
    "   * lower_quantile_removed_CoV=0.25"
   ]
  },
  {
   "cell_type": "markdown",
   "metadata": {},
   "source": [
    "# Inits"
   ]
  },
  {
   "cell_type": "markdown",
   "metadata": {},
   "source": [
    "## Imports"
   ]
  },
  {
   "cell_type": "code",
   "execution_count": 1,
   "metadata": {},
   "outputs": [],
   "source": [
    "%load_ext autoreload\n",
    "%autoreload 2\n",
    "import numpy as np\n",
    "import pandas as pd\n",
    "\n",
    "%matplotlib inline\n",
    "import matplotlib.pyplot as plt\n",
    "import seaborn as sns\n",
    "sns.set_context(context='notebook', font_scale=1.5)\n",
    "\n",
    "import logging\n",
    "logging.basicConfig()\n",
    "logger = logging.getLogger()\n",
    "logger.setLevel(logging.INFO)\n",
    "\n",
    "import glob\n",
    "\n",
    "from sklearn.model_selection import train_test_split, ParameterGrid\n",
    "from sklearn.linear_model import LogisticRegression\n",
    "\n",
    "import mlflow\n",
    "\n",
    "# Load my own custom module\n",
    "import data_loading\n",
    "import model_funcs\n",
    "import constants\n",
    "\n",
    "import imblearn\n",
    "import joblib\n",
    "\n",
    "from sklearn.model_selection import cross_val_score\n",
    "from sklearn.model_selection import KFold\n",
    "import sklearn.metrics as skl_metrics"
   ]
  },
  {
   "cell_type": "markdown",
   "metadata": {},
   "source": [
    "## Definitions"
   ]
  },
  {
   "cell_type": "code",
   "execution_count": 2,
   "metadata": {},
   "outputs": [],
   "source": [
    "experiment_base_path = f'{constants.base_dir}/mlruns/'\n",
    "mlflow.set_tracking_uri(f'file://{experiment_base_path}')\n",
    "\n",
    "\n",
    "test_param_dict = {'C': 1e-1,\n",
    "                 'max_iter': 30,\n",
    "                 'solver': 'saga',\n",
    "                 'class_weight': None,\n",
    "                 'lower_quantile_removed_CoV': 0,\n",
    "                  'use_smote': True}"
   ]
  },
  {
   "cell_type": "markdown",
   "metadata": {},
   "source": [
    "## Funcs"
   ]
  },
  {
   "cell_type": "markdown",
   "metadata": {
    "heading_collapsed": true
   },
   "source": [
    "### Run MLFlow Experiment V5"
   ]
  },
  {
   "cell_type": "code",
   "execution_count": null,
   "metadata": {
    "hidden": true
   },
   "outputs": [],
   "source": [
    "def run_mlflow_exp_v9(X_cv, X_test, y_cv, y_test, curr_param_index, curr_params_dict):\n",
    "\n",
    "    # Set the experiment name\n",
    "    mlflow.set_tracking_uri(f'file://{experiment_base_path}')\n",
    "    #mlflow.set_experiment('V4-l1-Logistic_Regression_Exp')\n",
    "    \n",
    "    # Start a mlflow run\n",
    "    with mlflow.start_run():\n",
    "        mlflow.set_tag('description', \n",
    "        \"\"\"\n",
    "        In this run, I added a parameter that controls what lower quantile of the data is removed based on CoV.\n",
    "        \"\"\")\n",
    "        \n",
    "        # Define the model\n",
    "        log_regr_clf = LogisticRegression(penalty='l1',\n",
    "                                          C=curr_params_dict['C'],\n",
    "                                          class_weight=curr_params_dict['class_weight'],\n",
    "                                          random_state=110,\n",
    "                                          solver=curr_params_dict['solver'],\n",
    "                                          max_iter=curr_params_dict['max_iter'],\n",
    "                                          verbose=0,\n",
    "                                          n_jobs=None,\n",
    "                                          l1_ratio=None)\n",
    "                \n",
    "        # Remove the lowest quartile of genes based on CoV\n",
    "        # Calculate the CoV\n",
    "        gene_expr_cov_list = 100 * (X_cv.std(ddof=1, axis=0) / X_cv.mean(axis=0))\n",
    "        \n",
    "        # Calculate the qth quantile\n",
    "        min_cov_threshold = np.quantile(gene_expr_cov_list, q=[curr_params_dict['lower_quantile_removed_CoV']])[0]\n",
    "        \n",
    "        # Get a list of genes to removed\n",
    "        low_cov_gene_list = gene_expr_cov_list.loc[(gene_expr_cov_list < min_cov_threshold)].index.tolist()\n",
    "        \n",
    "        # Remove the lowest quantile(s) of genes based on CoV\n",
    "        X_cv.drop(low_cov_gene_list, axis=1, inplace=True)\n",
    "        X_test.drop(low_cov_gene_list, axis=1, inplace=True)\n",
    "        \n",
    "        # Run custom CV so I can train on over-sampled data but test on original data\n",
    "        kfold_obj = KFold(n_splits=5, shuffle=True)\n",
    "\n",
    "        cv_train_accuracy_list = []\n",
    "        cv_test_accuracy_list = []\n",
    "        cv_test_accuracy_of_0_cases_list = []\n",
    "        \n",
    "        for curr_train_iloc_list, curr_test_iloc_list in kfold_obj.split(X=X_cv, y=y_cv):\n",
    "\n",
    "            # Create current fold train data\n",
    "            curr_fold_X_train = X_cv.iloc[curr_train_iloc_list, ]\n",
    "            curr_fold_y_train = y_cv.iloc[curr_train_iloc_list, ]\n",
    "            \n",
    "            # Create current fold train data\n",
    "            curr_fold_X_test = X_cv.iloc[curr_test_iloc_list, ]\n",
    "            curr_fold_y_test = y_cv.iloc[curr_test_iloc_list, ]\n",
    "\n",
    "            # Run SMOTE on the X,y data\n",
    "            smote_obj = imblearn.over_sampling.SMOTE(sampling_strategy='auto', \n",
    "                                                     random_state=110, \n",
    "                                                     k_neighbors=5, \n",
    "                                                     n_jobs=None)\n",
    "\n",
    "            curr_fold_X_train_smote, curr_fold_y_train_smote = smote_obj.fit_sample(curr_fold_X_train, curr_fold_y_train)\n",
    "\n",
    "            # Train the model on the over-sampled (SMOTE) training data for this k-fold\n",
    "            log_regr_clf.fit(curr_fold_X_train_smote, curr_fold_y_train_smote)\n",
    "\n",
    "            # Calculate accuracy on non-oversampled data\n",
    "            curr_fold_y_train_pred = pd.Series(log_regr_clf.predict(curr_fold_X_train), index=curr_fold_y_train.index)\n",
    "            curr_fold_y_test_pred = pd.Series(log_regr_clf.predict(curr_fold_X_test), index=curr_fold_y_test.index)\n",
    "\n",
    "            # Calculate result metrics like accuracy\n",
    "            cv_train_accuracy_list.append((curr_fold_y_train_pred == curr_fold_y_train).mean())\n",
    "            cv_test_accuracy_list.append((curr_fold_y_test_pred == curr_fold_y_test).mean())\n",
    "            \n",
    "            # Calculate the test accuracy of target=0 cases\n",
    "            cv_test_accuracy_of_0_cases_list = np.mean(curr_fold_y_test_pred[(curr_fold_y_test == 0)] == 0)\n",
    "            \n",
    "        \n",
    "        # Run SMOTE on the full X_cv,y_cv data\n",
    "        smote_obj = imblearn.over_sampling.SMOTE(sampling_strategy='auto', \n",
    "                                                 random_state=110, \n",
    "                                                 k_neighbors=5, \n",
    "                                                 n_jobs=None)\n",
    "        X_cv_smote, y_cv_smote = smote_obj.fit_sample(X_cv, y_cv)\n",
    "        \n",
    "        # Train the model\n",
    "        log_regr_clf.fit(X_cv_smote, y_cv_smote)\n",
    "        \n",
    "        # Calculate test accuracy\n",
    "        y_test_pred = pd.Series(log_regr_clf.predict(X_test), index=y_test.index)\n",
    "        test_accuracy = (y_test_pred == y_test).mean()\n",
    "        \n",
    "        # Calculate the false positive rate and true positive rate\n",
    "        train_auc = skl_metrics.roc_auc_score(y_true=y_cv, \n",
    "                                             y_score=log_regr_clf.predict_proba(X_cv)[:, 1])\n",
    "        test_auc = skl_metrics.roc_auc_score(y_true=y_test, \n",
    "                                             y_score=log_regr_clf.predict_proba(X_test)[:, 1])\n",
    "        \n",
    "        # Log parameters\n",
    "        mlflow.log_param(\"log10_C\", np.log10(curr_params_dict['C']))\n",
    "        mlflow.log_param(\"log10_max_iter\", np.log10(curr_params_dict['max_iter']))\n",
    "        mlflow.log_param(\"solver\", curr_params_dict['solver'])\n",
    "        mlflow.log_param(\"class_weight\", curr_params_dict['class_weight'])\n",
    "        mlflow.log_param(\"lower_quantile_removed_CoV\", curr_params_dict['lower_quantile_removed_CoV'])\n",
    "        \n",
    "        # Log CV metrics\n",
    "        mlflow.log_metric(\"cv_training_accuracy\", np.mean(cv_train_accuracy_list))\n",
    "        mlflow.log_metric(\"cv_test_accuracy\", np.mean(cv_test_accuracy_list))\n",
    "        mlflow.log_metric(\"cv_test_0_class_accuracy\", np.mean(cv_test_accuracy_of_0_cases_list))\n",
    "        \n",
    "        # Log test metrics\n",
    "        mlflow.log_metric(\"test_accuracy\", test_accuracy)\n",
    "        mlflow.log_metric(\"train_auc\", train_auc)\n",
    "        mlflow.log_metric(\"test_auc\", test_auc)\n",
    "\n",
    "        # Log count of non-zero features\n",
    "        mlflow.log_metric(\"count_non_zero_features\", np.sum(log_regr_clf.coef_[0] != 0))"
   ]
  },
  {
   "cell_type": "markdown",
   "metadata": {
    "heading_collapsed": true
   },
   "source": [
    "# Eliminating features based on low CoV"
   ]
  },
  {
   "cell_type": "code",
   "execution_count": null,
   "metadata": {
    "hidden": true,
    "scrolled": true
   },
   "outputs": [],
   "source": [
    "# Set the experiment name\n",
    "mlflow.set_tracking_uri(f'file://{experiment_base_path}')\n",
    "mlflow.set_experiment('V3-l1-Logistic_Regression_Exp')\n",
    "\n",
    "# Define the parameter grid\n",
    "param_dict = {'C': np.logspace(-6, 6, 7),\n",
    "             'max_iter': [100, 300],\n",
    "             'solver': ['saga'],\n",
    "             'class_weight': [None, 'balanced'],\n",
    "             'lower_quantile_removed_CoV': [0, 0.25, 0.5]}\n",
    "\n",
    "# Loop over the parameter grid\n",
    "for curr_param_index, curr_params_dict in enumerate(ParameterGrid(param_dict)):\n",
    "    \n",
    "    # Start a mlflow run\n",
    "    with mlflow.start_run():\n",
    "        mlflow.set_tag('description', \n",
    "        \"\"\"\n",
    "        In this run, I added a parameter that controls what lower quantile of the data is removed based on CoV.\n",
    "        \"\"\")\n",
    "        \n",
    "        print(curr_param_index, curr_params_dict)\n",
    "        # Define the description and tags\n",
    "        #mlflow_funcs.define_description_and_tags(mlflow)\n",
    "\n",
    "        # Load the gene expression (GE) raw data from file\n",
    "        X, y, phenotype_df = data_loading.load_sc1_data()\n",
    "        \n",
    "        # Remove the lowest quartile of genes based on CoV\n",
    "        # Calculate the CoV\n",
    "        gene_expr_cov_list = 100 * (X.std(ddof=1, axis=0) / X.mean(axis=0))\n",
    "        \n",
    "        # Calculate the 0.25 quantile\n",
    "        min_cov_threshold = np.quantile(gene_expr_cov_list, q=[curr_params_dict['lower_quantile_removed_CoV']])[0]\n",
    "        \n",
    "        # Get a list of genes to removed\n",
    "        low_cov_gene_list = gene_expr_cov_list.loc[(gene_expr_cov_list < min_cov_threshold)].index.tolist()\n",
    "        \n",
    "        # Remove the lowest 0.25 quantile of genes based on CoV\n",
    "        X.drop(low_cov_gene_list, axis=1, inplace=True)\n",
    "        \n",
    "        # Run SMOTE on the X,y data\n",
    "        smote_obj = imblearn.over_sampling.SMOTE(sampling_strategy='auto', \n",
    "                                                 random_state=110, \n",
    "                                                 k_neighbors=5, \n",
    "                                                 n_jobs=None)\n",
    "        X_smote, y_smote = smote_obj.fit_sample(X, y)\n",
    "\n",
    "        # Split into CV/test set using target class to stratify\n",
    "        X_train, X_test, y_train, y_test = train_test_split(X_smote, y_smote, test_size=0.2, stratify=y_smote)\n",
    "\n",
    "        # Define the model\n",
    "        log_regr_clf = LogisticRegression(penalty='l1',\n",
    "                                          C=curr_params_dict['C'],\n",
    "                                          class_weight=curr_params_dict['class_weight'],\n",
    "                                          random_state=110,\n",
    "                                          solver=curr_params_dict['solver'],\n",
    "                                          max_iter=curr_params_dict['max_iter'],\n",
    "                                          verbose=0,\n",
    "                                          n_jobs=None,\n",
    "                                          l1_ratio=None)\n",
    "        \n",
    "        # Train the model\n",
    "        log_regr_clf.fit(X_train, y_train)\n",
    "\n",
    "        # Predict training data\n",
    "        y_train_pred = pd.Series(log_regr_clf.predict(X_train), index=y_train.index)\n",
    "\n",
    "        # Calculate result metrics like accuracy\n",
    "        training_accuracy = (y_train_pred == y_train).mean()\n",
    "        print(f'Train Accuracy: {training_accuracy}')\n",
    "\n",
    "        # Calculate the proportion of 1s in the predictions and actual y vectors\n",
    "        ones_in_y_train = y_train.value_counts()[1]\n",
    "        ones_in_y_train_pred = y_train_pred \\\n",
    "            .value_counts() \\\n",
    "            .reindex(index=[0, 1]) \\\n",
    "            .fillna(0)[1]\n",
    "\n",
    "        print(f'There were {ones_in_y_train} in the actual y vector and {ones_in_y_train_pred} in the prediction')\n",
    "\n",
    "        # Log parameters\n",
    "        mlflow.log_param(\"C\", curr_params_dict['C'])\n",
    "        mlflow.log_param(\"max_iter\", curr_params_dict['max_iter'])\n",
    "        mlflow.log_param(\"solver\", curr_params_dict['solver'])\n",
    "        mlflow.log_param(\"class_weight\", curr_params_dict['class_weight'])\n",
    "        mlflow.log_param(\"lower_quantile_removed_CoV\", curr_params_dict['lower_quantile_removed_CoV'])\n",
    "        \n",
    "        # Log accuracy metrics\n",
    "        mlflow.log_metric(\"training_accuracy\", training_accuracy)\n",
    "        #mlflow.log_metric(\"support_vector_count\", svm_clf.support_vectors_.shape[0])\n",
    "\n",
    "        # Log sensitivity, specificity\n",
    "        \n",
    "        # Log AUC\n",
    "        print()\n",
    "        #mlflow.sklearn.log_model(svm_clf, \"model\")"
   ]
  },
  {
   "cell_type": "markdown",
   "metadata": {
    "heading_collapsed": true
   },
   "source": [
    "# Running experiment runs in parallel"
   ]
  },
  {
   "cell_type": "code",
   "execution_count": null,
   "metadata": {
    "hidden": true
   },
   "outputs": [],
   "source": [
    "# Set the experiment name\n",
    "mlflow.set_tracking_uri(f'file://{experiment_base_path}')\n",
    "mlflow.set_experiment('V3-l1-Logistic_Regression_Exp')\n",
    "    \n",
    "# Define the parameter grid\n",
    "param_dict = {'C': np.logspace(-4, 4, 9),\n",
    "             'max_iter': [100, 1000, 5000],\n",
    "             'solver': ['saga'],\n",
    "             'class_weight': [None],\n",
    "             'lower_quantile_removed_CoV': [0, 0.25, 0.5, 0.75]}\n",
    "\n",
    "# Run mlflow runs in parallel\n",
    "results = joblib.Parallel(n_jobs=-1, backend='multiprocessing')\\\n",
    "    (joblib.delayed(run_mlflow_exp)(curr_param_index, curr_params_dict)\\\n",
    "         for curr_param_index, curr_params_dict in enumerate(ParameterGrid(param_dict)))"
   ]
  },
  {
   "cell_type": "code",
   "execution_count": null,
   "metadata": {
    "hidden": true
   },
   "outputs": [],
   "source": [
    "def run_mlflow_exp(curr_param_index, curr_params_dict):\n",
    "    # Set the experiment name\n",
    "    mlflow.set_tracking_uri(f'file://{experiment_base_path}')\n",
    "    #mlflow.set_experiment('V3-l1-Logistic_Regression_Exp')\n",
    "    \n",
    "    # Start a mlflow run\n",
    "    with mlflow.start_run():\n",
    "        mlflow.set_tag('description', \n",
    "        \"\"\"\n",
    "        In this run, I added a parameter that controls what lower quantile of the data is removed based on CoV.\n",
    "        \"\"\")\n",
    "        \n",
    "        #print(curr_param_index, curr_params_dict)\n",
    "        # Define the description and tags\n",
    "        #mlflow_funcs.define_description_and_tags(mlflow)\n",
    "\n",
    "        # Load the gene expression (GE) raw data from file\n",
    "        X, y, phenotype_df = data_loading.load_sc1_data()\n",
    "        \n",
    "        # Remove the lowest quartile of genes based on CoV\n",
    "        # Calculate the CoV\n",
    "        gene_expr_cov_list = 100 * (X.std(ddof=1, axis=0) / X.mean(axis=0))\n",
    "        \n",
    "        # Calculate the 0.25 quantile\n",
    "        min_cov_threshold = np.quantile(gene_expr_cov_list, q=[curr_params_dict['lower_quantile_removed_CoV']])[0]\n",
    "        \n",
    "        # Get a list of genes to removed\n",
    "        low_cov_gene_list = gene_expr_cov_list.loc[(gene_expr_cov_list < min_cov_threshold)].index.tolist()\n",
    "        \n",
    "        # Remove the lowest 0.25 quantile of genes based on CoV\n",
    "        X.drop(low_cov_gene_list, axis=1, inplace=True)\n",
    "        \n",
    "        # Run SMOTE on the X,y data\n",
    "        smote_obj = imblearn.over_sampling.SMOTE(sampling_strategy='auto', \n",
    "                                                 random_state=110, \n",
    "                                                 k_neighbors=5, \n",
    "                                                 n_jobs=None)\n",
    "        X_smote, y_smote = smote_obj.fit_sample(X, y)\n",
    "\n",
    "        # Split into CV/test set using target class to stratify\n",
    "        X_train, X_test, y_train, y_test = train_test_split(X_smote, y_smote, test_size=0.2, stratify=y_smote)\n",
    "\n",
    "        # Define the model\n",
    "        log_regr_clf = LogisticRegression(penalty='l1',\n",
    "                                          C=curr_params_dict['C'],\n",
    "                                          class_weight=curr_params_dict['class_weight'],\n",
    "                                          random_state=110,\n",
    "                                          solver=curr_params_dict['solver'],\n",
    "                                          max_iter=curr_params_dict['max_iter'],\n",
    "                                          verbose=0,\n",
    "                                          n_jobs=None,\n",
    "                                          l1_ratio=None)\n",
    "        \n",
    "        # Train the model\n",
    "        log_regr_clf.fit(X_train, y_train)\n",
    "\n",
    "        # Predict training data\n",
    "        y_train_pred = pd.Series(log_regr_clf.predict(X_train), index=y_train.index)\n",
    "\n",
    "        # Calculate result metrics like accuracy\n",
    "        training_accuracy = (y_train_pred == y_train).mean()\n",
    "        #print(f'Train Accuracy: {training_accuracy}')\n",
    "\n",
    "        # Calculate the proportion of 1s in the predictions and actual y vectors\n",
    "        ones_in_y_train = y_train.value_counts()[1]\n",
    "        ones_in_y_train_pred = y_train_pred \\\n",
    "            .value_counts() \\\n",
    "            .reindex(index=[0, 1]) \\\n",
    "            .fillna(0)[1]\n",
    "\n",
    "        #print(f'There were {ones_in_y_train} in the actual y vector and {ones_in_y_train_pred} in the prediction')\n",
    "\n",
    "        # Log parameters\n",
    "        mlflow.log_param(\"log10_C\", np.log10(curr_params_dict['C']))\n",
    "        mlflow.log_param(\"log10_max_iter\", np.log10(curr_params_dict['max_iter']))\n",
    "        mlflow.log_param(\"solver\", curr_params_dict['solver'])\n",
    "        mlflow.log_param(\"class_weight\", curr_params_dict['class_weight'])\n",
    "        mlflow.log_param(\"lower_quantile_removed_CoV\", curr_params_dict['lower_quantile_removed_CoV'])\n",
    "        \n",
    "        # Log accuracy metrics\n",
    "        mlflow.log_metric(\"training_accuracy\", training_accuracy)\n",
    "        #mlflow.log_metric(\"support_vector_count\", svm_clf.support_vectors_.shape[0])\n",
    "\n",
    "        # Log sensitivity, specificity\n",
    "        \n",
    "        # Log AUC\n",
    "        #print()\n",
    "        #mlflow.sklearn.log_model(svm_clf, \"model\")"
   ]
  },
  {
   "cell_type": "markdown",
   "metadata": {
    "heading_collapsed": true
   },
   "source": [
    "# V4 - Adding CV scoring"
   ]
  },
  {
   "cell_type": "markdown",
   "metadata": {
    "heading_collapsed": true,
    "hidden": true
   },
   "source": [
    "## Scratch code"
   ]
  },
  {
   "cell_type": "code",
   "execution_count": null,
   "metadata": {
    "hidden": true
   },
   "outputs": [],
   "source": [
    "# Load the gene expression (GE) raw data from file\n",
    "X, y, phenotype_df = data_loading.load_sc1_data()\n",
    "\n",
    "# Split into CV/test set using target class to stratify\n",
    "X_train, X_test, y_train, y_test = train_test_split(X, y, test_size=0.2, stratify=y)"
   ]
  },
  {
   "cell_type": "code",
   "execution_count": null,
   "metadata": {
    "hidden": true
   },
   "outputs": [],
   "source": [
    "kfold_obj = KFold(n_splits=5, shuffle=True)\n",
    "\n",
    "for curr_train_iloc_list, curr_test_iloc_list in kfold_obj.split(X=X_train, y=y_train):\n",
    "    \n",
    "    # Create current fold train data\n",
    "    curr_fold_X_train = X_train.iloc[curr_train_iloc_list, ]\n",
    "    curr_fold_y_train = y_train.iloc[curr_train_iloc_list, ]\n",
    "    \n",
    "    # Run SMOTE on the X,y data\n",
    "    smote_obj = imblearn.over_sampling.SMOTE(sampling_strategy='auto', \n",
    "                                             random_state=110, \n",
    "                                             k_neighbors=5, \n",
    "                                             n_jobs=None)\n",
    "\n",
    "    curr_fold_X_train_smote, curr_fold_y_train_smote = smote_obj.fit_sample(curr_fold_X_train, curr_fold_y_train)\n",
    "    \n",
    "    # Train the model on the over-sampled (SMOTE) training data for this k-fold\n",
    "    \n",
    "    \n",
    "    # Get the test data from the non-oversampled data\n",
    "    \n",
    "    # Calculate accuracy on non-oversampled data\n",
    "    "
   ]
  },
  {
   "cell_type": "markdown",
   "metadata": {
    "heading_collapsed": true,
    "hidden": true
   },
   "source": [
    "## Running a single run of MLflow"
   ]
  },
  {
   "cell_type": "code",
   "execution_count": null,
   "metadata": {
    "hidden": true
   },
   "outputs": [],
   "source": [
    "# Set the experiment name\n",
    "mlflow.set_tracking_uri(f'file://{experiment_base_path}')\n",
    "mlflow.set_experiment('TEST-l1-Logistic_Regression_Exp')\n",
    "\n",
    "# Run test\n",
    "run_mlflow_exp_v5(0, {'C': 0.01,\n",
    "                      'max_iter': 100,\n",
    "                      'solver': 'saga',\n",
    "                      'class_weight': None,\n",
    "                      'lower_quantile_removed_CoV': 0})"
   ]
  },
  {
   "cell_type": "markdown",
   "metadata": {
    "heading_collapsed": true,
    "hidden": true
   },
   "source": [
    "## Running MLFlow"
   ]
  },
  {
   "cell_type": "code",
   "execution_count": null,
   "metadata": {
    "hidden": true,
    "scrolled": true
   },
   "outputs": [],
   "source": [
    "# Set the experiment name\n",
    "mlflow.set_tracking_uri(f'file://{experiment_base_path}')\n",
    "mlflow.set_experiment('V4-l1-Logistic_Regression_Exp')\n",
    "    \n",
    "# Define the parameter grid\n",
    "param_dict = {'C': np.logspace(-2, 0, 10).tolist() + np.logspace(1, 5, 3).tolist(),\n",
    "             'max_iter': [1000],\n",
    "             'solver': ['saga'],\n",
    "             'class_weight': [None],\n",
    "             'lower_quantile_removed_CoV': [0, 0.25]}\n",
    "\n",
    "# Run mlflow runs in parallel\n",
    "results = joblib.Parallel(n_jobs=-1, backend='multiprocessing')\\\n",
    "    (joblib.delayed(run_mlflow_exp_v5)(X_cv, X_test, y_cv, y_test, curr_param_index, curr_params_dict)\\\n",
    "         for curr_param_index, curr_params_dict in enumerate(ParameterGrid(param_dict)))"
   ]
  },
  {
   "cell_type": "markdown",
   "metadata": {
    "hidden": true
   },
   "source": [
    "## Plotting # of features vs. training/CV accuracy"
   ]
  },
  {
   "cell_type": "code",
   "execution_count": null,
   "metadata": {
    "hidden": true
   },
   "outputs": [],
   "source": [
    "# Get the experiment id from the experiment name\n",
    "curr_experiment_id=mlflow.get_experiment_by_name('V4-l1-Logistic_Regression_Exp').experiment_id\n",
    "\n",
    "experiment_results_v4_df = mlflow.search_runs(experiment_ids=curr_experiment_id)\n",
    "\n",
    "# Melt the dataframe to get accuracy as a single column\n",
    "experiment_results_v4_df_melt = experiment_results_v4_df.melt(id_vars=['run_id','metrics.count_non_zero_features','params.lower_quantile_removed_CoV','params.log10_C','params.log10_max_iter'],\n",
    "    value_vars=['metrics.cv_training_accuracy','metrics.cv_test_accuracy','metrics.cv_test_accuracy_of_0_cases_list'],\n",
    "    var_name='train_or_cv',\n",
    "    value_name='accuracy')\n",
    "\n",
    "sns.lmplot(x='metrics.count_non_zero_features',\n",
    "           y='accuracy',\n",
    "           data=experiment_results_v4_df_melt,\n",
    "           hue='train_or_cv', \n",
    "           fit_reg=False, size=5, aspect=1.25)\n",
    "\n",
    "ax = plt.gca()\n",
    "ax.set_xscale('log')\n",
    "ax.axvline(10, c='r', alpha=0.3)"
   ]
  },
  {
   "cell_type": "markdown",
   "metadata": {
    "hidden": true
   },
   "source": [
    "* This shows me that the ideal feature count is somewhere around 20-100. \n",
    "   * This is because it has a good overall accuracy, while predicting the negative class the best (near 50% accuracy). \n",
    "   * Well, this is actually not great since 50% accuracy is as good as a coin-flip. "
   ]
  },
  {
   "cell_type": "markdown",
   "metadata": {
    "heading_collapsed": true
   },
   "source": [
    "# Looking at selected features"
   ]
  },
  {
   "cell_type": "code",
   "execution_count": null,
   "metadata": {
    "hidden": true
   },
   "outputs": [],
   "source": [
    "curr_param_index = 0\n",
    "curr_params_dict = {'C': 2e-2,\n",
    "                    'max_iter': 1000,\n",
    "                    'solver': 'saga',\n",
    "                    'class_weight': None,\n",
    "                    'lower_quantile_removed_CoV': 0.25}\n",
    "\n",
    "# Load the gene expression (GE) raw data from file\n",
    "X, y, phenotype_df = data_loading.load_sc1_data()\n",
    "\n",
    "# Remove the lowest quartile of genes based on CoV\n",
    "# Calculate the CoV\n",
    "gene_expr_cov_list = 100 * (X.std(ddof=1, axis=0) / X.mean(axis=0))\n",
    "\n",
    "# Calculate the 0.25 quantile\n",
    "min_cov_threshold = np.quantile(gene_expr_cov_list, q=[curr_params_dict['lower_quantile_removed_CoV']])[0]\n",
    "\n",
    "# Get a list of genes to removed\n",
    "low_cov_gene_list = gene_expr_cov_list.loc[(gene_expr_cov_list < min_cov_threshold)].index.tolist()\n",
    "\n",
    "# Remove the lowest 0.25 quantile of genes based on CoV\n",
    "X.drop(low_cov_gene_list, axis=1, inplace=True)\n",
    "\n",
    "# Run SMOTE on the X,y data\n",
    "smote_obj = imblearn.over_sampling.SMOTE(sampling_strategy='auto', \n",
    "                                         random_state=110, \n",
    "                                         k_neighbors=5, \n",
    "                                         n_jobs=None)\n",
    "X_smote, y_smote = smote_obj.fit_sample(X, y)\n",
    "\n",
    "# Split into CV/test set using target class to stratify\n",
    "X_train, X_test, y_train, y_test = train_test_split(X_smote, y_smote, test_size=0.2, stratify=y_smote)\n",
    "\n",
    "# Define the model\n",
    "log_regr_clf = LogisticRegression(penalty='l1',\n",
    "                                  C=curr_params_dict['C'],\n",
    "                                  class_weight=curr_params_dict['class_weight'],\n",
    "                                  random_state=110,\n",
    "                                  solver=curr_params_dict['solver'],\n",
    "                                  max_iter=curr_params_dict['max_iter'],\n",
    "                                  verbose=0,\n",
    "                                  n_jobs=None,\n",
    "                                  l1_ratio=None)\n",
    "\n",
    "# Run CV\n",
    "cv_accuracy_list = cross_val_score(estimator=log_regr_clf,\n",
    "                                   X=X_train,\n",
    "                                   y=y_train,\n",
    "                                   groups=None,\n",
    "                                   scoring='accuracy',\n",
    "                                   cv=5,\n",
    "                                   n_jobs=-1)\n",
    "\n",
    "# Train the model\n",
    "log_regr_clf.fit(X_train, y_train)\n",
    "\n",
    "# Predict training data\n",
    "y_train_pred = pd.Series(log_regr_clf.predict(X_train), index=y_train.index)\n",
    "\n",
    "# Calculate result metrics like accuracy\n",
    "training_accuracy = (y_train_pred == y_train).mean()"
   ]
  },
  {
   "cell_type": "code",
   "execution_count": null,
   "metadata": {
    "hidden": true
   },
   "outputs": [],
   "source": [
    "cv_accuracy_list"
   ]
  },
  {
   "cell_type": "code",
   "execution_count": null,
   "metadata": {
    "hidden": true
   },
   "outputs": [],
   "source": [
    "print(f'There are {np.sum(log_regr_clf.coef_[0] != 0)} non-zero features in the Logistic Regression model')\n",
    "non_zero_gene_list = X_smote.columns[log_regr_clf.coef_[0] != 0]"
   ]
  },
  {
   "cell_type": "code",
   "execution_count": null,
   "metadata": {
    "hidden": true
   },
   "outputs": [],
   "source": [
    "[curr_gene for curr_gene in non_zero_gene_list]"
   ]
  },
  {
   "cell_type": "markdown",
   "metadata": {},
   "source": [
    "# V5 - Eliminating more quantiles of genes based on CoV"
   ]
  },
  {
   "cell_type": "markdown",
   "metadata": {
    "heading_collapsed": true
   },
   "source": [
    "## Running MLFlow"
   ]
  },
  {
   "cell_type": "code",
   "execution_count": null,
   "metadata": {
    "hidden": true,
    "scrolled": true
   },
   "outputs": [],
   "source": [
    "%%time\n",
    "\n",
    "# Set the experiment name\n",
    "mlflow.set_tracking_uri(f'file://{experiment_base_path}')\n",
    "mlflow.set_experiment('SC1-V9-l1-Logistic_Regression_Exp')\n",
    "    \n",
    "# Define the parameter grid\n",
    "param_dict = {'C': np.logspace(-2, 0, 5).tolist() + np.logspace(1, 5, 3).tolist(),\n",
    "             'max_iter': [1000],\n",
    "             'solver': ['saga'],\n",
    "             'class_weight': [None],\n",
    "             'lower_quantile_removed_CoV': [0, 0.25, 0.5, 0.9]}\n",
    "\n",
    "# Load the gene expression (GE) raw data from file\n",
    "X, y, phenotype_df = data_loading.load_sc1_data()\n",
    "        \n",
    "# Split into CV/test set using target class to stratify\n",
    "X_cv, X_test, y_cv, y_test = train_test_split(X, y, test_size=0.2, stratify=y, random_state=110)\n",
    "\n",
    "# Run mlflow runs in parallel\n",
    "results = joblib.Parallel(n_jobs=-1, backend='multiprocessing')\\\n",
    "    (joblib.delayed(run_mlflow_exp_v9)(X_cv, X_test, y_cv, y_test, curr_param_index, curr_params_dict)\\\n",
    "         for curr_param_index, curr_params_dict in enumerate(ParameterGrid(param_dict)))"
   ]
  },
  {
   "cell_type": "markdown",
   "metadata": {
    "heading_collapsed": true
   },
   "source": [
    "## Plotting # of features vs. training/CV accuracy"
   ]
  },
  {
   "cell_type": "code",
   "execution_count": null,
   "metadata": {
    "hidden": true
   },
   "outputs": [],
   "source": [
    "# Get the experiment id from the experiment name\n",
    "curr_experiment_id=mlflow.get_experiment_by_name('SC1-V9-l1-Logistic_Regression_Exp').experiment_id\n",
    "\n",
    "experiment_results_v9_df = mlflow.search_runs(experiment_ids=curr_experiment_id)\n",
    "\n",
    "# Melt the dataframe to get accuracy as a single column\n",
    "experiment_results_v9_df_melt = experiment_results_v9_df\\\n",
    "    .melt(id_vars=['run_id','metrics.count_non_zero_features','params.lower_quantile_removed_CoV',\n",
    "                   'params.log10_C','params.log10_max_iter'],\n",
    "          value_vars=['metrics.cv_training_accuracy','metrics.cv_test_accuracy',\n",
    "                      'metrics.cv_test_0_class_accuracy','metrics.test_accuracy','metrics.test_auc'],\n",
    "          var_name='train_or_cv',\n",
    "          value_name='accuracy')"
   ]
  },
  {
   "cell_type": "code",
   "execution_count": null,
   "metadata": {
    "hidden": true
   },
   "outputs": [],
   "source": [
    "sns.lmplot(x='metrics.count_non_zero_features',\n",
    "           y='accuracy',\n",
    "           data=experiment_results_v9_df_melt,\n",
    "           hue='train_or_cv',\n",
    "           fit_reg=False, size=6, aspect=1.25)\n",
    "\n",
    "ax = plt.gca()\n",
    "ax.set_xscale('log')\n",
    "ax.axvline(200, c='r', alpha=0.3)"
   ]
  },
  {
   "cell_type": "code",
   "execution_count": null,
   "metadata": {
    "hidden": true
   },
   "outputs": [],
   "source": [
    "experiment_results_v9_df_melt\\\n",
    "    .loc[(experiment_results_v9_df_melt['metrics.count_non_zero_features'] > 150)\n",
    "        & (experiment_results_v9_df_melt['metrics.count_non_zero_features'] < 300)]"
   ]
  },
  {
   "cell_type": "markdown",
   "metadata": {
    "heading_collapsed": true
   },
   "source": [
    "# Investigating the best class 0 prediction cases"
   ]
  },
  {
   "cell_type": "code",
   "execution_count": null,
   "metadata": {
    "hidden": true
   },
   "outputs": [],
   "source": [
    "experiment_results_v5_df.loc[np.abs(experiment_results_v5_df['params.log10_C'] + 0.88888889) < 0.01]"
   ]
  },
  {
   "cell_type": "markdown",
   "metadata": {
    "hidden": true
   },
   "source": [
    "So the best performing model had paramters:\n",
    "* log10_C between [-0.88889, -0.66667]\n",
    "* lower_quantile_removed_CoV between [0.5, 0.9]"
   ]
  },
  {
   "cell_type": "code",
   "execution_count": null,
   "metadata": {
    "hidden": true
   },
   "outputs": [],
   "source": [
    "experiment_results_v5_df.dtypes"
   ]
  },
  {
   "cell_type": "code",
   "execution_count": null,
   "metadata": {
    "hidden": true
   },
   "outputs": [],
   "source": [
    "experiment_results_v5_df\\\n",
    "    .loc[(experiment_results_v5_df['metrics.cv_test_accuracy_of_0_cases_list'] > 0.5)]\\\n",
    "    .iloc[:, 6:]"
   ]
  },
  {
   "cell_type": "markdown",
   "metadata": {
    "heading_collapsed": true
   },
   "source": [
    "# Getting features of model"
   ]
  },
  {
   "cell_type": "code",
   "execution_count": null,
   "metadata": {
    "hidden": true
   },
   "outputs": [],
   "source": [
    "def run_mlflow_exp_v6(curr_param_index, curr_params_dict):\n",
    "    # Set the experiment name\n",
    "    mlflow.set_tracking_uri(f'file://{experiment_base_path}')\n",
    "    #mlflow.set_experiment('V4-l1-Logistic_Regression_Exp')\n",
    "    \n",
    "    # Start a mlflow run\n",
    "    with mlflow.start_run():\n",
    "        mlflow.set_tag('description', \n",
    "        \"\"\"\n",
    "        In this run, I added a parameter that controls what lower quantile of the data is removed based on CoV.\n",
    "        \"\"\")\n",
    "        \n",
    "        # Define the model\n",
    "        log_regr_clf = LogisticRegression(penalty='l1',\n",
    "                                          C=curr_params_dict['C'],\n",
    "                                          class_weight=curr_params_dict['class_weight'],\n",
    "                                          random_state=110,\n",
    "                                          solver=curr_params_dict['solver'],\n",
    "                                          max_iter=curr_params_dict['max_iter'],\n",
    "                                          verbose=0,\n",
    "                                          n_jobs=None,\n",
    "                                          l1_ratio=None)\n",
    "        \n",
    "        #print(curr_param_index, curr_params_dict)\n",
    "        # Define the description and tags\n",
    "        #mlflow_funcs.define_description_and_tags(mlflow)\n",
    "\n",
    "        # Load the gene expression (GE) raw data from file\n",
    "        X, y, phenotype_df = data_loading.load_sc1_data()\n",
    "        \n",
    "        # Remove the lowest quartile of genes based on CoV\n",
    "        # Calculate the CoV\n",
    "        gene_expr_cov_list = 100 * (X.std(ddof=1, axis=0) / X.mean(axis=0))\n",
    "        \n",
    "        # Calculate the 0.25 quantile\n",
    "        min_cov_threshold = np.quantile(gene_expr_cov_list, q=[curr_params_dict['lower_quantile_removed_CoV']])[0]\n",
    "        \n",
    "        # Get a list of genes to removed\n",
    "        low_cov_gene_list = gene_expr_cov_list.loc[(gene_expr_cov_list < min_cov_threshold)].index.tolist()\n",
    "        \n",
    "        # Remove the lowest 0.25 quantile of genes based on CoV\n",
    "        X.drop(low_cov_gene_list, axis=1, inplace=True)\n",
    "\n",
    "        # Split into CV/test set using target class to stratify\n",
    "        X_cv, X_test, y_cv, y_test = train_test_split(X, y, test_size=0.2, stratify=y)\n",
    "        \n",
    "        # Run custom CV so I can train on over-sampled data but test on original data\n",
    "        kfold_obj = KFold(n_splits=5, shuffle=True)\n",
    "\n",
    "        cv_train_accuracy_list = []\n",
    "        cv_test_accuracy_list = []\n",
    "        cv_test_accuracy_of_0_cases_list = []\n",
    "        \n",
    "        for curr_train_iloc_list, curr_test_iloc_list in kfold_obj.split(X=X_cv, y=y_cv):\n",
    "\n",
    "            # Create current fold train data\n",
    "            curr_fold_X_train = X_cv.iloc[curr_train_iloc_list, ]\n",
    "            curr_fold_y_train = y_cv.iloc[curr_train_iloc_list, ]\n",
    "            \n",
    "            # Create current fold train data\n",
    "            curr_fold_X_test = X_cv.iloc[curr_test_iloc_list, ]\n",
    "            curr_fold_y_test = y_cv.iloc[curr_test_iloc_list, ]\n",
    "\n",
    "            # Run SMOTE on the X,y data\n",
    "            smote_obj = imblearn.over_sampling.SMOTE(sampling_strategy='auto', \n",
    "                                                     random_state=110, \n",
    "                                                     k_neighbors=5, \n",
    "                                                     n_jobs=None)\n",
    "\n",
    "            curr_fold_X_train_smote, curr_fold_y_train_smote = smote_obj.fit_sample(curr_fold_X_train, curr_fold_y_train)\n",
    "\n",
    "            # Train the model on the over-sampled (SMOTE) training data for this k-fold\n",
    "            log_regr_clf.fit(curr_fold_X_train_smote, curr_fold_y_train_smote)\n",
    "\n",
    "            # Calculate accuracy on non-oversampled data\n",
    "            curr_fold_y_train_pred = pd.Series(log_regr_clf.predict(curr_fold_X_train), index=curr_fold_y_train.index)\n",
    "            curr_fold_y_test_pred = pd.Series(log_regr_clf.predict(curr_fold_X_test), index=curr_fold_y_test.index)\n",
    "\n",
    "            # Calculate result metrics like accuracy\n",
    "            cv_train_accuracy_list.append((curr_fold_y_train_pred == curr_fold_y_train).mean())\n",
    "            cv_test_accuracy_list.append((curr_fold_y_test_pred == curr_fold_y_test).mean())\n",
    "            \n",
    "            # Calculate the test accuracy of target=0 cases\n",
    "            cv_test_accuracy_of_0_cases_list = np.mean(curr_fold_y_test_pred[(curr_fold_y_test == 0)] == 0)\n",
    "            \n",
    "        \n",
    "        # Run SMOTE on the full X_cv,y_cv data\n",
    "        smote_obj = imblearn.over_sampling.SMOTE(sampling_strategy='auto', \n",
    "                                                 random_state=110, \n",
    "                                                 k_neighbors=5, \n",
    "                                                 n_jobs=None)\n",
    "        X_cv_smote, y_cv_smote = smote_obj.fit_sample(X_cv, y_cv)\n",
    "        \n",
    "        # Train the model\n",
    "        log_regr_clf.fit(X_cv_smote, y_cv_smote)\n",
    "        \n",
    "        # Log parameters\n",
    "        mlflow.log_param(\"log10_C\", np.log10(curr_params_dict['C']))\n",
    "        mlflow.log_param(\"log10_max_iter\", np.log10(curr_params_dict['max_iter']))\n",
    "        mlflow.log_param(\"solver\", curr_params_dict['solver'])\n",
    "        mlflow.log_param(\"class_weight\", curr_params_dict['class_weight'])\n",
    "        mlflow.log_param(\"lower_quantile_removed_CoV\", curr_params_dict['lower_quantile_removed_CoV'])\n",
    "        \n",
    "        # Log accuracy metrics\n",
    "        mlflow.log_metric(\"cv_training_accuracy\", np.mean(cv_train_accuracy_list))\n",
    "        mlflow.log_metric(\"cv_test_accuracy\", np.mean(cv_test_accuracy_list))\n",
    "        mlflow.log_metric(\"cv_test_accuracy_of_0_cases_list\", np.mean(cv_test_accuracy_of_0_cases_list))\n",
    "\n",
    "        # Log count of non-zero features\n",
    "        mlflow.log_metric(\"count_non_zero_features\", np.sum(log_regr_clf.coef_[0] != 0))\n",
    "        \n",
    "        # Log sensitivity, specificity\n",
    "        \n",
    "        # Log AUC\n",
    "        \n",
    "        #mlflow.sklearn.log_model(svm_clf, \"model\")"
   ]
  },
  {
   "cell_type": "code",
   "execution_count": null,
   "metadata": {
    "hidden": true
   },
   "outputs": [],
   "source": [
    "# Define the model\n",
    "log_regr_clf = LogisticRegression(penalty='l1',\n",
    "                                  C=1e-1,\n",
    "                                  class_weight=None,\n",
    "                                  random_state=110,\n",
    "                                  solver='saga',\n",
    "                                  max_iter=50,\n",
    "                                  verbose=0,\n",
    "                                  n_jobs=None,\n",
    "                                  l1_ratio=None)\n",
    "\n",
    "# Load the gene expression (GE) raw data from file\n",
    "X, y, phenotype_df = data_loading.load_sc1_data()\n",
    "\n",
    "# Split into CV/test set using target class to stratify\n",
    "X_cv, X_test, y_cv, y_test = train_test_split(X, y, test_size=0.2, stratify=y)\n",
    "\n",
    "# Run SMOTE on the full X_cv,y_cv data\n",
    "smote_obj = imblearn.over_sampling.SMOTE(sampling_strategy='auto', \n",
    "                                         random_state=110, \n",
    "                                         k_neighbors=5, \n",
    "                                         n_jobs=None)\n",
    "X_cv_smote, y_cv_smote = smote_obj.fit_sample(X_cv, y_cv)\n",
    "\n",
    "# Train the model\n",
    "log_regr_clf.fit(X_cv_smote, y_cv_smote)"
   ]
  },
  {
   "cell_type": "code",
   "execution_count": null,
   "metadata": {
    "hidden": true
   },
   "outputs": [],
   "source": [
    "# Getting the top genes\n",
    "coef_list = pd.Series(log_regr_clf.coef_[0], index=X_cv.columns.tolist())\n",
    "\n",
    "for i in np.abs(coef_list).sort_values(ascending=False).head(100).index:\n",
    "    print(i)"
   ]
  },
  {
   "cell_type": "code",
   "execution_count": null,
   "metadata": {
    "hidden": true
   },
   "outputs": [],
   "source": [
    "[print(i) for i in coef_list.sort_values(ascending=False).head(50).index]"
   ]
  },
  {
   "cell_type": "code",
   "execution_count": null,
   "metadata": {
    "hidden": true
   },
   "outputs": [],
   "source": [
    "coef_list.sort_values(ascending=False).tail(50)"
   ]
  },
  {
   "cell_type": "markdown",
   "metadata": {
    "heading_collapsed": true
   },
   "source": [
    "# Exp 1 - Increasing maximum iters to see if performance improves"
   ]
  },
  {
   "cell_type": "code",
   "execution_count": null,
   "metadata": {
    "hidden": true
   },
   "outputs": [],
   "source": [
    "%%time\n",
    "\n",
    "# Set the experiment name\n",
    "mlflow.set_tracking_uri(f'file://{experiment_base_path}')\n",
    "mlflow.set_experiment('SC1-V9-Exp_1-L1-Logistic_Regression_Exp')\n",
    "    \n",
    "# Define the parameter grid\n",
    "param_dict = {'C': [1e-2, 1e-1, 1],\n",
    "             'max_iter': [1000, 10000],\n",
    "             'solver': ['saga'],\n",
    "             'class_weight': [None],\n",
    "             'lower_quantile_removed_CoV': [0, 0.25, 0.5, 0.9]}\n",
    "\n",
    "# Load the gene expression (GE) raw data from file\n",
    "X, y, phenotype_df = data_loading.load_sc1_data()\n",
    "        \n",
    "# Split into CV/test set using target class to stratify\n",
    "X_cv, X_test, y_cv, y_test = train_test_split(X, y, test_size=0.2, stratify=y, random_state=110)\n",
    "\n",
    "# Run mlflow runs in parallel\n",
    "results = joblib.Parallel(n_jobs=-1, backend='multiprocessing')\\\n",
    "    (joblib.delayed(run_mlflow_exp_v9)(X_cv, X_test, y_cv, y_test, curr_param_index, curr_params_dict)\\\n",
    "         for curr_param_index, curr_params_dict in enumerate(ParameterGrid(param_dict)))"
   ]
  },
  {
   "cell_type": "code",
   "execution_count": null,
   "metadata": {
    "hidden": true
   },
   "outputs": [],
   "source": [
    "# Get the experiment id from the experiment name\n",
    "curr_experiment_id=mlflow.get_experiment_by_name('SC1-V9-Exp_1-L1-Logistic_Regression_Exp').experiment_id\n",
    "\n",
    "experiment_results_v9_exp_1_df = mlflow.search_runs(experiment_ids=curr_experiment_id)\n",
    "\n",
    "# Melt the dataframe to get accuracy as a single column\n",
    "experiment_results_v9_exp_1_df_melt = experiment_results_v9_exp_1_df\\\n",
    "    .melt(id_vars=['run_id','metrics.count_non_zero_features','params.lower_quantile_removed_CoV',\n",
    "                   'params.log10_C','params.log10_max_iter'],\n",
    "          value_vars=['metrics.cv_training_accuracy','metrics.cv_test_accuracy',\n",
    "                      'metrics.cv_test_0_class_accuracy','metrics.test_accuracy','metrics.test_auc'],\n",
    "          var_name='train_or_cv',\n",
    "          value_name='accuracy')"
   ]
  },
  {
   "cell_type": "markdown",
   "metadata": {
    "hidden": true
   },
   "source": [
    "**Increaing the # of max_iterations from 1,000 to 10,000 didn't improve the performance**"
   ]
  },
  {
   "cell_type": "markdown",
   "metadata": {
    "heading_collapsed": true
   },
   "source": [
    "# Exp 2 - Investigating the train and test AUC"
   ]
  },
  {
   "cell_type": "code",
   "execution_count": null,
   "metadata": {
    "hidden": true,
    "scrolled": true
   },
   "outputs": [],
   "source": [
    "%%time\n",
    "\n",
    "# Set the experiment name\n",
    "mlflow.set_tracking_uri(f'file://{experiment_base_path}')\n",
    "mlflow.set_experiment('SC1-V9-Exp_2-L1-Logistic_Regression_Exp')\n",
    "    \n",
    "# Define the parameter grid\n",
    "# Define the parameter grid\n",
    "param_dict = {'C': np.logspace(-2, 0, 5).tolist() + np.logspace(1, 5, 3).tolist(),\n",
    "             'max_iter': [100, 1000],\n",
    "             'solver': ['saga'],\n",
    "             'class_weight': [None],\n",
    "             'lower_quantile_removed_CoV': [0, 0.25, 0.5, 0.9]}\n",
    "\n",
    "# Load the gene expression (GE) raw data from file\n",
    "X, y, phenotype_df = data_loading.load_sc1_data()\n",
    "        \n",
    "# Split into CV/test set using target class to stratify\n",
    "X_cv, X_test, y_cv, y_test = train_test_split(X, y, test_size=0.2, stratify=y, random_state=110)\n",
    "\n",
    "# Run mlflow runs in parallel\n",
    "results = joblib.Parallel(n_jobs=-1, backend='multiprocessing')\\\n",
    "    (joblib.delayed(run_mlflow_exp_v9)(X_cv, X_test, y_cv, y_test, curr_param_index, curr_params_dict)\\\n",
    "         for curr_param_index, curr_params_dict in enumerate(ParameterGrid(param_dict)))"
   ]
  },
  {
   "cell_type": "code",
   "execution_count": null,
   "metadata": {
    "hidden": true
   },
   "outputs": [],
   "source": [
    "# Get the experiment id from the experiment name\n",
    "curr_experiment_id=mlflow.get_experiment_by_name('SC1-V9-Exp_2-L1-Logistic_Regression_Exp').experiment_id\n",
    "\n",
    "experiment_results_v9_exp_2_df = mlflow.search_runs(experiment_ids=curr_experiment_id)\\\n",
    "    .rename(columns={'metrics.cv_test_accuracy_of_0_cases_list': 'metrics.cv_test_0_class_accuracy'})\n",
    "\n",
    "experiment_results_v9_exp_2_df.loc[:, ['params.log10_C','metrics.count_non_zero_features','metrics.train_auc','metrics.test_auc']]"
   ]
  },
  {
   "cell_type": "code",
   "execution_count": null,
   "metadata": {
    "hidden": true
   },
   "outputs": [],
   "source": [
    "experiment_results_v9_exp_2_df.loc[:, ['params.log10_C','metrics.count_non_zero_features',\n",
    "                                       'metrics.train_auc','metrics.cv_test_accuracy','metrics.test_auc']]\\\n",
    "    .iloc[31:80, :]\\\n",
    "    .sort_values('metrics.count_non_zero_features')"
   ]
  },
  {
   "cell_type": "code",
   "execution_count": null,
   "metadata": {
    "hidden": true
   },
   "outputs": [],
   "source": [
    "experiment_results_v9_exp_2_df\\\n",
    "    .iloc[[40,52], 6:]"
   ]
  },
  {
   "cell_type": "markdown",
   "metadata": {
    "hidden": true
   },
   "source": [
    "So it seems like using only ~30 predictors is not quite enough to generate a good model; The test accuracy and AUC is very close to 50%. This can be improved by "
   ]
  },
  {
   "cell_type": "markdown",
   "metadata": {},
   "source": [
    "# Exp 3 - Experimenting on multiple CV/Test data"
   ]
  },
  {
   "cell_type": "markdown",
   "metadata": {
    "heading_collapsed": true
   },
   "source": [
    "## Quick test"
   ]
  },
  {
   "cell_type": "code",
   "execution_count": null,
   "metadata": {
    "hidden": true
   },
   "outputs": [],
   "source": [
    "%%time\n",
    "\n",
    "# Set the experiment name\n",
    "mlflow.set_tracking_uri(f'file://{experiment_base_path}')\n",
    "mlflow.set_experiment('SC1-V10-TEST-L1-Logistic_Regression_Exp')\n",
    "\n",
    "# Load the gene expression (GE) raw data from file\n",
    "X, y, phenotype_df = data_loading.load_sc1_data()\n",
    "\n",
    "X_cv, X_test, y_cv, y_test = train_test_split(X, y, test_size=0.2, stratify=y)\n",
    "\n",
    "model_funcs.run_mlflow_exp_V10(X_cv, X_test, y_cv, y_test, test_param_dict, experiment_base_path)"
   ]
  },
  {
   "cell_type": "markdown",
   "metadata": {},
   "source": [
    "## Running full MLFlow Exp"
   ]
  },
  {
   "cell_type": "code",
   "execution_count": null,
   "metadata": {},
   "outputs": [],
   "source": [
    "%%time\n",
    "\n",
    "# Set the experiment name\n",
    "mlflow.set_tracking_uri(f'file://{experiment_base_path}')\n",
    "mlflow.set_experiment('SC1-V10-Exp_3-L1-Logistic_Regression_Exp')\n",
    "    \n",
    "# Define the parameter grid\n",
    "param_dict = {'C': np.logspace(-2, 0, 9).tolist() + np.logspace(1, 5, 3).tolist(),\n",
    "             'max_iter': [100],\n",
    "             'solver': ['saga'],\n",
    "             'class_weight': [None],\n",
    "             'lower_quantile_removed_CoV': [0, 0.25, 0.5, 0.9],\n",
    "             'use_smote': [True]}\n",
    "\n",
    "# Load the gene expression (GE) raw data from file\n",
    "X, y, phenotype_df = data_loading.load_sc1_data()\n",
    "\n",
    "for i in range(15):\n",
    "    # Split into CV/test set using target class to stratify\n",
    "    X_cv, X_test, y_cv, y_test = train_test_split(X, y, test_size=0.2, stratify=y, random_state=i)\n",
    "\n",
    "    #model_funcs.run_mlflow_exp_V10(X_cv, X_test, y_cv, y_test, test_param_dict, experiment_base_path)\n",
    "\n",
    "    # Run mlflow runs in parallel\n",
    "    results = joblib.Parallel(n_jobs=-1, backend='multiprocessing')\\\n",
    "        (joblib.delayed(model_funcs.run_mlflow_exp_V10)(X_cv, X_test, y_cv, y_test, curr_params_dict, experiment_base_path)\\\n",
    "             for curr_param_index, curr_params_dict in enumerate(ParameterGrid(param_dict)))"
   ]
  },
  {
   "cell_type": "markdown",
   "metadata": {},
   "source": [
    "## Creating a dataframe with experiment results"
   ]
  },
  {
   "cell_type": "code",
   "execution_count": 4,
   "metadata": {},
   "outputs": [],
   "source": [
    "# Get the experiment id from the experiment name\n",
    "curr_experiment_id=mlflow.get_experiment_by_name('SC1-V10-Exp_3-L1-Logistic_Regression_Exp').experiment_id\n",
    "\n",
    "experiment_results_sc1_v10_exp3_df = mlflow.search_runs(experiment_ids=curr_experiment_id)\\\n",
    "    .rename(columns={'metrics.cv_test_accuracy_of_0_cases_list': 'metrics.cv_test_0_class_accuracy'})\n",
    "\n",
    "# Melt the dataframe to get accuracy as a single column\n",
    "experiment_results_sc1_v10_exp3_df_melt = experiment_results_sc1_v10_exp3_df\\\n",
    "    .melt(id_vars=['run_id','metrics.count_non_zero_features','params.lower_quantile_removed_CoV','params.log10_C','params.log10_max_iter','params.use_smote'],\n",
    "          value_vars=['metrics.cv_training_accuracy','metrics.cv_test_accuracy','metrics.cv_test_0_class_accuracy'],\n",
    "          var_name='train_or_cv',\n",
    "          value_name='accuracy')\n",
    "\n",
    "experiment_results_sc1_v10_exp3_df_melt['metrics.log10_count_non_zero_features'] = np.log10(experiment_results_sc1_v10_exp3_df_melt['metrics.count_non_zero_features'] + 1)"
   ]
  },
  {
   "cell_type": "markdown",
   "metadata": {},
   "source": [
    "## Plotting the results"
   ]
  },
  {
   "cell_type": "code",
   "execution_count": 5,
   "metadata": {},
   "outputs": [
    {
     "name": "stderr",
     "output_type": "stream",
     "text": [
      "/home/alex/miniconda3/envs/precfda_bc/lib/python3.7/site-packages/seaborn/regression.py:546: UserWarning: The `size` paramter has been renamed to `height`; please update your code.\n",
      "  warnings.warn(msg, UserWarning)\n"
     ]
    },
    {
     "data": {
      "image/png": "[encoded data removed]",
      "text/plain": [
       "<Figure size 786.15x360 with 1 Axes>"
      ]
     },
     "metadata": {
      "needs_background": "light"
     },
     "output_type": "display_data"
    }
   ],
   "source": [
    "plot_df = experiment_results_sc1_v10_exp3_df_melt\\\n",
    "    .loc[experiment_results_sc1_v10_exp3_df_melt['metrics.count_non_zero_features'] > 1]\n",
    "\n",
    "sns.lmplot(x='metrics.log10_count_non_zero_features',\n",
    "           y='accuracy',\n",
    "           data=plot_df,\n",
    "           hue='train_or_cv', \n",
    "           fit_reg=True, size=5, aspect=1.25)\n",
    "\n",
    "ax = plt.gca()\n",
    "#ax.set_xscale('log')\n",
    "#ax.axvline(3, c='r', alpha=0.3)"
   ]
  },
  {
   "cell_type": "code",
   "execution_count": 8,
   "metadata": {},
   "outputs": [
    {
     "data": {
      "text/plain": [
       "<matplotlib.lines.Line2D at 0x7efbe918e550>"
      ]
     },
     "execution_count": 8,
     "metadata": {},
     "output_type": "execute_result"
    },
    {
     "data": {
      "image/png": "[encoded data removed]",
      "text/plain": [
       "<Figure size 864x432 with 1 Axes>"
      ]
     },
     "metadata": {
      "needs_background": "light"
     },
     "output_type": "display_data"
    }
   ],
   "source": [
    "plot_df = experiment_results_sc1_v10_exp3_df_melt\\\n",
    "    .loc[experiment_results_sc1_v10_exp3_df_melt['metrics.count_non_zero_features'] > 1]\n",
    "\n",
    "plt.figure(figsize=(12,6))\n",
    "ax=plt.gca()\n",
    "\n",
    "sns.boxplot(x='params.log10_C',\n",
    "           y='accuracy',\n",
    "           data=plot_df,\n",
    "           hue='train_or_cv', \n",
    "           order=['-2.0', '-1.75', '-1.5', '-1.0', '-0.5', '0.0', '1.0', '3.0', '5.0'],\n",
    "           ax=ax)\n",
    "\n",
    "ax.legend(bbox_to_anchor=(1.05,1))\n",
    "#ax.axhline(0.5, c='g')\n",
    "ax.axvline(1)"
   ]
  },
  {
   "cell_type": "markdown",
   "metadata": {},
   "source": [
    "In order to balance the performance of class 0 cases with overall test accuracy, a model with log10_C=-1.75 was chosen"
   ]
  },
  {
   "cell_type": "code",
   "execution_count": 19,
   "metadata": {},
   "outputs": [
    {
     "data": {
      "text/plain": [
       "<matplotlib.lines.Line2D at 0x7efbe9293750>"
      ]
     },
     "execution_count": 19,
     "metadata": {},
     "output_type": "execute_result"
    },
    {
     "data": {
      "image/png": "[encoded data removed]",
      "text/plain": [
       "<Figure size 864x360 with 1 Axes>"
      ]
     },
     "metadata": {
      "needs_background": "light"
     },
     "output_type": "display_data"
    }
   ],
   "source": [
    "plot_df = experiment_results_sc1_v10_exp3_df_melt\\\n",
    "    .loc[experiment_results_sc1_v10_exp3_df_melt['metrics.count_non_zero_features'] > 1]\\\n",
    "    .loc[experiment_results_sc1_v10_exp3_df_melt['params.log10_C'] == '-1.75']\n",
    "\n",
    "plt.figure(figsize=(12,5))\n",
    "ax=plt.gca()\n",
    "\n",
    "sns.boxplot(x='params.lower_quantile_removed_CoV',\n",
    "           y='accuracy',\n",
    "           data=plot_df,\n",
    "           hue='train_or_cv', \n",
    "           ax=ax)\n",
    "\n",
    "ax.legend(bbox_to_anchor=(1.05,1))\n",
    "ax.axhline(0.68, c='orange')\n",
    "#ax.axvline(1)"
   ]
  },
  {
   "cell_type": "markdown",
   "metadata": {},
   "source": [
    "After removing ~0.5 quantiles of lower CoV genes, the variance of class 0 accuracy increases. Therefore, I will remove only 0.25 quantiles of lower CoV genes. "
   ]
  },
  {
   "cell_type": "markdown",
   "metadata": {},
   "source": [
    "Final model:\n",
    "* log10_C=-1.75\n",
    "* lower_quantile_removed_CoV=0.25"
   ]
  },
  {
   "cell_type": "code",
   "execution_count": 10,
   "metadata": {},
   "outputs": [
    {
     "data": {
      "text/html": [
       "<div>\n",
       "<style scoped>\n",
       "    .dataframe tbody tr th:only-of-type {\n",
       "        vertical-align: middle;\n",
       "    }\n",
       "\n",
       "    .dataframe tbody tr th {\n",
       "        vertical-align: top;\n",
       "    }\n",
       "\n",
       "    .dataframe thead th {\n",
       "        text-align: right;\n",
       "    }\n",
       "</style>\n",
       "<table border=\"1\" class=\"dataframe\">\n",
       "  <thead>\n",
       "    <tr style=\"text-align: right;\">\n",
       "      <th></th>\n",
       "      <th>metrics.train_auc</th>\n",
       "      <th>metrics.test_accuracy</th>\n",
       "      <th>metrics.test_specificity</th>\n",
       "      <th>metrics.cv_test_accuracy</th>\n",
       "      <th>metrics.count_non_zero_features</th>\n",
       "      <th>metrics.cv_test_auc</th>\n",
       "      <th>metrics.test_auc</th>\n",
       "      <th>metrics.cv_test_0_class_accuracy</th>\n",
       "      <th>metrics.cv_training_accuracy</th>\n",
       "      <th>metrics.test_sensitivity</th>\n",
       "      <th>metrics.train_accuracy</th>\n",
       "    </tr>\n",
       "  </thead>\n",
       "  <tbody>\n",
       "    <tr>\n",
       "      <th>count</th>\n",
       "      <td>15.000000</td>\n",
       "      <td>15.000000</td>\n",
       "      <td>15.000000</td>\n",
       "      <td>15.000000</td>\n",
       "      <td>15.000000</td>\n",
       "      <td>15.000000</td>\n",
       "      <td>15.000000</td>\n",
       "      <td>15.000000</td>\n",
       "      <td>15.000000</td>\n",
       "      <td>15.000000</td>\n",
       "      <td>15.000000</td>\n",
       "    </tr>\n",
       "    <tr>\n",
       "      <th>mean</th>\n",
       "      <td>0.739493</td>\n",
       "      <td>0.673684</td>\n",
       "      <td>0.460000</td>\n",
       "      <td>0.680579</td>\n",
       "      <td>94.066667</td>\n",
       "      <td>0.591588</td>\n",
       "      <td>0.599798</td>\n",
       "      <td>0.510291</td>\n",
       "      <td>0.670139</td>\n",
       "      <td>0.706061</td>\n",
       "      <td>0.669615</td>\n",
       "    </tr>\n",
       "    <tr>\n",
       "      <th>std</th>\n",
       "      <td>0.017243</td>\n",
       "      <td>0.063142</td>\n",
       "      <td>0.118322</td>\n",
       "      <td>0.025117</td>\n",
       "      <td>13.863965</td>\n",
       "      <td>0.024298</td>\n",
       "      <td>0.077275</td>\n",
       "      <td>0.069335</td>\n",
       "      <td>0.014074</td>\n",
       "      <td>0.070789</td>\n",
       "      <td>0.018348</td>\n",
       "    </tr>\n",
       "    <tr>\n",
       "      <th>min</th>\n",
       "      <td>0.718107</td>\n",
       "      <td>0.578947</td>\n",
       "      <td>0.200000</td>\n",
       "      <td>0.644372</td>\n",
       "      <td>69.000000</td>\n",
       "      <td>0.544559</td>\n",
       "      <td>0.456061</td>\n",
       "      <td>0.384689</td>\n",
       "      <td>0.645031</td>\n",
       "      <td>0.590909</td>\n",
       "      <td>0.640385</td>\n",
       "    </tr>\n",
       "    <tr>\n",
       "      <th>25%</th>\n",
       "      <td>0.725244</td>\n",
       "      <td>0.618421</td>\n",
       "      <td>0.400000</td>\n",
       "      <td>0.659508</td>\n",
       "      <td>82.500000</td>\n",
       "      <td>0.575047</td>\n",
       "      <td>0.560606</td>\n",
       "      <td>0.446172</td>\n",
       "      <td>0.662732</td>\n",
       "      <td>0.659091</td>\n",
       "      <td>0.656731</td>\n",
       "    </tr>\n",
       "    <tr>\n",
       "      <th>50%</th>\n",
       "      <td>0.740089</td>\n",
       "      <td>0.684211</td>\n",
       "      <td>0.500000</td>\n",
       "      <td>0.680929</td>\n",
       "      <td>97.000000</td>\n",
       "      <td>0.589118</td>\n",
       "      <td>0.593939</td>\n",
       "      <td>0.519048</td>\n",
       "      <td>0.666982</td>\n",
       "      <td>0.696970</td>\n",
       "      <td>0.669231</td>\n",
       "    </tr>\n",
       "    <tr>\n",
       "      <th>75%</th>\n",
       "      <td>0.748018</td>\n",
       "      <td>0.723684</td>\n",
       "      <td>0.500000</td>\n",
       "      <td>0.696148</td>\n",
       "      <td>104.500000</td>\n",
       "      <td>0.607786</td>\n",
       "      <td>0.647727</td>\n",
       "      <td>0.554206</td>\n",
       "      <td>0.676895</td>\n",
       "      <td>0.757576</td>\n",
       "      <td>0.679808</td>\n",
       "    </tr>\n",
       "    <tr>\n",
       "      <th>max</th>\n",
       "      <td>0.776834</td>\n",
       "      <td>0.763158</td>\n",
       "      <td>0.700000</td>\n",
       "      <td>0.724372</td>\n",
       "      <td>115.000000</td>\n",
       "      <td>0.638368</td>\n",
       "      <td>0.712121</td>\n",
       "      <td>0.630556</td>\n",
       "      <td>0.696137</td>\n",
       "      <td>0.818182</td>\n",
       "      <td>0.711538</td>\n",
       "    </tr>\n",
       "  </tbody>\n",
       "</table>\n",
       "</div>"
      ],
      "text/plain": [
       "       metrics.train_auc  metrics.test_accuracy  metrics.test_specificity  \\\n",
       "count          15.000000              15.000000                 15.000000   \n",
       "mean            0.739493               0.673684                  0.460000   \n",
       "std             0.017243               0.063142                  0.118322   \n",
       "min             0.718107               0.578947                  0.200000   \n",
       "25%             0.725244               0.618421                  0.400000   \n",
       "50%             0.740089               0.684211                  0.500000   \n",
       "75%             0.748018               0.723684                  0.500000   \n",
       "max             0.776834               0.763158                  0.700000   \n",
       "\n",
       "       metrics.cv_test_accuracy  metrics.count_non_zero_features  \\\n",
       "count                 15.000000                        15.000000   \n",
       "mean                   0.680579                        94.066667   \n",
       "std                    0.025117                        13.863965   \n",
       "min                    0.644372                        69.000000   \n",
       "25%                    0.659508                        82.500000   \n",
       "50%                    0.680929                        97.000000   \n",
       "75%                    0.696148                       104.500000   \n",
       "max                    0.724372                       115.000000   \n",
       "\n",
       "       metrics.cv_test_auc  metrics.test_auc  \\\n",
       "count            15.000000         15.000000   \n",
       "mean              0.591588          0.599798   \n",
       "std               0.024298          0.077275   \n",
       "min               0.544559          0.456061   \n",
       "25%               0.575047          0.560606   \n",
       "50%               0.589118          0.593939   \n",
       "75%               0.607786          0.647727   \n",
       "max               0.638368          0.712121   \n",
       "\n",
       "       metrics.cv_test_0_class_accuracy  metrics.cv_training_accuracy  \\\n",
       "count                         15.000000                     15.000000   \n",
       "mean                           0.510291                      0.670139   \n",
       "std                            0.069335                      0.014074   \n",
       "min                            0.384689                      0.645031   \n",
       "25%                            0.446172                      0.662732   \n",
       "50%                            0.519048                      0.666982   \n",
       "75%                            0.554206                      0.676895   \n",
       "max                            0.630556                      0.696137   \n",
       "\n",
       "       metrics.test_sensitivity  metrics.train_accuracy  \n",
       "count                 15.000000               15.000000  \n",
       "mean                   0.706061                0.669615  \n",
       "std                    0.070789                0.018348  \n",
       "min                    0.590909                0.640385  \n",
       "25%                    0.659091                0.656731  \n",
       "50%                    0.696970                0.669231  \n",
       "75%                    0.757576                0.679808  \n",
       "max                    0.818182                0.711538  "
      ]
     },
     "execution_count": 10,
     "metadata": {},
     "output_type": "execute_result"
    }
   ],
   "source": [
    "experiment_results_sc1_v10_exp3_df\\\n",
    "    .loc[(experiment_results_sc1_v10_exp3_df['params.log10_C'] == '-1.75')\n",
    "        & (experiment_results_sc1_v10_exp3_df['params.lower_quantile_removed_CoV'] == '0.25')]\\\n",
    "    .filter(regex='metrics.*')\\\n",
    "    .describe()"
   ]
  },
  {
   "cell_type": "markdown",
   "metadata": {},
   "source": [
    "## Loading the feature lists for these models"
   ]
  },
  {
   "cell_type": "code",
   "execution_count": 11,
   "metadata": {},
   "outputs": [],
   "source": [
    "# Get the full run_id list for this experiment\n",
    "run_id_list = experiment_results_sc1_v10_exp3_df\\\n",
    "    .loc[(experiment_results_sc1_v10_exp3_df['params.log10_C'] == '-1.75')\n",
    "        & (experiment_results_sc1_v10_exp3_df['params.lower_quantile_removed_CoV'] == '0.25')]\\\n",
    "    ['run_id']"
   ]
  },
  {
   "cell_type": "code",
   "execution_count": 12,
   "metadata": {},
   "outputs": [],
   "source": [
    "full_feature_list = []\n",
    "\n",
    "for curr_run_id in run_id_list:\n",
    "    # Get the current run's artifact uri\n",
    "    curr_run = mlflow.get_run(run_id=curr_run_id)\n",
    "    curr_artifact_uri = curr_run.to_dictionary()['info']['artifact_uri']\n",
    "\n",
    "    # Get the feature list filepath\n",
    "    feature_list_filepath = glob.glob(f'{curr_artifact_uri[7:]}/*')[0]\n",
    "    \n",
    "    # Open the feature list file\n",
    "    with open(feature_list_filepath, 'r') as f:\n",
    "        # Get the first feature\n",
    "        curr_feature = f.readline()\n",
    "\n",
    "        # While the current feature name is not empty\n",
    "        while curr_feature != '':\n",
    "            # Add the feature to the full feature list\n",
    "            full_feature_list.append(f.readline().strip())\n",
    "            \n",
    "            # Get the next feature\n",
    "            curr_feature = f.readline()"
   ]
  },
  {
   "cell_type": "code",
   "execution_count": 13,
   "metadata": {},
   "outputs": [
    {
     "data": {
      "text/plain": [
       "(array([84., 29., 27., 26., 15., 13., 15.,  5.,  6.,  3.]),\n",
       " array([ 1. ,  1.9,  2.8,  3.7,  4.6,  5.5,  6.4,  7.3,  8.2,  9.1, 10. ]),\n",
       " <a list of 10 Patch objects>)"
      ]
     },
     "execution_count": 13,
     "metadata": {},
     "output_type": "execute_result"
    },
    {
     "data": {
      "image/png": "[encoded data removed]",
      "text/plain": [
       "<Figure size 432x288 with 1 Axes>"
      ]
     },
     "metadata": {
      "needs_background": "light"
     },
     "output_type": "display_data"
    }
   ],
   "source": [
    "full_sc1_feature_ser = pd.Series(full_feature_list)\n",
    "full_sc1_feature_counts_ser = full_sc1_feature_ser.value_counts()\n",
    "\n",
    "plt.hist(full_sc1_feature_counts_ser)"
   ]
  },
  {
   "cell_type": "markdown",
   "metadata": {},
   "source": [
    "This histogram shows that some features were found in nearly every model. These are the more likely candidates for predictive features"
   ]
  },
  {
   "cell_type": "markdown",
   "metadata": {},
   "source": [
    "* Looking at the PPI network of genes with >5 occurrences yielded a poorly connected network\n",
    "* Looking at the PPI of all genes yielded an extremely well connected network"
   ]
  },
  {
   "cell_type": "code",
   "execution_count": 16,
   "metadata": {},
   "outputs": [
    {
     "data": {
      "text/plain": [
       "PLAT            10\n",
       "SYTL4           10\n",
       "TIMP1           10\n",
       "FAM110C          9\n",
       "CRNDE            9\n",
       "FLJ16779         9\n",
       "SFRP2            9\n",
       "BMP2             9\n",
       "GOLGA8A          9\n",
       "SNHG19           8\n",
       "IGFBP2           8\n",
       "PDPN             8\n",
       "LINC01088        8\n",
       "MTHFD2           8\n",
       "DLL3             7\n",
       "LPL              7\n",
       "NMB              7\n",
       "NRN1             7\n",
       "ARHGEF26.AS1     7\n",
       "EMP3             7\n",
       "TPPP3            7\n",
       "ENC1             7\n",
       "SELL             7\n",
       "CASTOR1          7\n",
       "                 7\n",
       "SRPX             7\n",
       "IL13RA2          7\n",
       "CXCL14           7\n",
       "EMX2             7\n",
       "ADM              6\n",
       "RCAN2            6\n",
       "PRKX             6\n",
       "FERMT1           6\n",
       "SLC14A1          6\n",
       "ASS1             6\n",
       "LHFPL3           6\n",
       "TMEM100          6\n",
       "SLC39A12         6\n",
       "SERPINE1         6\n",
       "CHI3L1           6\n",
       "RBP1             6\n",
       "BCHE             6\n",
       "SLC24A3          5\n",
       "NEFH             5\n",
       "SNX10            5\n",
       "TMEM158          5\n",
       "AKR1C3           5\n",
       "PCP4             5\n",
       "SHD              5\n",
       "PKIB             5\n",
       "GBP1             5\n",
       "KLRC3            5\n",
       "C2orf27A         5\n",
       "HOXC10           5\n",
       "AMIGO2           5\n",
       "CNTN3            5\n",
       "NKAIN4           5\n",
       "dtype: int64"
      ]
     },
     "execution_count": 16,
     "metadata": {},
     "output_type": "execute_result"
    }
   ],
   "source": [
    "full_sc1_feature_counts_ser.loc[full_sc1_feature_counts_ser >= 5]"
   ]
  },
  {
   "cell_type": "markdown",
   "metadata": {},
   "source": [
    "## Output the final feature list"
   ]
  },
  {
   "cell_type": "code",
   "execution_count": null,
   "metadata": {},
   "outputs": [],
   "source": [
    "with open('./../../data/intermediate/GE_feature_list.txt', 'w') as f:\n",
    "    for curr_feature in np.sort(np.unique(full_feature_list)):\n",
    "        if len(curr_feature) > 0:\n",
    "            f.write(f'{curr_feature}\\n')"
   ]
  },
  {
   "cell_type": "markdown",
   "metadata": {},
   "source": [
    "## Getting the final metrics"
   ]
  },
  {
   "cell_type": "code",
   "execution_count": null,
   "metadata": {},
   "outputs": [],
   "source": [
    "experiment_results_sc1_v10_exp3_df_final = experiment_results_sc1_v10_exp3_df\\\n",
    "    .loc[(experiment_results_sc1_v10_exp3_df['params.log10_C'] == '-1.75')\n",
    "        & (experiment_results_sc1_v10_exp3_df['params.lower_quantile_removed_CoV'] == '0.25')]"
   ]
  },
  {
   "cell_type": "code",
   "execution_count": null,
   "metadata": {},
   "outputs": [],
   "source": [
    "experiment_results_sc1_v10_exp3_df_final"
   ]
  },
  {
   "cell_type": "code",
   "execution_count": null,
   "metadata": {},
   "outputs": [],
   "source": [
    "experiment_results_sc1_v10_exp3_df_final\\\n",
    "    .filter(regex='metrics.*')\\\n",
    "    [['metrics.test_accuracy','metrics.train_auc','metrics.test_auc']]\\\n",
    "    .describe()"
   ]
  },
  {
   "cell_type": "code",
   "execution_count": null,
   "metadata": {},
   "outputs": [],
   "source": []
  }
 ],
 "metadata": {
  "kernelspec": {
   "display_name": "Python 3",
   "language": "python",
   "name": "python3"
  },
  "language_info": {
   "codemirror_mode": {
    "name": "ipython",
    "version": 3
   },
   "file_extension": ".py",
   "mimetype": "text/x-python",
   "name": "python",
   "nbconvert_exporter": "python",
   "pygments_lexer": "ipython3",
   "version": "3.7.6"
  },
  "notify_time": "30",
  "toc": {
   "base_numbering": 1,
   "nav_menu": {},
   "number_sections": true,
   "sideBar": true,
   "skip_h1_title": false,
   "title_cell": "Table of Contents",
   "title_sidebar": "Contents",
   "toc_cell": false,
   "toc_position": {
    "height": "calc(100% - 180px)",
    "left": "10px",
    "top": "150px",
    "width": "370.25px"
   },
   "toc_section_display": true,
   "toc_window_display": true
  }
 },
 "nbformat": 4,
 "nbformat_minor": 4
}
