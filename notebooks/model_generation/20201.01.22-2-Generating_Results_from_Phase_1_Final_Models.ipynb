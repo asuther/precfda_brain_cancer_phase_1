{
 "cells": [
  {
   "cell_type": "markdown",
   "metadata": {},
   "source": [
    "# Generating_Results_from_Phase_1_Final_Models"
   ]
  },
  {
   "cell_type": "markdown",
   "metadata": {},
   "source": [
    "# Inits"
   ]
  },
  {
   "cell_type": "markdown",
   "metadata": {},
   "source": [
    "## Imports"
   ]
  },
  {
   "cell_type": "code",
   "execution_count": 1,
   "metadata": {},
   "outputs": [],
   "source": [
    "%load_ext autoreload\n",
    "%autoreload 2\n",
    "import numpy as np\n",
    "import pandas as pd\n",
    "\n",
    "from sklearn.model_selection import train_test_split\n",
    "import data_loading\n",
    "import model_funcs\n",
    "\n",
    "import joblib"
   ]
  },
  {
   "cell_type": "markdown",
   "metadata": {},
   "source": [
    "## Definitions"
   ]
  },
  {
   "cell_type": "code",
   "execution_count": 2,
   "metadata": {},
   "outputs": [],
   "source": [
    "writeup_metrics_list = ['train_accuracy','test_accuracy',\n",
    "                        'test_specificity','test_sensitivity',\n",
    "                        'train_auc','test_auc']"
   ]
  },
  {
   "cell_type": "markdown",
   "metadata": {},
   "source": [
    "## Funcs"
   ]
  },
  {
   "cell_type": "markdown",
   "metadata": {},
   "source": [
    "### Generating results for a single cv/holdout set"
   ]
  },
  {
   "cell_type": "code",
   "execution_count": 3,
   "metadata": {},
   "outputs": [],
   "source": [
    "def generate_results_model_results(X, y, param_dict, i):\n",
    "    # Split into CV/test set using target class to stratify\n",
    "    X_cv, X_test, y_cv, y_test = train_test_split(X, y, test_size=0.2, stratify=y, random_state=i)\n",
    "\n",
    "    # Generate the results for this repeat\n",
    "    curr_results_dict = model_funcs.run_experiment_without_mlflow(X_cv, X_test, y_cv, y_test, param_dict)\n",
    "    \n",
    "    # Return the results\n",
    "    return curr_results_dict"
   ]
  },
  {
   "cell_type": "markdown",
   "metadata": {},
   "source": [
    "### Print out summary metrics"
   ]
  },
  {
   "cell_type": "code",
   "execution_count": 4,
   "metadata": {},
   "outputs": [],
   "source": [
    "def print_summary_metrics(results_dict_list):\n",
    "    # For each summary metric for the writeup\n",
    "    for curr_metric in writeup_metrics_list:\n",
    "        # Create an empty list for the metric\n",
    "        curr_metric_list = []\n",
    "\n",
    "        # For each run\n",
    "        for curr_results_dict in results_dict_list:\n",
    "            # Append the run's metric value to the full list\n",
    "            curr_metric_list.append(curr_results_dict[curr_metric])\n",
    "\n",
    "        # Print the average metric value\n",
    "        print(f'{curr_metric}: {np.mean(curr_metric_list):0.3f}')"
   ]
  },
  {
   "cell_type": "markdown",
   "metadata": {},
   "source": [
    "### Calculate average confusion matrix"
   ]
  },
  {
   "cell_type": "code",
   "execution_count": 5,
   "metadata": {},
   "outputs": [],
   "source": [
    "def calculate_avg_confusion_matrix(results_dict_list):\n",
    "    \n",
    "    full_confusion_matrix_df = pd.DataFrame({'0_pred': [0,0],\n",
    "                                             '1_pred': [0,0]},\n",
    "                                           index=['0_actual','1_actual'])\n",
    "\n",
    "    for curr_results_dict in results_dict_list:\n",
    "        full_confusion_matrix_df += curr_results_dict['confusion_matrix']\n",
    "\n",
    "    # Calculate the average\n",
    "    average_confusion_matrix_df = full_confusion_matrix_df / len(results_dict_list)\n",
    "    \n",
    "    # Printing out TP, FP, TN, FN\n",
    "    print(f\"Avg. Predictions: {average_confusion_matrix_df.sum().sum()}\")\n",
    "    print(f\"Avg. TP: {average_confusion_matrix_df.loc['1_actual','1_pred']}\")\n",
    "    print(f\"Avg. FP: {average_confusion_matrix_df.loc['0_actual','1_pred']}\")\n",
    "    print(f\"Avg. TN: {average_confusion_matrix_df.loc['0_actual','0_pred']}\")\n",
    "    print(f\"Avg. FN: {average_confusion_matrix_df.loc['1_actual','0_pred']}\")"
   ]
  },
  {
   "cell_type": "markdown",
   "metadata": {},
   "source": [
    "### Generate feature list"
   ]
  },
  {
   "cell_type": "code",
   "execution_count": 6,
   "metadata": {},
   "outputs": [],
   "source": [
    "def get_feature_list(results_dict_list):\n",
    "    full_feature_list = []\n",
    "\n",
    "    for curr_results_dict in results_dict_list:\n",
    "        full_feature_list.extend(curr_results_dict['feature_list'])\n",
    "        \n",
    "    # Remove any empty feature from the final list\n",
    "    full_feature_ser = pd.Series([curr_feature for curr_feature in full_feature_list if len(curr_feature) > 0])\n",
    "\n",
    "    return full_feature_ser"
   ]
  },
  {
   "cell_type": "markdown",
   "metadata": {},
   "source": [
    "### Get the sorted, unique feature list"
   ]
  },
  {
   "cell_type": "code",
   "execution_count": 7,
   "metadata": {},
   "outputs": [],
   "source": [
    "def get_unique_sorted_feature_list(results_dict_list):\n",
    "    feature_ser = get_feature_list(results_dict_list)\n",
    "    \n",
    "    #print(join_str.join(feature_ser.value_counts().index.tolist()))\n",
    "    \n",
    "    return feature_ser.value_counts().index.tolist()"
   ]
  },
  {
   "cell_type": "markdown",
   "metadata": {},
   "source": [
    "# Sub-Challenge 1"
   ]
  },
  {
   "cell_type": "markdown",
   "metadata": {},
   "source": [
    "## SC1 Definitions"
   ]
  },
  {
   "cell_type": "code",
   "execution_count": 8,
   "metadata": {},
   "outputs": [],
   "source": [
    "# Define the parameter grid\n",
    "sc1_param_dict = {'C': 10**-1.75,\n",
    "             'max_iter': 100,\n",
    "             'solver': 'saga',\n",
    "             'class_weight': None,\n",
    "             'lower_quantile_removed_CoV': 0.25,\n",
    "             'use_smote': True}"
   ]
  },
  {
   "cell_type": "markdown",
   "metadata": {},
   "source": [
    "## Generating model results"
   ]
  },
  {
   "cell_type": "code",
   "execution_count": null,
   "metadata": {
    "scrolled": true
   },
   "outputs": [],
   "source": [
    "%%time\n",
    "# Load the gene expression (GE) raw data from file\n",
    "X_sc1, y_sc1, phenotype_df = data_loading.load_sc1_data()\n",
    "\n",
    "# Generate results for 15 different cv/test splits\n",
    "sc1_results_dict_list = joblib.Parallel(n_jobs=-1, backend='multiprocessing')\\\n",
    "        (joblib.delayed(generate_results_model_results)(X_sc1, y_sc1, sc1_param_dict, i)\\\n",
    "             for i in range(15))"
   ]
  },
  {
   "cell_type": "markdown",
   "metadata": {},
   "source": [
    "## Output results"
   ]
  },
  {
   "cell_type": "code",
   "execution_count": 10,
   "metadata": {},
   "outputs": [
    {
     "name": "stdout",
     "output_type": "stream",
     "text": [
      "Avg. Predictions: 76.0\n",
      "Avg. TP: 46.6\n",
      "Avg. FP: 5.4\n",
      "Avg. TN: 4.6\n",
      "Avg. FN: 19.4\n",
      "\n",
      "train_accuracy: 0.670\n",
      "test_accuracy: 0.674\n",
      "test_specificity: 0.460\n",
      "test_sensitivity: 0.706\n",
      "train_auc: 0.739\n",
      "test_auc: 0.600\n",
      "\n",
      "MTHFD2, IGFBP2, FERMT1, CHI3L1, LINC01088, IL13RA2, EMP3, RBP1, BMP2, PLAT, TMEM100, SYTL4, TIMP1, GOLGA8A, FLJ16779, NRN1, FAM110C, SNX10, SFRP2, ADM, CXCL14, CRNDE, PRKX, ARL4C, SELL, ENC1, SHD, HOXA5, CASTOR1, SLC14A1, EMX2, SERPINE1, CNTN3, NMB, DLL3, LPL, SNHG19, PDPN, SLC24A3, TOX3, PHLDA2, NKAIN4, PKIB, TMEM158, SRPX, LHFPL3, SNHG1, TPPP3, RCAN2, AKR1C3, BEST3, KLRC3, ARHGEF26.AS1, AMIGO2, BCHE, TENM2, LTF, MT1X, USP54, P2RY12, HOXC6, PCP4, SLC39A12, NEFH, MAOB, GBP1, C2orf27A, ETNPPL, GPX3, CAP2, NEFL, HAPLN1, SYT1, RIDA, ID1, CHI3L2, PTX3, ASS1, CCL2, ANXA1, COL1A1, H19, GJB2, BCAN, FXYD1, ESM1, HOXC10, COL4A2, SPON1, GPR34, LRRN1, COL1A2, PDE8B, LOXL1, SCG3, STOX1, COL4A1, CSRP2, LRP1B, TRDC, COL3A1, CNDP1, NXPH1, CP, ZBTB16, MERTK, RNF180, PCDHB7, LRP4, SERPING1, ADAMTS1, OLIG2, SLC4A4, GALNT13, VEGFA, TOP2A, COL15A1, CSMD3, SERPINA3, EIF3E, AZGP1, GDA, CSDC2, SYNGR3, WDFY3.AS2, HES6, CAV1, KIAA1211, ETV1, SMOC1, C9orf24, LOC401261, EBF1, HFM1, TM4SF1, RGS10, DNM1, METTL7B, MCUB, SOD2, CHST9, ID4, CENPV, NET1, RASSF4, ATP1B1, PIRT, NTN4, CBR1, GAP43, VANGL2, KISS1R, FREM2, CYR61, VSNL1, IGKC, TTLL7, NSUN6, SOX8, HEY2, STMN2, CALCRL, ISG15, MYLK, LOC389906, LYPD1, SLC40A1, GABRB1, LINC01094, SHISA6, KCNT2, ST18, RNF128, NPTX2, APLNR, RGS4, PLK2, PCDHB16, CTHRC1, KIF4A, GPNMB, TMEM178A, PROM1, LGALS1, CCK, SLCO1C1, ID3, SCN2A, RAB3IP, MN1, MS4A4A, RRM2, LRRC1, EBF4, SELENBP1, CDH10, ST3GAL6, TRIL, GAS1, CPS1, HAUS4, PDLIM4, ENPP2, TAC1, DNER, AMPH, COL21A1, CA2, CX3CR1, ZMAT1, AMH, ABCC8, CPE, C11orf96, XIST, TNFRSF12A, CRB1, RTKN, YEATS4, MALAT1, GAREM2, RDH10, C1QB, ABI3BP, BCAT1, SESN1, OLFM1, FCGBP, FSTL5, MX1, TSPYL5, SYNPR, ADGRL2, SLC22A15, ADCYAP1R1, SLC12A5, RAPGEF4, C1R, ZNF404, PLPPR4, PHYHD1, NME7, LNX1, CRLF1, LY6H, LINC00844, GRAMD2B, ABLIM3, ABCA8, PLLP, GRB14, PLA2G2A, RIN2, FABP7, S100A8, PBK, BST2, USH1C, CCNB1IP1, KIZ, DAAM2, ASB3, PRLHR, MSTN, IRX1, OCIAD2, CAMK2N1, LCAT, MAN1C1, KCNN2, POSTN, CRYM, SOX4, C1orf115, NEFM, MYC, COL5A1, CA3, CD93\n"
     ]
    }
   ],
   "source": [
    "# Average confusion matrix\n",
    "calculate_avg_confusion_matrix(sc1_results_dict_list)\n",
    "\n",
    "# Accuracy, AUC, etc.\n",
    "print()\n",
    "print_summary_metrics(sc1_results_dict_list)\n",
    "\n",
    "# Feature list\n",
    "print()\n",
    "print(', '.join(get_unique_sorted_feature_list(sc1_results_dict_list)))"
   ]
  },
  {
   "cell_type": "markdown",
   "metadata": {},
   "source": [
    "# Sub-Challenge 2"
   ]
  },
  {
   "cell_type": "markdown",
   "metadata": {},
   "source": [
    "## SC2 Definitions"
   ]
  },
  {
   "cell_type": "code",
   "execution_count": 11,
   "metadata": {},
   "outputs": [],
   "source": [
    "# Define the parameter grid\n",
    "sc2_param_dict = {'C': 10**-1.25,\n",
    "             'max_iter': 100,\n",
    "             'solver': 'saga',\n",
    "             'class_weight': None,\n",
    "             'lower_quantile_removed_CoV': 0.25,\n",
    "             'use_smote': True}"
   ]
  },
  {
   "cell_type": "markdown",
   "metadata": {},
   "source": [
    "## Generating model results"
   ]
  },
  {
   "cell_type": "code",
   "execution_count": null,
   "metadata": {
    "scrolled": true
   },
   "outputs": [],
   "source": [
    "%%time\n",
    "# Load the gene expression (GE) raw data from file\n",
    "X_sc2, y_sc2, phenotype_df = data_loading.load_sc2_data()\n",
    "\n",
    "# Generate results for 15 different cv/test splits\n",
    "sc2_results_dict_list = joblib.Parallel(n_jobs=-1, backend='multiprocessing')\\\n",
    "        (joblib.delayed(generate_results_model_results)(X_sc2, y_sc2, sc2_param_dict, i)\\\n",
    "             for i in range(15))"
   ]
  },
  {
   "cell_type": "markdown",
   "metadata": {},
   "source": [
    "## Output results"
   ]
  },
  {
   "cell_type": "code",
   "execution_count": 13,
   "metadata": {
    "scrolled": true
   },
   "outputs": [
    {
     "name": "stdout",
     "output_type": "stream",
     "text": [
      "Avg. Predictions: 35.0\n",
      "Avg. TP: 14.266666666666667\n",
      "Avg. FP: 3.2\n",
      "Avg. TN: 5.8\n",
      "Avg. FN: 11.733333333333333\n",
      "\n",
      "train_accuracy: 0.657\n",
      "test_accuracy: 0.573\n",
      "test_specificity: 0.644\n",
      "test_sensitivity: 0.549\n",
      "train_auc: 0.705\n",
      "test_auc: 0.630\n",
      "\n",
      "9p21.3, 7q31.1, 1p31.3, 7p15.3, 10p15.3, 8q24.13, 7p15.1, 8q23.1, 7q31.2, 9p24.1, 21q21.1, 1p31.1\n"
     ]
    }
   ],
   "source": [
    "# Average confusion matrix\n",
    "calculate_avg_confusion_matrix(sc2_results_dict_list)\n",
    "\n",
    "# Accuracy, AUC, etc.\n",
    "print()\n",
    "print_summary_metrics(sc2_results_dict_list)\n",
    "\n",
    "# Feature list\n",
    "print()\n",
    "print(', '.join(get_unique_sorted_feature_list(sc2_results_dict_list)))"
   ]
  },
  {
   "cell_type": "markdown",
   "metadata": {},
   "source": [
    "# Sub-Challenge 3"
   ]
  },
  {
   "cell_type": "markdown",
   "metadata": {},
   "source": [
    "## SC3 Definitions"
   ]
  },
  {
   "cell_type": "code",
   "execution_count": 14,
   "metadata": {},
   "outputs": [],
   "source": [
    "# Define the parameter grid\n",
    "sc3_param_dict = {'C': 10**-1.25,\n",
    "                  'max_iter': 100,\n",
    "                  'solver': 'saga',\n",
    "                  'class_weight': None,\n",
    "                  'lower_quantile_removed_CoV': 0.25,\n",
    "                  'use_smote': True,\n",
    "                  'feature_list_name': 'trunc_genes_trunc_cnvs'}"
   ]
  },
  {
   "cell_type": "markdown",
   "metadata": {},
   "source": [
    "## Generating model results"
   ]
  },
  {
   "cell_type": "code",
   "execution_count": null,
   "metadata": {
    "scrolled": true
   },
   "outputs": [],
   "source": [
    "%%time\n",
    "# Load the gene expression (GE) raw data from file\n",
    "X_sc3, y_sc3, phenotype_df = data_loading.load_sc3_data()\n",
    "\n",
    "# Get the feature lists from SC1 and SC2\n",
    "sc3_feature_list = get_unique_sorted_feature_list(sc1_results_dict_list) + get_unique_sorted_feature_list(sc2_results_dict_list)\n",
    "\n",
    "# Subset the SC3 X features\n",
    "X_sc3 = X_sc3[sc3_feature_list]\n",
    "\n",
    "# Generate results for 15 different cv/test splits\n",
    "sc3_results_dict_list = joblib.Parallel(n_jobs=-1, backend='multiprocessing')\\\n",
    "        (joblib.delayed(generate_results_model_results)(X_sc3, y_sc3, sc3_param_dict, i)\\\n",
    "             for i in range(15))"
   ]
  },
  {
   "cell_type": "markdown",
   "metadata": {},
   "source": [
    "## Output results"
   ]
  },
  {
   "cell_type": "code",
   "execution_count": 16,
   "metadata": {
    "scrolled": true
   },
   "outputs": [
    {
     "name": "stdout",
     "output_type": "stream",
     "text": [
      "Avg. Predictions: 34.0\n",
      "Avg. TP: 21.333333333333332\n",
      "Avg. FP: 4.066666666666666\n",
      "Avg. TN: 3.933333333333333\n",
      "Avg. FN: 4.666666666666667\n",
      "\n",
      "train_accuracy: 0.806\n",
      "test_accuracy: 0.743\n",
      "test_specificity: 0.492\n",
      "test_sensitivity: 0.821\n",
      "train_auc: 0.892\n",
      "test_auc: 0.734\n",
      "\n",
      "STMN2, SYTL4, LINC01088, CHI3L1, RNF180, 9p21.3, EMX2, SFRP2, MN1, TIMP1, CXCL14, SLC39A12, TMEM158, BCHE, TMEM100, LY6H, ID1, ABI3BP, ADM, SLC14A1, HOXA5, PLAT, IGFBP2, CRLF1, HOXC10, MTHFD2, NRN1, PLK2, LTF, CHST9, LINC00844, IGKC, CENPV, LPL, SYT1, TENM2, HOXC6, 7q31.1, ASS1, DNM1, C9orf24, KIAA1211, SPON1, SLC24A3, KIF4A, RBP1, NEFH, SCN2A, POSTN, LRP1B, ESM1, SLC12A5, GDA, CNTN3, ST18, PLA2G2A, ETNPPL, TAC1, XIST, TOX3, NEFL, NTN4, SYNPR, GJB2, OLFM1, PRKX, GPR34, GRB14, 8q23.1, OLIG2, COL4A1, FCGBP, BCAN, RRM2, PBK, ETV1, STOX1, CNDP1, NEFM, IRX1, AMPH, CCK, HAPLN1, LRRN1, COL4A2, PCDHB16, FERMT1, 7p15.3, CX3CR1, SERPINE1, MYLK, TOP2A, TRIL, PCDHB7, P2RY12\n"
     ]
    }
   ],
   "source": [
    "# Average confusion matrix\n",
    "calculate_avg_confusion_matrix(sc3_results_dict_list)\n",
    "\n",
    "# Accuracy, AUC, etc.\n",
    "print()\n",
    "print_summary_metrics(sc3_results_dict_list)\n",
    "\n",
    "# Feature list\n",
    "print()\n",
    "print(', '.join(get_unique_sorted_feature_list(sc3_results_dict_list)))"
   ]
  },
  {
   "cell_type": "code",
   "execution_count": null,
   "metadata": {},
   "outputs": [],
   "source": []
  }
 ],
 "metadata": {
  "kernelspec": {
   "display_name": "Python 3",
   "language": "python",
   "name": "python3"
  },
  "language_info": {
   "codemirror_mode": {
    "name": "ipython",
    "version": 3
   },
   "file_extension": ".py",
   "mimetype": "text/x-python",
   "name": "python",
   "nbconvert_exporter": "python",
   "pygments_lexer": "ipython3",
   "version": "3.7.6"
  },
  "toc": {
   "base_numbering": 1,
   "nav_menu": {},
   "number_sections": true,
   "sideBar": true,
   "skip_h1_title": false,
   "title_cell": "Table of Contents",
   "title_sidebar": "Contents",
   "toc_cell": false,
   "toc_position": {},
   "toc_section_display": true,
   "toc_window_display": true
  }
 },
 "nbformat": 4,
 "nbformat_minor": 4
}
