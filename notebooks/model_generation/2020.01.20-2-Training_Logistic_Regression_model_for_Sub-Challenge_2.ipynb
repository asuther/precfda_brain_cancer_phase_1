{
 "cells": [
  {
   "cell_type": "markdown",
   "metadata": {},
   "source": [
    "# Training_Logistic_Regression_model_for_Sub-Challenge_2"
   ]
  },
  {
   "cell_type": "markdown",
   "metadata": {},
   "source": [
    "**Background:**\n",
    "\n",
    "**Purpose:** To train a logistic regression model for sub-challenge 2 using the MLFlow setup from Sub-Challenge 1\n",
    "\n",
    "**Methods:**\n",
    ">1. Introduction\n",
    ">2. Inits\n",
    "\n",
    "**Conclusions:**\n",
    "* Again, using SMOTE over-sampling improves the class 0 performance\n",
    "* Final model:\n",
    "   * log10_C=-1.25\n",
    "   * lower_quantile_removed_CoV=0.25"
   ]
  },
  {
   "cell_type": "markdown",
   "metadata": {},
   "source": [
    "# Inits"
   ]
  },
  {
   "cell_type": "markdown",
   "metadata": {},
   "source": [
    "## Imports"
   ]
  },
  {
   "cell_type": "code",
   "execution_count": 1,
   "metadata": {},
   "outputs": [
    {
     "name": "stderr",
     "output_type": "stream",
     "text": [
      "/home/alex/miniconda3/envs/precfda_bc/lib/python3.7/site-packages/patsy/constraint.py:13: DeprecationWarning: Using or importing the ABCs from 'collections' instead of from 'collections.abc' is deprecated since Python 3.3,and in 3.9 it will stop working\n",
      "  from collections import Mapping\n"
     ]
    }
   ],
   "source": [
    "%load_ext autoreload\n",
    "%autoreload 2\n",
    "import numpy as np\n",
    "import pandas as pd\n",
    "\n",
    "%matplotlib inline\n",
    "import matplotlib.pyplot as plt\n",
    "import seaborn as sns\n",
    "sns.set_context(context='notebook', font_scale=1.5)\n",
    "\n",
    "import logging\n",
    "logging.basicConfig()\n",
    "logger = logging.getLogger()\n",
    "logger.setLevel(logging.INFO)\n",
    "\n",
    "from sklearn.model_selection import train_test_split, ParameterGrid\n",
    "from sklearn.linear_model import LogisticRegression\n",
    "\n",
    "import mlflow\n",
    "\n",
    "# Load my own custom module\n",
    "import data_loading\n",
    "import model_funcs\n",
    "import constants\n",
    "\n",
    "import imblearn\n",
    "import joblib\n",
    "\n",
    "from sklearn.model_selection import cross_val_score\n",
    "from sklearn.model_selection import KFold\n",
    "import sklearn.metrics as skl_metrics\n",
    "\n",
    "from plotnine import *"
   ]
  },
  {
   "cell_type": "markdown",
   "metadata": {},
   "source": [
    "## Definitions"
   ]
  },
  {
   "cell_type": "code",
   "execution_count": 2,
   "metadata": {},
   "outputs": [],
   "source": [
    "experiment_base_path = f'{constants.base_dir}/mlruns/'\n",
    "\n",
    "test_param_dict = {'C': 1e-1,\n",
    "                 'max_iter': 100,\n",
    "                 'solver': 'saga',\n",
    "                 'class_weight': None,\n",
    "                 'lower_quantile_removed_CoV': 0,\n",
    "                  'use_smote': True}"
   ]
  },
  {
   "cell_type": "markdown",
   "metadata": {},
   "source": [
    "## Funcs"
   ]
  },
  {
   "cell_type": "markdown",
   "metadata": {
    "heading_collapsed": true
   },
   "source": [
    "### Running mlflow experiment"
   ]
  },
  {
   "cell_type": "code",
   "execution_count": null,
   "metadata": {
    "hidden": true
   },
   "outputs": [],
   "source": [
    "def run_mlflow_exp_v8(X_cv_orig, X_test_orig, y_cv_orig, y_test_orig, curr_param_index, curr_params_dict):\n",
    "    \n",
    "    X_cv = X_cv_orig.copy()\n",
    "    X_test = X_test_orig.copy()\n",
    "    y_cv = y_cv_orig.copy()\n",
    "    y_test = y_test_orig.copy()\n",
    "    \n",
    "    # Set the experiment name\n",
    "    mlflow.set_tracking_uri(f'file://{experiment_base_path}')\n",
    "\n",
    "    # Start a mlflow run\n",
    "    with mlflow.start_run():\n",
    "        mlflow.set_tag('description', \n",
    "        \"\"\"\n",
    "        Sub-Challenge 2: First experiment\n",
    "        \"\"\")\n",
    "\n",
    "        # Define the model\n",
    "        log_regr_clf = LogisticRegression(penalty='l1',\n",
    "                                          C=curr_params_dict['C'],\n",
    "                                          class_weight=curr_params_dict['class_weight'],\n",
    "                                          random_state=110,\n",
    "                                          solver=curr_params_dict['solver'],\n",
    "                                          max_iter=curr_params_dict['max_iter'],\n",
    "                                          verbose=0,\n",
    "                                          n_jobs=None,\n",
    "                                          l1_ratio=None)\n",
    "\n",
    "        # Remove the lowest quartile of genes based on CoV\n",
    "        # Calculate the CoV\n",
    "        gene_expr_cov_list = 100 * (X_cv.std(ddof=1, axis=0) / X_cv.mean(axis=0))\n",
    "\n",
    "        # Calculate the 0.25 quantile\n",
    "        min_cov_threshold = np.quantile(gene_expr_cov_list, q=[curr_params_dict['lower_quantile_removed_CoV']])[0]\n",
    "\n",
    "        # Get a list of genes to removed\n",
    "        low_cov_gene_list = gene_expr_cov_list.loc[(gene_expr_cov_list < min_cov_threshold)].index.tolist()\n",
    "\n",
    "        # Remove the lowest 0.25 quantile of genes based on CoV\n",
    "        X_cv.drop(low_cov_gene_list, axis=1, inplace=True)\n",
    "        X_test.drop(low_cov_gene_list, axis=1, inplace=True)\n",
    "\n",
    "        # Run custom CV so I can train on over-sampled data but test on original data\n",
    "        kfold_obj = KFold(n_splits=5, shuffle=True)\n",
    "\n",
    "        cv_train_accuracy_list = []\n",
    "        cv_test_accuracy_list = []\n",
    "        cv_test_accuracy_of_0_cases_list = []\n",
    "\n",
    "        for curr_train_iloc_list, curr_test_iloc_list in kfold_obj.split(X=X_cv, y=y_cv):\n",
    "\n",
    "            # Create current fold train data\n",
    "            curr_fold_X_train = X_cv.iloc[curr_train_iloc_list, ]\n",
    "            curr_fold_y_train = y_cv.iloc[curr_train_iloc_list, ]\n",
    "\n",
    "            # Create current fold train data\n",
    "            curr_fold_X_test = X_cv.iloc[curr_test_iloc_list, ]\n",
    "            curr_fold_y_test = y_cv.iloc[curr_test_iloc_list, ]\n",
    "\n",
    "            # Run SMOTE on the X,y data\n",
    "            if curr_params_dict['use_smote']:\n",
    "                smote_obj = imblearn.over_sampling.SMOTE(sampling_strategy='auto', \n",
    "                                                         random_state=110, \n",
    "                                                         k_neighbors=5, \n",
    "                                                         n_jobs=None)\n",
    "\n",
    "                curr_fold_X_train, curr_fold_y_train = smote_obj.fit_sample(curr_fold_X_train, curr_fold_y_train)\n",
    "\n",
    "            # Train the model for this k-fold\n",
    "            log_regr_clf.fit(curr_fold_X_train, curr_fold_y_train)\n",
    "\n",
    "            # Calculate accuracy on non-oversampled data\n",
    "            curr_fold_y_train_pred = pd.Series(log_regr_clf.predict(curr_fold_X_train), index=curr_fold_y_train.index)\n",
    "            curr_fold_y_test_pred = pd.Series(log_regr_clf.predict(curr_fold_X_test), index=curr_fold_y_test.index)\n",
    "\n",
    "            # Calculate result metrics like accuracy\n",
    "            cv_train_accuracy_list.append((curr_fold_y_train_pred == curr_fold_y_train).mean())\n",
    "            cv_test_accuracy_list.append((curr_fold_y_test_pred == curr_fold_y_test).mean())\n",
    "\n",
    "            # Calculate the test accuracy of target=0 cases\n",
    "            cv_test_accuracy_of_0_cases_list.append(np.mean(curr_fold_y_test_pred[(curr_fold_y_test == 0)] == 0))\n",
    "\n",
    "\n",
    "        # Run SMOTE on the full X_cv,y_cv data\n",
    "        if curr_params_dict['use_smote']:\n",
    "            smote_obj = imblearn.over_sampling.SMOTE(sampling_strategy='auto', \n",
    "                                                     random_state=110, \n",
    "                                                     k_neighbors=5, \n",
    "                                                     n_jobs=None)\n",
    "            X_cv, y_cv = smote_obj.fit_sample(X_cv, y_cv)\n",
    "\n",
    "        # Train the model\n",
    "        log_regr_clf.fit(X_cv, y_cv)\n",
    "        \n",
    "        # Calculate test accuracy\n",
    "        y_test_pred = pd.Series(log_regr_clf.predict(X_test), index=y_test.index)\n",
    "        test_accuracy = (y_test_pred == y_test).mean()\n",
    "        \n",
    "        # Calculate the false positive rate and true positive rate\n",
    "        train_auc = skl_metrics.roc_auc_score(y_true=y_cv, \n",
    "                                             y_score=log_regr_clf.predict_proba(X_cv)[:, 1])\n",
    "        test_auc = skl_metrics.roc_auc_score(y_true=y_test, \n",
    "                                             y_score=log_regr_clf.predict_proba(X_test)[:, 1])\n",
    "\n",
    "        # Log parameters\n",
    "        mlflow.log_param(\"log10_C\", np.log10(curr_params_dict['C']))\n",
    "        mlflow.log_param(\"log10_max_iter\", np.log10(curr_params_dict['max_iter']))\n",
    "        mlflow.log_param(\"solver\", curr_params_dict['solver'])\n",
    "        mlflow.log_param(\"class_weight\", curr_params_dict['class_weight'])\n",
    "        mlflow.log_param(\"lower_quantile_removed_CoV\", curr_params_dict['lower_quantile_removed_CoV'])\n",
    "        mlflow.log_param(\"use_smote\", curr_params_dict['use_smote'])\n",
    "\n",
    "        # Log the CV metrics\n",
    "        mlflow.log_metric(\"cv_training_accuracy\", np.mean(cv_train_accuracy_list))\n",
    "        mlflow.log_metric(\"cv_test_accuracy\", np.mean(cv_test_accuracy_list))\n",
    "        mlflow.log_metric(\"cv_test_0_class_accuracy\", np.mean(cv_test_accuracy_of_0_cases_list))\n",
    "        \n",
    "        # Log test metrics\n",
    "        mlflow.log_metric(\"test_accuracy\", test_accuracy)\n",
    "        mlflow.log_metric(\"train_auc\", train_auc)\n",
    "        mlflow.log_metric(\"test_auc\", test_auc)\n",
    "\n",
    "        # Log count of non-zero features\n",
    "        mlflow.log_metric(\"count_non_zero_features\", np.sum(log_regr_clf.coef_[0] != 0))"
   ]
  },
  {
   "cell_type": "markdown",
   "metadata": {
    "heading_collapsed": true
   },
   "source": [
    "# Loading subchallenge 2 data"
   ]
  },
  {
   "cell_type": "code",
   "execution_count": null,
   "metadata": {
    "hidden": true
   },
   "outputs": [],
   "source": [
    "def load_sc2_data():\n",
    "    sc2_Phase1_CN_FeatureMatrix = pd.read_csv(f'{constants.base_dir}/data/raw/sc2_Phase1_CN_FeatureMatrix.tsv', sep    ='\\t')\\\n",
    "        .set_index('PATIENTID')\n",
    "    sc2_Phase1_CN_Outcome = pd.read_csv(f'{constants.base_dir}/data/raw/sc2_Phase1_CN_Outcome.tsv', sep='\\t')\\\n",
    "        .set_index('PATIENTID')\n",
    "    sc2_Phase1_CN_Phenotype = pd.read_csv(f'{constants.base_dir}/data/raw/sc2_Phase1_CN_Phenotype.tsv', sep='\\t')\\\n",
    "        .set_index('PATIENTID')\n",
    "    \n",
    "    return sc2_Phase1_CN_FeatureMatrix, sc2_Phase1_CN_Outcome['SURVIVAL_STATUS'], sc2_Phase1_CN_Phenotype"
   ]
  },
  {
   "cell_type": "markdown",
   "metadata": {
    "heading_collapsed": true
   },
   "source": [
    "# Creating a model and predicting outcome from sub-challenge 2 data"
   ]
  },
  {
   "cell_type": "code",
   "execution_count": null,
   "metadata": {
    "hidden": true
   },
   "outputs": [],
   "source": [
    "curr_param_index=0\n",
    "curr_params_dict=test_param_dict\n",
    "\n",
    "# Set the experiment name\n",
    "mlflow.set_tracking_uri(f'file://{experiment_base_path}')\n",
    "mlflow.set_experiment('SC2-V1-l1-Logistic_Regression_Exp')\n",
    "\n",
    "# Start a mlflow run\n",
    "with mlflow.start_run():\n",
    "    mlflow.set_tag('description', \n",
    "    \"\"\"\n",
    "    Sub-Challenge 2: First experiment\n",
    "    \"\"\")\n",
    "\n",
    "    # Define the model\n",
    "    log_regr_clf = LogisticRegression(penalty='l1',\n",
    "                                      C=curr_params_dict['C'],\n",
    "                                      class_weight=curr_params_dict['class_weight'],\n",
    "                                      random_state=110,\n",
    "                                      solver=curr_params_dict['solver'],\n",
    "                                      max_iter=curr_params_dict['max_iter'],\n",
    "                                      verbose=0,\n",
    "                                      n_jobs=None,\n",
    "                                      l1_ratio=None)\n",
    "\n",
    "    # Load the gene expression (GE) raw data from file\n",
    "    X, y, phenotype_df = data_loading.load_sc2_data()\n",
    "    \n",
    "    # Remove the lowest quartile of genes based on CoV\n",
    "    # Calculate the CoV\n",
    "    gene_expr_cov_list = 100 * (X.std(ddof=1, axis=0) / X.mean(axis=0))\n",
    "\n",
    "    # Calculate the 0.25 quantile\n",
    "    min_cov_threshold = np.quantile(gene_expr_cov_list, q=[curr_params_dict['lower_quantile_removed_CoV']])[0]\n",
    "\n",
    "    # Get a list of genes to removed\n",
    "    low_cov_gene_list = gene_expr_cov_list.loc[(gene_expr_cov_list < min_cov_threshold)].index.tolist()\n",
    "\n",
    "    # Remove the lowest 0.25 quantile of genes based on CoV\n",
    "    X.drop(low_cov_gene_list, axis=1, inplace=True)\n",
    "\n",
    "    # Split into CV/test set using target class to stratify\n",
    "    X_cv, X_test, y_cv, y_test = train_test_split(X, y, test_size=0.2, stratify=y)\n",
    "\n",
    "    # Run custom CV so I can train on over-sampled data but test on original data\n",
    "    kfold_obj = KFold(n_splits=5, shuffle=True)\n",
    "\n",
    "    cv_train_accuracy_list = []\n",
    "    cv_test_accuracy_list = []\n",
    "    cv_test_accuracy_of_0_cases_list = []\n",
    "\n",
    "    for curr_train_iloc_list, curr_test_iloc_list in kfold_obj.split(X=X_cv, y=y_cv):\n",
    "\n",
    "        # Create current fold train data\n",
    "        curr_fold_X_train = X_cv.iloc[curr_train_iloc_list, ]\n",
    "        curr_fold_y_train = y_cv.iloc[curr_train_iloc_list, ]\n",
    "\n",
    "        # Create current fold train data\n",
    "        curr_fold_X_test = X_cv.iloc[curr_test_iloc_list, ]\n",
    "        curr_fold_y_test = y_cv.iloc[curr_test_iloc_list, ]\n",
    "\n",
    "        # Run SMOTE on the X,y data\n",
    "        if curr_params_dict['use_smote']:\n",
    "            smote_obj = imblearn.over_sampling.SMOTE(sampling_strategy='auto', \n",
    "                                                     random_state=110, \n",
    "                                                     k_neighbors=5, \n",
    "                                                     n_jobs=None)\n",
    "\n",
    "            curr_fold_X_train, curr_fold_y_train = smote_obj.fit_sample(curr_fold_X_train, curr_fold_y_train)\n",
    "\n",
    "        # Train the model for this k-fold\n",
    "        log_regr_clf.fit(curr_fold_X_train, curr_fold_y_train)\n",
    "\n",
    "        # Calculate accuracy on non-oversampled data\n",
    "        curr_fold_y_train_pred = pd.Series(log_regr_clf.predict(curr_fold_X_train), index=curr_fold_y_train.index)\n",
    "        curr_fold_y_test_pred = pd.Series(log_regr_clf.predict(curr_fold_X_test), index=curr_fold_y_test.index)\n",
    "\n",
    "        # Calculate result metrics like accuracy\n",
    "        cv_train_accuracy_list.append((curr_fold_y_train_pred == curr_fold_y_train).mean())\n",
    "        cv_test_accuracy_list.append((curr_fold_y_test_pred == curr_fold_y_test).mean())\n",
    "\n",
    "        # Calculate the test accuracy of target=0 cases\n",
    "        cv_test_accuracy_of_0_cases_list = np.mean(curr_fold_y_test_pred[(curr_fold_y_test == 0)] == 0)\n",
    "\n",
    "\n",
    "    # Run SMOTE on the full X_cv,y_cv data\n",
    "    if curr_params_dict['use_smote']:\n",
    "        smote_obj = imblearn.over_sampling.SMOTE(sampling_strategy='auto', \n",
    "                                                 random_state=110, \n",
    "                                                 k_neighbors=5, \n",
    "                                                 n_jobs=None)\n",
    "        X_cv, y_cv = smote_obj.fit_sample(X_cv, y_cv)\n",
    "\n",
    "    # Train the model\n",
    "    log_regr_clf.fit(X_cv, y_cv)\n",
    "\n",
    "    # Log parameters\n",
    "    mlflow.log_param(\"log10_C\", np.log10(curr_params_dict['C']))\n",
    "    mlflow.log_param(\"log10_max_iter\", np.log10(curr_params_dict['max_iter']))\n",
    "    mlflow.log_param(\"solver\", curr_params_dict['solver'])\n",
    "    mlflow.log_param(\"class_weight\", curr_params_dict['class_weight'])\n",
    "    mlflow.log_param(\"lower_quantile_removed_CoV\", curr_params_dict['lower_quantile_removed_CoV'])\n",
    "    mlflow.log_param(\"use_smote\", curr_params_dict['use_smote'])\n",
    "\n",
    "    # Log accuracy metrics\n",
    "    mlflow.log_metric(\"cv_training_accuracy\", np.mean(cv_train_accuracy_list))\n",
    "    mlflow.log_metric(\"cv_test_accuracy\", np.mean(cv_test_accuracy_list))\n",
    "    mlflow.log_metric(\"cv_test_0_class_accuracy\", np.mean(cv_test_accuracy_of_0_cases_list))\n",
    "\n",
    "    # Log count of non-zero features\n",
    "    mlflow.log_metric(\"count_non_zero_features\", np.sum(log_regr_clf.coef_[0] != 0))"
   ]
  },
  {
   "cell_type": "markdown",
   "metadata": {
    "heading_collapsed": true
   },
   "source": [
    "# Exp 1 - Running MLFlow"
   ]
  },
  {
   "cell_type": "code",
   "execution_count": null,
   "metadata": {
    "hidden": true
   },
   "outputs": [],
   "source": [
    "%%time\n",
    "\n",
    "# Set the experiment name\n",
    "mlflow.set_tracking_uri(f'file://{experiment_base_path}')\n",
    "mlflow.set_experiment('SC2-V8-Exp_1-L1-Logistic_Regression_Exp')\n",
    "    \n",
    "# Define the parameter grid\n",
    "param_dict = {'C': np.logspace(-2, 0, 5).tolist() + np.logspace(1, 5, 3).tolist(),\n",
    "             'max_iter': [1000],\n",
    "             'solver': ['saga'],\n",
    "             'class_weight': [None],\n",
    "             'lower_quantile_removed_CoV': [0, 0.25, 0.5, 0.9],\n",
    "             'use_smote': [True]}\n",
    "\n",
    "# Load the gene expression (GE) raw data from file\n",
    "X, y, phenotype_df = data_loading.load_sc2_data()\n",
    "        \n",
    "# Split into CV/test set using target class to stratify\n",
    "X_cv, X_test, y_cv, y_test = train_test_split(X, y, test_size=0.2, stratify=y, random_state=110)\n",
    "\n",
    "# Run mlflow runs in parallel\n",
    "results = joblib.Parallel(n_jobs=-1, backend='multiprocessing')\\\n",
    "    (joblib.delayed(run_mlflow_exp_v8)(X_cv, X_test, y_cv, y_test, curr_param_index, curr_params_dict)\\\n",
    "         for curr_param_index, curr_params_dict in enumerate(ParameterGrid(param_dict)))"
   ]
  },
  {
   "cell_type": "markdown",
   "metadata": {
    "hidden": true
   },
   "source": [
    "## Getting the results as a dataframe"
   ]
  },
  {
   "cell_type": "code",
   "execution_count": null,
   "metadata": {
    "hidden": true
   },
   "outputs": [],
   "source": [
    "# Get the experiment id from the experiment name\n",
    "curr_experiment_id=mlflow.get_experiment_by_name('SC2-V8-l1-Logistic_Regression_Exp').experiment_id\n",
    "\n",
    "experiment_results_v1_df = mlflow.search_runs(experiment_ids=curr_experiment_id)\\\n",
    "    .rename(columns={'metrics.cv_test_accuracy_of_0_cases_list': 'metrics.cv_test_0_class_accuracy'})\n",
    "\n",
    "# Melt the dataframe to get accuracy as a single column\n",
    "experiment_results_v1_df_melt = experiment_results_v1_df\\\n",
    "    .melt(id_vars=['run_id','metrics.count_non_zero_features','params.lower_quantile_removed_CoV','params.log10_C','params.log10_max_iter','params.use_smote'],\n",
    "          value_vars=['metrics.cv_training_accuracy','metrics.cv_test_accuracy','metrics.cv_test_0_class_accuracy'],\n",
    "          var_name='train_or_cv',\n",
    "          value_name='accuracy')"
   ]
  },
  {
   "cell_type": "code",
   "execution_count": null,
   "metadata": {
    "hidden": true
   },
   "outputs": [],
   "source": [
    "plot_df = experiment_results_v1_df_melt.copy()\n",
    "\n",
    "(ggplot(data=plot_df) \n",
    " + geom_boxplot(aes(x='params.use_smote', \n",
    "                  y='accuracy', \n",
    "                  color='train_or_cv'))\n",
    ")"
   ]
  },
  {
   "cell_type": "markdown",
   "metadata": {
    "hidden": true
   },
   "source": [
    "**Again, using SMOTE over-sampling improves the class 0 performance**"
   ]
  },
  {
   "cell_type": "code",
   "execution_count": null,
   "metadata": {
    "hidden": true
   },
   "outputs": [],
   "source": [
    "experiment_results_v1_df_melt_v1 = experiment_results_v1_df_melt.loc[experiment_results_v1_df_melt['params.use_smote'] == 'True']"
   ]
  },
  {
   "cell_type": "markdown",
   "metadata": {
    "hidden": true
   },
   "source": [
    "### Looking at maximum iteration influence"
   ]
  },
  {
   "cell_type": "code",
   "execution_count": null,
   "metadata": {
    "hidden": true
   },
   "outputs": [],
   "source": [
    "plot_df = experiment_results_v1_df_melt_v1.copy()\n",
    "\n",
    "(ggplot(data=plot_df) \n",
    " + geom_boxplot(aes(x='params.log10_max_iter', \n",
    "                  y='accuracy', \n",
    "                  color='train_or_cv'))\n",
    ")"
   ]
  },
  {
   "cell_type": "markdown",
   "metadata": {
    "hidden": true
   },
   "source": [
    "There seems to be no major difference between 100 and 1,000 iterations overall"
   ]
  },
  {
   "cell_type": "code",
   "execution_count": null,
   "metadata": {
    "hidden": true
   },
   "outputs": [],
   "source": [
    "experiment_results_v1_df_melt_v2 = experiment_results_v1_df_melt_v1.loc[experiment_results_v1_df_melt_v1['params.log10_max_iter'] == '3.0']"
   ]
  },
  {
   "cell_type": "code",
   "execution_count": null,
   "metadata": {
    "hidden": true
   },
   "outputs": [],
   "source": [
    "sns.lmplot(x='metrics.count_non_zero_features',\n",
    "           y='accuracy',\n",
    "           data=experiment_results_v1_df_melt_v2,\n",
    "           hue='train_or_cv', \n",
    "           fit_reg=True, size=5, aspect=1.25)\n",
    "\n",
    "ax = plt.gca()\n",
    "ax.set_xscale('log')\n",
    "ax.axvline(3, c='r', alpha=0.3)"
   ]
  },
  {
   "cell_type": "markdown",
   "metadata": {
    "hidden": true
   },
   "source": [
    "* As the # of features in the model increases, the class 0 performance worsens as the training accuracty increases\n",
    "* The test accuracy stays fairly stable around 60%\n",
    "* 3 features are nearly as predictive >100 features for the test set"
   ]
  },
  {
   "cell_type": "code",
   "execution_count": null,
   "metadata": {
    "hidden": true
   },
   "outputs": [],
   "source": [
    "experiment_results_v1_df_melt_v2\\\n",
    "    .loc[(experiment_results_v1_df_melt_v2['metrics.count_non_zero_features'] < 5)\\\n",
    "        & (experiment_results_v1_df_melt_v2['metrics.count_non_zero_features'] > 0)]"
   ]
  },
  {
   "cell_type": "markdown",
   "metadata": {
    "hidden": true
   },
   "source": [
    "Final model:\n",
    "* lower_quantile_removed_CoV=0\n",
    "* log10_C=-1.5\n",
    "* log10_max_iter=3.0\n",
    "* use_smote=True"
   ]
  },
  {
   "cell_type": "code",
   "execution_count": null,
   "metadata": {
    "hidden": true
   },
   "outputs": [],
   "source": [
    "_, y, _ = data_loading.load_sc2_data()"
   ]
  },
  {
   "cell_type": "code",
   "execution_count": null,
   "metadata": {
    "hidden": true
   },
   "outputs": [],
   "source": [
    "y.value_counts() / y.shape[0]"
   ]
  },
  {
   "cell_type": "markdown",
   "metadata": {
    "heading_collapsed": true
   },
   "source": [
    "# Exp 1 - Investigating AUC of train vs. test"
   ]
  },
  {
   "cell_type": "code",
   "execution_count": null,
   "metadata": {
    "hidden": true
   },
   "outputs": [],
   "source": [
    "# Get the experiment id from the experiment name\n",
    "curr_experiment_id=mlflow.get_experiment_by_name('SC2-V8-Exp_1-L1-Logistic_Regression_Exp').experiment_id\n",
    "\n",
    "experiment_results_v1_df = mlflow.search_runs(experiment_ids=curr_experiment_id)\\\n",
    "    .rename(columns={'metrics.cv_test_accuracy_of_0_cases_list': 'metrics.cv_test_0_class_accuracy'})\n",
    "\n",
    "# Melt the dataframe to get accuracy as a single column\n",
    "experiment_results_v1_df_melt = experiment_results_v1_df\\\n",
    "    .melt(id_vars=['run_id','metrics.count_non_zero_features','params.lower_quantile_removed_CoV','params.log10_C','params.log10_max_iter','params.use_smote'],\n",
    "          value_vars=['metrics.cv_training_accuracy','metrics.cv_test_accuracy','metrics.cv_test_0_class_accuracy'],\n",
    "          var_name='train_or_cv',\n",
    "          value_name='accuracy')"
   ]
  },
  {
   "cell_type": "code",
   "execution_count": null,
   "metadata": {
    "hidden": true,
    "scrolled": false
   },
   "outputs": [],
   "source": [
    "experiment_results_v1_df.loc[:, ['params.log10_C','metrics.count_non_zero_features','metrics.train_auc','metrics.test_auc']]"
   ]
  },
  {
   "cell_type": "markdown",
   "metadata": {},
   "source": [
    "# Exp 2 - Generating many train/cv/test results"
   ]
  },
  {
   "cell_type": "markdown",
   "metadata": {},
   "source": [
    "## Running MLFlow experiment"
   ]
  },
  {
   "cell_type": "code",
   "execution_count": null,
   "metadata": {
    "scrolled": true
   },
   "outputs": [],
   "source": [
    "%%time\n",
    "\n",
    "# Set the experiment name\n",
    "mlflow.set_tracking_uri(f'file://{experiment_base_path}')\n",
    "mlflow.set_experiment('SC2-V10-Exp_2-L1-Logistic_Regression_Exp')\n",
    "\n",
    "# Define the parameter grid\n",
    "param_dict = {'C': np.logspace(-2, 0, 9).tolist() + np.logspace(1, 5, 3).tolist(),\n",
    "             'max_iter': [100],\n",
    "             'solver': ['saga'],\n",
    "             'class_weight': [None],\n",
    "             'lower_quantile_removed_CoV': [0, 0.25, 0.5, 0.9],\n",
    "             'use_smote': [True]}\n",
    "\n",
    "# Load the gene expression (GE) raw data from file\n",
    "X, y, phenotype_df = data_loading.load_sc2_data()\n",
    "\n",
    "# For 10 different cv/test splits\n",
    "for i in range(15):\n",
    "    # Split into CV/test set using target class to stratify\n",
    "    X_cv, X_test, y_cv, y_test = train_test_split(X, y, test_size=0.2, stratify=y, random_state=i)\n",
    "\n",
    "    #model_funcs.run_mlflow_exp_V10(X_cv, X_test, y_cv, y_test, test_param_dict, experiment_base_path)\n",
    "\n",
    "    # Run mlflow runs in parallel\n",
    "    results = joblib.Parallel(n_jobs=-1, backend='multiprocessing')\\\n",
    "        (joblib.delayed(model_funcs.run_mlflow_exp_V10)(X_cv, X_test, y_cv, y_test, curr_params_dict, experiment_base_path)\\\n",
    "             for curr_param_index, curr_params_dict in enumerate(ParameterGrid(param_dict)))"
   ]
  },
  {
   "cell_type": "markdown",
   "metadata": {
    "heading_collapsed": true
   },
   "source": [
    "## Verifying that two runs generate the same results"
   ]
  },
  {
   "cell_type": "code",
   "execution_count": null,
   "metadata": {
    "hidden": true
   },
   "outputs": [],
   "source": [
    "# Get the experiment id from the experiment name\n",
    "curr_experiment_id=mlflow.get_experiment_by_name('SC2-V10-Test_1-L1-Logistic_Regression_Exp').experiment_id\n",
    "experiment_results_sc2_v10_test1_df = mlflow.search_runs(experiment_ids=curr_experiment_id)\\\n",
    "    .iloc[:, 6:]\\\n",
    "    .iloc[:, :-4]\n",
    "\n",
    "curr_experiment_id=mlflow.get_experiment_by_name('SC2-V10-Test_2-L1-Logistic_Regression_Exp').experiment_id\n",
    "experiment_results_sc2_v10_test2_df = mlflow.search_runs(experiment_ids=curr_experiment_id)\\\n",
    "    .iloc[:, 6:]\\\n",
    "    .iloc[:, :-4]"
   ]
  },
  {
   "cell_type": "code",
   "execution_count": null,
   "metadata": {
    "hidden": true
   },
   "outputs": [],
   "source": [
    "param_list = experiment_results_sc2_v10_test1_df.filter(regex='params.*').columns.tolist()"
   ]
  },
  {
   "cell_type": "code",
   "execution_count": null,
   "metadata": {
    "hidden": true
   },
   "outputs": [],
   "source": [
    "experiment_results_sc2_v10_test1_df.head()"
   ]
  },
  {
   "cell_type": "code",
   "execution_count": null,
   "metadata": {
    "hidden": true
   },
   "outputs": [],
   "source": [
    "merged_exp_results_df = pd.merge(experiment_results_sc2_v10_test1_df,\n",
    "         experiment_results_sc2_v10_test2_df,\n",
    "         on=param_list)\n",
    "\n",
    "merged_exp_results_df = merged_exp_results_df.reindex(columns=np.sort(merged_exp_results_df.columns))"
   ]
  },
  {
   "cell_type": "markdown",
   "metadata": {},
   "source": [
    "## Creating a dataframe with the experiment results"
   ]
  },
  {
   "cell_type": "code",
   "execution_count": 4,
   "metadata": {},
   "outputs": [],
   "source": [
    "# Get the experiment id from the experiment name\n",
    "curr_experiment_id=mlflow.get_experiment_by_name('SC2-V10-Exp_2-L1-Logistic_Regression_Exp').experiment_id\n",
    "\n",
    "experiment_results_sc2_v10_exp2_df = mlflow.search_runs(experiment_ids=curr_experiment_id)\\\n",
    "    .rename(columns={'metrics.cv_test_accuracy_of_0_cases_list': 'metrics.cv_test_0_class_accuracy'})\n",
    "\n",
    "# Melt the dataframe to get accuracy as a single column\n",
    "experiment_results_sc2_v10_exp2_df_melt = experiment_results_sc2_v10_exp2_df\\\n",
    "    .melt(id_vars=['run_id','metrics.count_non_zero_features','params.lower_quantile_removed_CoV','params.log10_C','params.log10_max_iter','params.use_smote'],\n",
    "          value_vars=['metrics.cv_training_accuracy','metrics.cv_test_accuracy','metrics.cv_test_0_class_accuracy'],\n",
    "          var_name='train_or_cv',\n",
    "          value_name='accuracy')\n",
    "\n",
    "experiment_results_sc2_v10_exp2_df_melt['metrics.log10_count_non_zero_features'] = np.log10(experiment_results_sc2_v10_exp2_df_melt['metrics.count_non_zero_features'] + 1)"
   ]
  },
  {
   "cell_type": "markdown",
   "metadata": {},
   "source": [
    "## Plotting feature count vs. CV accuracies"
   ]
  },
  {
   "cell_type": "code",
   "execution_count": 5,
   "metadata": {},
   "outputs": [
    {
     "name": "stderr",
     "output_type": "stream",
     "text": [
      "/home/alex/miniconda3/envs/precfda_bc/lib/python3.7/site-packages/seaborn/regression.py:546: UserWarning: The `size` paramter has been renamed to `height`; please update your code.\n",
      "  warnings.warn(msg, UserWarning)\n"
     ]
    },
    {
     "data": {
      "image/png": "[encoded data removed]",
      "text/plain": [
       "<Figure size 786.15x360 with 1 Axes>"
      ]
     },
     "metadata": {
      "needs_background": "light"
     },
     "output_type": "display_data"
    }
   ],
   "source": [
    "plot_df = experiment_results_sc2_v10_exp2_df_melt\\\n",
    "    .loc[experiment_results_sc2_v10_exp2_df_melt['metrics.count_non_zero_features'] > 1]\n",
    "\n",
    "\n",
    "sns.lmplot(x='metrics.log10_count_non_zero_features',\n",
    "           y='accuracy',\n",
    "           data=plot_df,\n",
    "           hue='train_or_cv', \n",
    "           fit_reg=True, size=5, aspect=1.25)\n",
    "\n",
    "ax = plt.gca()\n",
    "#ax.set_xscale('log')\n",
    "#ax.axvline(3, c='r', alpha=0.3)"
   ]
  },
  {
   "cell_type": "markdown",
   "metadata": {},
   "source": [
    "This shows that using using ~10 features is a good compromise between class 0 test accuracy and overall test accuracy. If we use too many more features, the overall test accuracy does improve a bit but the class 0 accuracy plummets."
   ]
  },
  {
   "cell_type": "markdown",
   "metadata": {},
   "source": [
    "## Plotting boxplot of accuracy vs. log10(C)"
   ]
  },
  {
   "cell_type": "code",
   "execution_count": 6,
   "metadata": {},
   "outputs": [
    {
     "data": {
      "text/plain": [
       "<matplotlib.lines.Line2D at 0x7efbe92b5790>"
      ]
     },
     "execution_count": 6,
     "metadata": {},
     "output_type": "execute_result"
    },
    {
     "data": {
      "image/png": "[encoded data removed]",
      "text/plain": [
       "<Figure size 864x432 with 1 Axes>"
      ]
     },
     "metadata": {
      "needs_background": "light"
     },
     "output_type": "display_data"
    }
   ],
   "source": [
    "plot_df = experiment_results_sc2_v10_exp2_df_melt\\\n",
    "#    .loc[experiment_results_sc2_v10_exp2_df_melt['metrics.count_non_zero_features'] > 1]\n",
    "\n",
    "plt.figure(figsize=(12,6))\n",
    "ax=plt.gca()\n",
    "\n",
    "sns.boxplot(x='params.log10_C',\n",
    "           y='accuracy',\n",
    "           data=plot_df,\n",
    "           hue='train_or_cv', \n",
    "           order=['-2.0', '-1.75', '-1.5', '-1.25', '-1.0', '-0.75', '-0.5', '-0.25', \n",
    "                  '0.0', '1.0', '3.0', '5.0'],\n",
    "           ax=ax)\n",
    "\n",
    "ax.legend(bbox_to_anchor=(1.05,1))\n",
    "#ax.axhline(0.5, c='g')\n",
    "ax.axvline(3)"
   ]
  },
  {
   "cell_type": "markdown",
   "metadata": {},
   "source": [
    "log10_C=-1.25 is the clear winner here; It balances the overall and class 0 test accuracy"
   ]
  },
  {
   "cell_type": "code",
   "execution_count": 7,
   "metadata": {},
   "outputs": [
    {
     "data": {
      "text/plain": [
       "<matplotlib.lines.Line2D at 0x7efbe8ffff50>"
      ]
     },
     "execution_count": 7,
     "metadata": {},
     "output_type": "execute_result"
    },
    {
     "data": {
      "image/png": "[encoded data removed]",
      "text/plain": [
       "<Figure size 864x360 with 1 Axes>"
      ]
     },
     "metadata": {
      "needs_background": "light"
     },
     "output_type": "display_data"
    }
   ],
   "source": [
    "plot_df = experiment_results_sc2_v10_exp2_df_melt\\\n",
    "    .loc[experiment_results_sc2_v10_exp2_df_melt['params.log10_C'] == '-1.25']\n",
    "\n",
    "plt.figure(figsize=(12,5))\n",
    "ax=plt.gca()\n",
    "\n",
    "sns.boxplot(x='params.lower_quantile_removed_CoV',\n",
    "           y='accuracy',\n",
    "           data=plot_df,\n",
    "           hue='train_or_cv', \n",
    "           ax=ax)\n",
    "\n",
    "ax.legend(bbox_to_anchor=(1.05,1))\n",
    "ax.axhline(0.7, c='g')\n",
    "#ax.axvline(1)"
   ]
  },
  {
   "cell_type": "markdown",
   "metadata": {},
   "source": [
    "There is no difference in performance based on the quantiles of low CoV genes removed"
   ]
  },
  {
   "cell_type": "markdown",
   "metadata": {},
   "source": [
    "Final model:\n",
    "* log10_C=-1.25\n",
    "* lower_quantile_removed_CoV=0.25"
   ]
  },
  {
   "cell_type": "code",
   "execution_count": 8,
   "metadata": {},
   "outputs": [
    {
     "data": {
      "text/html": [
       "<div>\n",
       "<style scoped>\n",
       "    .dataframe tbody tr th:only-of-type {\n",
       "        vertical-align: middle;\n",
       "    }\n",
       "\n",
       "    .dataframe tbody tr th {\n",
       "        vertical-align: top;\n",
       "    }\n",
       "\n",
       "    .dataframe thead th {\n",
       "        text-align: right;\n",
       "    }\n",
       "</style>\n",
       "<table border=\"1\" class=\"dataframe\">\n",
       "  <thead>\n",
       "    <tr style=\"text-align: right;\">\n",
       "      <th></th>\n",
       "      <th>metrics.test_accuracy</th>\n",
       "      <th>metrics.train_auc</th>\n",
       "      <th>metrics.count_non_zero_features</th>\n",
       "      <th>metrics.cv_test_auc</th>\n",
       "      <th>metrics.test_auc</th>\n",
       "      <th>metrics.test_specificity</th>\n",
       "      <th>metrics.train_accuracy</th>\n",
       "      <th>metrics.test_sensitivity</th>\n",
       "      <th>metrics.cv_training_accuracy</th>\n",
       "      <th>metrics.cv_test_accuracy</th>\n",
       "      <th>metrics.cv_test_0_class_accuracy</th>\n",
       "    </tr>\n",
       "  </thead>\n",
       "  <tbody>\n",
       "    <tr>\n",
       "      <th>count</th>\n",
       "      <td>15.000000</td>\n",
       "      <td>15.000000</td>\n",
       "      <td>15.000000</td>\n",
       "      <td>15.000000</td>\n",
       "      <td>15.000000</td>\n",
       "      <td>15.000000</td>\n",
       "      <td>15.000000</td>\n",
       "      <td>15.000000</td>\n",
       "      <td>15.000000</td>\n",
       "      <td>15.000000</td>\n",
       "      <td>15.000000</td>\n",
       "    </tr>\n",
       "    <tr>\n",
       "      <th>mean</th>\n",
       "      <td>0.573333</td>\n",
       "      <td>0.704692</td>\n",
       "      <td>3.133333</td>\n",
       "      <td>0.605808</td>\n",
       "      <td>0.630342</td>\n",
       "      <td>0.644444</td>\n",
       "      <td>0.657143</td>\n",
       "      <td>0.548718</td>\n",
       "      <td>0.674321</td>\n",
       "      <td>0.582328</td>\n",
       "      <td>0.627356</td>\n",
       "    </tr>\n",
       "    <tr>\n",
       "      <th>std</th>\n",
       "      <td>0.071197</td>\n",
       "      <td>0.035754</td>\n",
       "      <td>1.125463</td>\n",
       "      <td>0.033197</td>\n",
       "      <td>0.084677</td>\n",
       "      <td>0.234577</td>\n",
       "      <td>0.033527</td>\n",
       "      <td>0.131210</td>\n",
       "      <td>0.017107</td>\n",
       "      <td>0.023981</td>\n",
       "      <td>0.063673</td>\n",
       "    </tr>\n",
       "    <tr>\n",
       "      <th>min</th>\n",
       "      <td>0.457143</td>\n",
       "      <td>0.647710</td>\n",
       "      <td>1.000000</td>\n",
       "      <td>0.549020</td>\n",
       "      <td>0.495726</td>\n",
       "      <td>0.222222</td>\n",
       "      <td>0.600000</td>\n",
       "      <td>0.346154</td>\n",
       "      <td>0.643548</td>\n",
       "      <td>0.531481</td>\n",
       "      <td>0.556667</td>\n",
       "    </tr>\n",
       "    <tr>\n",
       "      <th>25%</th>\n",
       "      <td>0.514286</td>\n",
       "      <td>0.682585</td>\n",
       "      <td>2.000000</td>\n",
       "      <td>0.581373</td>\n",
       "      <td>0.586538</td>\n",
       "      <td>0.444444</td>\n",
       "      <td>0.633333</td>\n",
       "      <td>0.480769</td>\n",
       "      <td>0.661309</td>\n",
       "      <td>0.565344</td>\n",
       "      <td>0.573254</td>\n",
       "    </tr>\n",
       "    <tr>\n",
       "      <th>50%</th>\n",
       "      <td>0.571429</td>\n",
       "      <td>0.705488</td>\n",
       "      <td>3.000000</td>\n",
       "      <td>0.612045</td>\n",
       "      <td>0.613248</td>\n",
       "      <td>0.666667</td>\n",
       "      <td>0.657143</td>\n",
       "      <td>0.538462</td>\n",
       "      <td>0.679711</td>\n",
       "      <td>0.583333</td>\n",
       "      <td>0.621645</td>\n",
       "    </tr>\n",
       "    <tr>\n",
       "      <th>75%</th>\n",
       "      <td>0.628571</td>\n",
       "      <td>0.728707</td>\n",
       "      <td>4.000000</td>\n",
       "      <td>0.631162</td>\n",
       "      <td>0.637821</td>\n",
       "      <td>0.833333</td>\n",
       "      <td>0.688095</td>\n",
       "      <td>0.576923</td>\n",
       "      <td>0.684059</td>\n",
       "      <td>0.604365</td>\n",
       "      <td>0.659390</td>\n",
       "    </tr>\n",
       "    <tr>\n",
       "      <th>max</th>\n",
       "      <td>0.685714</td>\n",
       "      <td>0.773605</td>\n",
       "      <td>5.000000</td>\n",
       "      <td>0.650140</td>\n",
       "      <td>0.833333</td>\n",
       "      <td>0.888889</td>\n",
       "      <td>0.695238</td>\n",
       "      <td>0.807692</td>\n",
       "      <td>0.704567</td>\n",
       "      <td>0.611905</td>\n",
       "      <td>0.750000</td>\n",
       "    </tr>\n",
       "  </tbody>\n",
       "</table>\n",
       "</div>"
      ],
      "text/plain": [
       "       metrics.test_accuracy  metrics.train_auc  \\\n",
       "count              15.000000          15.000000   \n",
       "mean                0.573333           0.704692   \n",
       "std                 0.071197           0.035754   \n",
       "min                 0.457143           0.647710   \n",
       "25%                 0.514286           0.682585   \n",
       "50%                 0.571429           0.705488   \n",
       "75%                 0.628571           0.728707   \n",
       "max                 0.685714           0.773605   \n",
       "\n",
       "       metrics.count_non_zero_features  metrics.cv_test_auc  metrics.test_auc  \\\n",
       "count                        15.000000            15.000000         15.000000   \n",
       "mean                          3.133333             0.605808          0.630342   \n",
       "std                           1.125463             0.033197          0.084677   \n",
       "min                           1.000000             0.549020          0.495726   \n",
       "25%                           2.000000             0.581373          0.586538   \n",
       "50%                           3.000000             0.612045          0.613248   \n",
       "75%                           4.000000             0.631162          0.637821   \n",
       "max                           5.000000             0.650140          0.833333   \n",
       "\n",
       "       metrics.test_specificity  metrics.train_accuracy  \\\n",
       "count                 15.000000               15.000000   \n",
       "mean                   0.644444                0.657143   \n",
       "std                    0.234577                0.033527   \n",
       "min                    0.222222                0.600000   \n",
       "25%                    0.444444                0.633333   \n",
       "50%                    0.666667                0.657143   \n",
       "75%                    0.833333                0.688095   \n",
       "max                    0.888889                0.695238   \n",
       "\n",
       "       metrics.test_sensitivity  metrics.cv_training_accuracy  \\\n",
       "count                 15.000000                     15.000000   \n",
       "mean                   0.548718                      0.674321   \n",
       "std                    0.131210                      0.017107   \n",
       "min                    0.346154                      0.643548   \n",
       "25%                    0.480769                      0.661309   \n",
       "50%                    0.538462                      0.679711   \n",
       "75%                    0.576923                      0.684059   \n",
       "max                    0.807692                      0.704567   \n",
       "\n",
       "       metrics.cv_test_accuracy  metrics.cv_test_0_class_accuracy  \n",
       "count                 15.000000                         15.000000  \n",
       "mean                   0.582328                          0.627356  \n",
       "std                    0.023981                          0.063673  \n",
       "min                    0.531481                          0.556667  \n",
       "25%                    0.565344                          0.573254  \n",
       "50%                    0.583333                          0.621645  \n",
       "75%                    0.604365                          0.659390  \n",
       "max                    0.611905                          0.750000  "
      ]
     },
     "execution_count": 8,
     "metadata": {},
     "output_type": "execute_result"
    }
   ],
   "source": [
    "experiment_results_sc2_v10_exp2_df\\\n",
    "    .loc[(experiment_results_sc2_v10_exp2_df['params.log10_C'] == '-1.25')\n",
    "        & (experiment_results_sc2_v10_exp2_df['params.lower_quantile_removed_CoV'] == '0')]\\\n",
    "    .filter(regex='metrics.*')\\\n",
    "    .describe()"
   ]
  },
  {
   "cell_type": "markdown",
   "metadata": {},
   "source": [
    "## Get the full feature list"
   ]
  },
  {
   "cell_type": "code",
   "execution_count": 9,
   "metadata": {},
   "outputs": [],
   "source": [
    "import glob\n",
    "\n",
    "# Get the full run_id list for this experiment\n",
    "run_id_list = experiment_results_sc2_v10_exp2_df\\\n",
    "    .loc[(experiment_results_sc2_v10_exp2_df['params.log10_C'] == '-1.25')\n",
    "        & (experiment_results_sc2_v10_exp2_df['params.lower_quantile_removed_CoV'] == '0')]\\\n",
    "    ['run_id']\n",
    "\n",
    "full_feature_list = []\n",
    "\n",
    "for curr_run_id in run_id_list:\n",
    "    # Get the current run's artifact uri\n",
    "    curr_run = mlflow.get_run(run_id=curr_run_id)\n",
    "    curr_artifact_uri = curr_run.to_dictionary()['info']['artifact_uri']\n",
    "\n",
    "    # Get the feature list filepath\n",
    "    feature_list_filepath = glob.glob(f'{curr_artifact_uri[7:]}/*')[0]\n",
    "    \n",
    "    # Open the feature list file\n",
    "    with open(feature_list_filepath, 'r') as f:\n",
    "        # Get the first feature\n",
    "        curr_feature = f.readline()\n",
    "\n",
    "        # While the current feature name is not empty\n",
    "        while curr_feature != '':\n",
    "            # Add the feature to the full feature list\n",
    "            full_feature_list.append(f.readline().strip())\n",
    "            \n",
    "            # Get the next feature\n",
    "            curr_feature = f.readline()\n",
    "\n",
    "# Remove any empty feature from the final list\n",
    "full_feature_list = [curr_feature for curr_feature in full_feature_list if len(curr_feature) > 0]"
   ]
  },
  {
   "cell_type": "code",
   "execution_count": 10,
   "metadata": {},
   "outputs": [
    {
     "data": {
      "text/plain": [
       "9p21.3     8\n",
       "10p15.3    3\n",
       "7q31.1     3\n",
       "8q24.13    1\n",
       "9p24.1     1\n",
       "1p31.1     1\n",
       "7q31.2     1\n",
       "8q23.1     1\n",
       "7p15.3     1\n",
       "7p15.1     1\n",
       "dtype: int64"
      ]
     },
     "execution_count": 10,
     "metadata": {},
     "output_type": "execute_result"
    }
   ],
   "source": [
    "pd.Series(full_feature_list).value_counts()"
   ]
  },
  {
   "cell_type": "markdown",
   "metadata": {},
   "source": [
    "# Output the feature list"
   ]
  },
  {
   "cell_type": "code",
   "execution_count": null,
   "metadata": {},
   "outputs": [],
   "source": [
    "with open('./../../data/intermediate/CN_feature_list.txt', 'w') as f:\n",
    "    for curr_feature in np.sort(np.unique(full_feature_list)):\n",
    "        if len(curr_feature) > 0:\n",
    "            f.write(f'{curr_feature}\\n')"
   ]
  },
  {
   "cell_type": "code",
   "execution_count": null,
   "metadata": {},
   "outputs": [],
   "source": []
  }
 ],
 "metadata": {
  "kernelspec": {
   "display_name": "Python 3",
   "language": "python",
   "name": "python3"
  },
  "language_info": {
   "codemirror_mode": {
    "name": "ipython",
    "version": 3
   },
   "file_extension": ".py",
   "mimetype": "text/x-python",
   "name": "python",
   "nbconvert_exporter": "python",
   "pygments_lexer": "ipython3",
   "version": "3.7.6"
  },
  "notify_time": "10",
  "toc": {
   "base_numbering": 1,
   "nav_menu": {},
   "number_sections": true,
   "sideBar": true,
   "skip_h1_title": false,
   "title_cell": "Table of Contents",
   "title_sidebar": "Contents",
   "toc_cell": false,
   "toc_position": {
    "height": "calc(100% - 180px)",
    "left": "10px",
    "top": "150px",
    "width": "384px"
   },
   "toc_section_display": true,
   "toc_window_display": true
  }
 },
 "nbformat": 4,
 "nbformat_minor": 4
}
