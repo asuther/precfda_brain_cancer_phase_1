{
 "cells": [
  {
   "cell_type": "markdown",
   "metadata": {},
   "source": [
    "# Training_Logistic_Regression_model_for_Sub-Challenge_2"
   ]
  },
  {
   "cell_type": "markdown",
   "metadata": {},
   "source": [
    "**Background:**\n",
    "\n",
    "**Purpose:** To train a logistic regression model for sub-challenge 2 using the MLFlow setup from Sub-Challenge 1\n",
    "\n",
    "**Methods:**\n",
    ">1. Introduction\n",
    ">2. Inits\n",
    "\n",
    "**Conclusions:**\n",
    "* Again, using SMOTE over-sampling improves the class 0 performance\n",
    "* Final model:\n",
    "   * lower_quantile_removed_CoV=0\n",
    "   * log10_C=-1.5\n",
    "   * log10_max_iter=3.0\n",
    "   * use_smote=True"
   ]
  },
  {
   "cell_type": "markdown",
   "metadata": {},
   "source": [
    "# Inits"
   ]
  },
  {
   "cell_type": "markdown",
   "metadata": {},
   "source": [
    "## Imports"
   ]
  },
  {
   "cell_type": "code",
   "execution_count": 2,
   "metadata": {},
   "outputs": [
    {
     "name": "stderr",
     "output_type": "stream",
     "text": [
      "/home/alex/miniconda3/envs/precfda_bc/lib/python3.7/site-packages/patsy/constraint.py:13: DeprecationWarning: Using or importing the ABCs from 'collections' instead of from 'collections.abc' is deprecated since Python 3.3,and in 3.9 it will stop working\n",
      "  from collections import Mapping\n"
     ]
    }
   ],
   "source": [
    "%load_ext autoreload\n",
    "%autoreload 2\n",
    "import numpy as np\n",
    "import pandas as pd\n",
    "\n",
    "%matplotlib inline\n",
    "import matplotlib.pyplot as plt\n",
    "import seaborn as sns\n",
    "sns.set_context(context='notebook', font_scale=1.5)\n",
    "\n",
    "import logging\n",
    "logging.basicConfig()\n",
    "logger = logging.getLogger()\n",
    "logger.setLevel(logging.INFO)\n",
    "\n",
    "from sklearn.model_selection import train_test_split, ParameterGrid\n",
    "from sklearn.linear_model import LogisticRegression\n",
    "\n",
    "import mlflow\n",
    "\n",
    "# Load my own custom module\n",
    "import data_loading\n",
    "import model_funcs\n",
    "import constants\n",
    "\n",
    "import imblearn\n",
    "import joblib\n",
    "\n",
    "from sklearn.model_selection import cross_val_score\n",
    "from sklearn.model_selection import KFold\n",
    "import sklearn.metrics as skl_metrics\n",
    "\n",
    "from plotnine import *"
   ]
  },
  {
   "cell_type": "markdown",
   "metadata": {},
   "source": [
    "## Definitions"
   ]
  },
  {
   "cell_type": "code",
   "execution_count": 3,
   "metadata": {},
   "outputs": [],
   "source": [
    "experiment_base_path = f'{constants.base_dir}/mlruns/'\n",
    "\n",
    "test_param_dict = {'C': 1e-1,\n",
    "                 'max_iter': 100,\n",
    "                 'solver': 'saga',\n",
    "                 'class_weight': None,\n",
    "                 'lower_quantile_removed_CoV': 0,\n",
    "                  'use_smote': True}"
   ]
  },
  {
   "cell_type": "markdown",
   "metadata": {},
   "source": [
    "## Funcs"
   ]
  },
  {
   "cell_type": "markdown",
   "metadata": {
    "heading_collapsed": true
   },
   "source": [
    "### Running mlflow experiment"
   ]
  },
  {
   "cell_type": "code",
   "execution_count": 14,
   "metadata": {
    "hidden": true
   },
   "outputs": [],
   "source": [
    "def run_mlflow_exp_v8(X_cv_orig, X_test_orig, y_cv_orig, y_test_orig, curr_param_index, curr_params_dict):\n",
    "    \n",
    "    X_cv = X_cv_orig.copy()\n",
    "    X_test = X_test_orig.copy()\n",
    "    y_cv = y_cv_orig.copy()\n",
    "    y_test = y_test_orig.copy()\n",
    "    \n",
    "    # Set the experiment name\n",
    "    mlflow.set_tracking_uri(f'file://{experiment_base_path}')\n",
    "\n",
    "    # Start a mlflow run\n",
    "    with mlflow.start_run():\n",
    "        mlflow.set_tag('description', \n",
    "        \"\"\"\n",
    "        Sub-Challenge 2: First experiment\n",
    "        \"\"\")\n",
    "\n",
    "        # Define the model\n",
    "        log_regr_clf = LogisticRegression(penalty='l1',\n",
    "                                          C=curr_params_dict['C'],\n",
    "                                          class_weight=curr_params_dict['class_weight'],\n",
    "                                          random_state=110,\n",
    "                                          solver=curr_params_dict['solver'],\n",
    "                                          max_iter=curr_params_dict['max_iter'],\n",
    "                                          verbose=0,\n",
    "                                          n_jobs=None,\n",
    "                                          l1_ratio=None)\n",
    "\n",
    "        # Remove the lowest quartile of genes based on CoV\n",
    "        # Calculate the CoV\n",
    "        gene_expr_cov_list = 100 * (X_cv.std(ddof=1, axis=0) / X_cv.mean(axis=0))\n",
    "\n",
    "        # Calculate the 0.25 quantile\n",
    "        min_cov_threshold = np.quantile(gene_expr_cov_list, q=[curr_params_dict['lower_quantile_removed_CoV']])[0]\n",
    "\n",
    "        # Get a list of genes to removed\n",
    "        low_cov_gene_list = gene_expr_cov_list.loc[(gene_expr_cov_list < min_cov_threshold)].index.tolist()\n",
    "\n",
    "        # Remove the lowest 0.25 quantile of genes based on CoV\n",
    "        X_cv.drop(low_cov_gene_list, axis=1, inplace=True)\n",
    "        X_test.drop(low_cov_gene_list, axis=1, inplace=True)\n",
    "\n",
    "        # Run custom CV so I can train on over-sampled data but test on original data\n",
    "        kfold_obj = KFold(n_splits=5, shuffle=True)\n",
    "\n",
    "        cv_train_accuracy_list = []\n",
    "        cv_test_accuracy_list = []\n",
    "        cv_test_accuracy_of_0_cases_list = []\n",
    "\n",
    "        for curr_train_iloc_list, curr_test_iloc_list in kfold_obj.split(X=X_cv, y=y_cv):\n",
    "\n",
    "            # Create current fold train data\n",
    "            curr_fold_X_train = X_cv.iloc[curr_train_iloc_list, ]\n",
    "            curr_fold_y_train = y_cv.iloc[curr_train_iloc_list, ]\n",
    "\n",
    "            # Create current fold train data\n",
    "            curr_fold_X_test = X_cv.iloc[curr_test_iloc_list, ]\n",
    "            curr_fold_y_test = y_cv.iloc[curr_test_iloc_list, ]\n",
    "\n",
    "            # Run SMOTE on the X,y data\n",
    "            if curr_params_dict['use_smote']:\n",
    "                smote_obj = imblearn.over_sampling.SMOTE(sampling_strategy='auto', \n",
    "                                                         random_state=110, \n",
    "                                                         k_neighbors=5, \n",
    "                                                         n_jobs=None)\n",
    "\n",
    "                curr_fold_X_train, curr_fold_y_train = smote_obj.fit_sample(curr_fold_X_train, curr_fold_y_train)\n",
    "\n",
    "            # Train the model for this k-fold\n",
    "            log_regr_clf.fit(curr_fold_X_train, curr_fold_y_train)\n",
    "\n",
    "            # Calculate accuracy on non-oversampled data\n",
    "            curr_fold_y_train_pred = pd.Series(log_regr_clf.predict(curr_fold_X_train), index=curr_fold_y_train.index)\n",
    "            curr_fold_y_test_pred = pd.Series(log_regr_clf.predict(curr_fold_X_test), index=curr_fold_y_test.index)\n",
    "\n",
    "            # Calculate result metrics like accuracy\n",
    "            cv_train_accuracy_list.append((curr_fold_y_train_pred == curr_fold_y_train).mean())\n",
    "            cv_test_accuracy_list.append((curr_fold_y_test_pred == curr_fold_y_test).mean())\n",
    "\n",
    "            # Calculate the test accuracy of target=0 cases\n",
    "            cv_test_accuracy_of_0_cases_list.append(np.mean(curr_fold_y_test_pred[(curr_fold_y_test == 0)] == 0))\n",
    "\n",
    "\n",
    "        # Run SMOTE on the full X_cv,y_cv data\n",
    "        if curr_params_dict['use_smote']:\n",
    "            smote_obj = imblearn.over_sampling.SMOTE(sampling_strategy='auto', \n",
    "                                                     random_state=110, \n",
    "                                                     k_neighbors=5, \n",
    "                                                     n_jobs=None)\n",
    "            X_cv, y_cv = smote_obj.fit_sample(X_cv, y_cv)\n",
    "\n",
    "        # Train the model\n",
    "        log_regr_clf.fit(X_cv, y_cv)\n",
    "        \n",
    "        # Calculate test accuracy\n",
    "        y_test_pred = pd.Series(log_regr_clf.predict(X_test), index=y_test.index)\n",
    "        test_accuracy = (y_test_pred == y_test).mean()\n",
    "        \n",
    "        # Calculate the false positive rate and true positive rate\n",
    "        train_auc = skl_metrics.roc_auc_score(y_true=y_cv, \n",
    "                                             y_score=log_regr_clf.predict_proba(X_cv)[:, 1])\n",
    "        test_auc = skl_metrics.roc_auc_score(y_true=y_test, \n",
    "                                             y_score=log_regr_clf.predict_proba(X_test)[:, 1])\n",
    "\n",
    "        # Log parameters\n",
    "        mlflow.log_param(\"log10_C\", np.log10(curr_params_dict['C']))\n",
    "        mlflow.log_param(\"log10_max_iter\", np.log10(curr_params_dict['max_iter']))\n",
    "        mlflow.log_param(\"solver\", curr_params_dict['solver'])\n",
    "        mlflow.log_param(\"class_weight\", curr_params_dict['class_weight'])\n",
    "        mlflow.log_param(\"lower_quantile_removed_CoV\", curr_params_dict['lower_quantile_removed_CoV'])\n",
    "        mlflow.log_param(\"use_smote\", curr_params_dict['use_smote'])\n",
    "\n",
    "        # Log the CV metrics\n",
    "        mlflow.log_metric(\"cv_training_accuracy\", np.mean(cv_train_accuracy_list))\n",
    "        mlflow.log_metric(\"cv_test_accuracy\", np.mean(cv_test_accuracy_list))\n",
    "        mlflow.log_metric(\"cv_test_0_class_accuracy\", np.mean(cv_test_accuracy_of_0_cases_list))\n",
    "        \n",
    "        # Log test metrics\n",
    "        mlflow.log_metric(\"test_accuracy\", test_accuracy)\n",
    "        mlflow.log_metric(\"train_auc\", train_auc)\n",
    "        mlflow.log_metric(\"test_auc\", test_auc)\n",
    "\n",
    "        # Log count of non-zero features\n",
    "        mlflow.log_metric(\"count_non_zero_features\", np.sum(log_regr_clf.coef_[0] != 0))"
   ]
  },
  {
   "cell_type": "markdown",
   "metadata": {
    "heading_collapsed": true
   },
   "source": [
    "# Loading subchallenge 2 data"
   ]
  },
  {
   "cell_type": "code",
   "execution_count": 8,
   "metadata": {
    "hidden": true
   },
   "outputs": [],
   "source": [
    "def load_sc2_data():\n",
    "    sc2_Phase1_CN_FeatureMatrix = pd.read_csv(f'{constants.base_dir}/data/raw/sc2_Phase1_CN_FeatureMatrix.tsv', sep    ='\\t')\\\n",
    "        .set_index('PATIENTID')\n",
    "    sc2_Phase1_CN_Outcome = pd.read_csv(f'{constants.base_dir}/data/raw/sc2_Phase1_CN_Outcome.tsv', sep='\\t')\\\n",
    "        .set_index('PATIENTID')\n",
    "    sc2_Phase1_CN_Phenotype = pd.read_csv(f'{constants.base_dir}/data/raw/sc2_Phase1_CN_Phenotype.tsv', sep='\\t')\\\n",
    "        .set_index('PATIENTID')\n",
    "    \n",
    "    return sc2_Phase1_CN_FeatureMatrix, sc2_Phase1_CN_Outcome['SURVIVAL_STATUS'], sc2_Phase1_CN_Phenotype"
   ]
  },
  {
   "cell_type": "markdown",
   "metadata": {
    "heading_collapsed": true
   },
   "source": [
    "# Creating a model and predicting outcome from sub-challenge 2 data"
   ]
  },
  {
   "cell_type": "code",
   "execution_count": 20,
   "metadata": {
    "hidden": true
   },
   "outputs": [
    {
     "name": "stderr",
     "output_type": "stream",
     "text": [
      "/home/alex/miniconda3/envs/precfda_bc/lib/python3.7/site-packages/sklearn/linear_model/_sag.py:330: ConvergenceWarning: The max_iter was reached which means the coef_ did not converge\n",
      "  \"the coef_ did not converge\", ConvergenceWarning)\n",
      "/home/alex/miniconda3/envs/precfda_bc/lib/python3.7/site-packages/sklearn/linear_model/_sag.py:330: ConvergenceWarning: The max_iter was reached which means the coef_ did not converge\n",
      "  \"the coef_ did not converge\", ConvergenceWarning)\n",
      "/home/alex/miniconda3/envs/precfda_bc/lib/python3.7/site-packages/sklearn/linear_model/_sag.py:330: ConvergenceWarning: The max_iter was reached which means the coef_ did not converge\n",
      "  \"the coef_ did not converge\", ConvergenceWarning)\n",
      "/home/alex/miniconda3/envs/precfda_bc/lib/python3.7/site-packages/sklearn/linear_model/_sag.py:330: ConvergenceWarning: The max_iter was reached which means the coef_ did not converge\n",
      "  \"the coef_ did not converge\", ConvergenceWarning)\n",
      "/home/alex/miniconda3/envs/precfda_bc/lib/python3.7/site-packages/sklearn/linear_model/_sag.py:330: ConvergenceWarning: The max_iter was reached which means the coef_ did not converge\n",
      "  \"the coef_ did not converge\", ConvergenceWarning)\n",
      "/home/alex/miniconda3/envs/precfda_bc/lib/python3.7/site-packages/sklearn/linear_model/_sag.py:330: ConvergenceWarning: The max_iter was reached which means the coef_ did not converge\n",
      "  \"the coef_ did not converge\", ConvergenceWarning)\n"
     ]
    }
   ],
   "source": [
    "curr_param_index=0\n",
    "curr_params_dict=test_param_dict\n",
    "\n",
    "# Set the experiment name\n",
    "mlflow.set_tracking_uri(f'file://{experiment_base_path}')\n",
    "mlflow.set_experiment('SC2-V1-l1-Logistic_Regression_Exp')\n",
    "\n",
    "# Start a mlflow run\n",
    "with mlflow.start_run():\n",
    "    mlflow.set_tag('description', \n",
    "    \"\"\"\n",
    "    Sub-Challenge 2: First experiment\n",
    "    \"\"\")\n",
    "\n",
    "    # Define the model\n",
    "    log_regr_clf = LogisticRegression(penalty='l1',\n",
    "                                      C=curr_params_dict['C'],\n",
    "                                      class_weight=curr_params_dict['class_weight'],\n",
    "                                      random_state=110,\n",
    "                                      solver=curr_params_dict['solver'],\n",
    "                                      max_iter=curr_params_dict['max_iter'],\n",
    "                                      verbose=0,\n",
    "                                      n_jobs=None,\n",
    "                                      l1_ratio=None)\n",
    "\n",
    "    # Load the gene expression (GE) raw data from file\n",
    "    X, y, phenotype_df = data_loading.load_sc2_data()\n",
    "    \n",
    "    # Remove the lowest quartile of genes based on CoV\n",
    "    # Calculate the CoV\n",
    "    gene_expr_cov_list = 100 * (X.std(ddof=1, axis=0) / X.mean(axis=0))\n",
    "\n",
    "    # Calculate the 0.25 quantile\n",
    "    min_cov_threshold = np.quantile(gene_expr_cov_list, q=[curr_params_dict['lower_quantile_removed_CoV']])[0]\n",
    "\n",
    "    # Get a list of genes to removed\n",
    "    low_cov_gene_list = gene_expr_cov_list.loc[(gene_expr_cov_list < min_cov_threshold)].index.tolist()\n",
    "\n",
    "    # Remove the lowest 0.25 quantile of genes based on CoV\n",
    "    X.drop(low_cov_gene_list, axis=1, inplace=True)\n",
    "\n",
    "    # Split into CV/test set using target class to stratify\n",
    "    X_cv, X_test, y_cv, y_test = train_test_split(X, y, test_size=0.2, stratify=y)\n",
    "\n",
    "    # Run custom CV so I can train on over-sampled data but test on original data\n",
    "    kfold_obj = KFold(n_splits=5, shuffle=True)\n",
    "\n",
    "    cv_train_accuracy_list = []\n",
    "    cv_test_accuracy_list = []\n",
    "    cv_test_accuracy_of_0_cases_list = []\n",
    "\n",
    "    for curr_train_iloc_list, curr_test_iloc_list in kfold_obj.split(X=X_cv, y=y_cv):\n",
    "\n",
    "        # Create current fold train data\n",
    "        curr_fold_X_train = X_cv.iloc[curr_train_iloc_list, ]\n",
    "        curr_fold_y_train = y_cv.iloc[curr_train_iloc_list, ]\n",
    "\n",
    "        # Create current fold train data\n",
    "        curr_fold_X_test = X_cv.iloc[curr_test_iloc_list, ]\n",
    "        curr_fold_y_test = y_cv.iloc[curr_test_iloc_list, ]\n",
    "\n",
    "        # Run SMOTE on the X,y data\n",
    "        if curr_params_dict['use_smote']:\n",
    "            smote_obj = imblearn.over_sampling.SMOTE(sampling_strategy='auto', \n",
    "                                                     random_state=110, \n",
    "                                                     k_neighbors=5, \n",
    "                                                     n_jobs=None)\n",
    "\n",
    "            curr_fold_X_train, curr_fold_y_train = smote_obj.fit_sample(curr_fold_X_train, curr_fold_y_train)\n",
    "\n",
    "        # Train the model for this k-fold\n",
    "        log_regr_clf.fit(curr_fold_X_train, curr_fold_y_train)\n",
    "\n",
    "        # Calculate accuracy on non-oversampled data\n",
    "        curr_fold_y_train_pred = pd.Series(log_regr_clf.predict(curr_fold_X_train), index=curr_fold_y_train.index)\n",
    "        curr_fold_y_test_pred = pd.Series(log_regr_clf.predict(curr_fold_X_test), index=curr_fold_y_test.index)\n",
    "\n",
    "        # Calculate result metrics like accuracy\n",
    "        cv_train_accuracy_list.append((curr_fold_y_train_pred == curr_fold_y_train).mean())\n",
    "        cv_test_accuracy_list.append((curr_fold_y_test_pred == curr_fold_y_test).mean())\n",
    "\n",
    "        # Calculate the test accuracy of target=0 cases\n",
    "        cv_test_accuracy_of_0_cases_list = np.mean(curr_fold_y_test_pred[(curr_fold_y_test == 0)] == 0)\n",
    "\n",
    "\n",
    "    # Run SMOTE on the full X_cv,y_cv data\n",
    "    if curr_params_dict['use_smote']:\n",
    "        smote_obj = imblearn.over_sampling.SMOTE(sampling_strategy='auto', \n",
    "                                                 random_state=110, \n",
    "                                                 k_neighbors=5, \n",
    "                                                 n_jobs=None)\n",
    "        X_cv, y_cv = smote_obj.fit_sample(X_cv, y_cv)\n",
    "\n",
    "    # Train the model\n",
    "    log_regr_clf.fit(X_cv, y_cv)\n",
    "\n",
    "    # Log parameters\n",
    "    mlflow.log_param(\"log10_C\", np.log10(curr_params_dict['C']))\n",
    "    mlflow.log_param(\"log10_max_iter\", np.log10(curr_params_dict['max_iter']))\n",
    "    mlflow.log_param(\"solver\", curr_params_dict['solver'])\n",
    "    mlflow.log_param(\"class_weight\", curr_params_dict['class_weight'])\n",
    "    mlflow.log_param(\"lower_quantile_removed_CoV\", curr_params_dict['lower_quantile_removed_CoV'])\n",
    "    mlflow.log_param(\"use_smote\", curr_params_dict['use_smote'])\n",
    "\n",
    "    # Log accuracy metrics\n",
    "    mlflow.log_metric(\"cv_training_accuracy\", np.mean(cv_train_accuracy_list))\n",
    "    mlflow.log_metric(\"cv_test_accuracy\", np.mean(cv_test_accuracy_list))\n",
    "    mlflow.log_metric(\"cv_test_0_class_accuracy\", np.mean(cv_test_accuracy_of_0_cases_list))\n",
    "\n",
    "    # Log count of non-zero features\n",
    "    mlflow.log_metric(\"count_non_zero_features\", np.sum(log_regr_clf.coef_[0] != 0))"
   ]
  },
  {
   "cell_type": "markdown",
   "metadata": {
    "heading_collapsed": true
   },
   "source": [
    "# Exp 1 - Running MLFlow"
   ]
  },
  {
   "cell_type": "code",
   "execution_count": 18,
   "metadata": {
    "hidden": true
   },
   "outputs": [
    {
     "name": "stdout",
     "output_type": "stream",
     "text": [
      "INFO: 'SC2-V8-Exp_1-L1-Logistic_Regression_Exp' does not exist. Creating a new experiment\n"
     ]
    },
    {
     "name": "stderr",
     "output_type": "stream",
     "text": [
      "/home/alex/miniconda3/envs/precfda_bc/lib/python3.7/site-packages/sklearn/linear_model/_sag.py:330: ConvergenceWarning: The max_iter was reached which means the coef_ did not converge\n",
      "  \"the coef_ did not converge\", ConvergenceWarning)\n",
      "/home/alex/miniconda3/envs/precfda_bc/lib/python3.7/site-packages/sklearn/linear_model/_sag.py:330: ConvergenceWarning: The max_iter was reached which means the coef_ did not converge\n",
      "  \"the coef_ did not converge\", ConvergenceWarning)\n",
      "/home/alex/miniconda3/envs/precfda_bc/lib/python3.7/site-packages/sklearn/linear_model/_sag.py:330: ConvergenceWarning: The max_iter was reached which means the coef_ did not converge\n",
      "  \"the coef_ did not converge\", ConvergenceWarning)\n",
      "/home/alex/miniconda3/envs/precfda_bc/lib/python3.7/site-packages/sklearn/linear_model/_sag.py:330: ConvergenceWarning: The max_iter was reached which means the coef_ did not converge\n",
      "  \"the coef_ did not converge\", ConvergenceWarning)\n",
      "/home/alex/miniconda3/envs/precfda_bc/lib/python3.7/site-packages/sklearn/linear_model/_sag.py:330: ConvergenceWarning: The max_iter was reached which means the coef_ did not converge\n",
      "  \"the coef_ did not converge\", ConvergenceWarning)\n",
      "/home/alex/miniconda3/envs/precfda_bc/lib/python3.7/site-packages/sklearn/linear_model/_sag.py:330: ConvergenceWarning: The max_iter was reached which means the coef_ did not converge\n",
      "  \"the coef_ did not converge\", ConvergenceWarning)\n",
      "/home/alex/miniconda3/envs/precfda_bc/lib/python3.7/site-packages/sklearn/linear_model/_sag.py:330: ConvergenceWarning: The max_iter was reached which means the coef_ did not converge\n",
      "  \"the coef_ did not converge\", ConvergenceWarning)\n",
      "/home/alex/miniconda3/envs/precfda_bc/lib/python3.7/site-packages/sklearn/linear_model/_sag.py:330: ConvergenceWarning: The max_iter was reached which means the coef_ did not converge\n",
      "  \"the coef_ did not converge\", ConvergenceWarning)\n",
      "/home/alex/miniconda3/envs/precfda_bc/lib/python3.7/site-packages/sklearn/linear_model/_sag.py:330: ConvergenceWarning: The max_iter was reached which means the coef_ did not converge\n",
      "  \"the coef_ did not converge\", ConvergenceWarning)\n",
      "/home/alex/miniconda3/envs/precfda_bc/lib/python3.7/site-packages/sklearn/linear_model/_sag.py:330: ConvergenceWarning: The max_iter was reached which means the coef_ did not converge\n",
      "  \"the coef_ did not converge\", ConvergenceWarning)\n",
      "/home/alex/miniconda3/envs/precfda_bc/lib/python3.7/site-packages/sklearn/linear_model/_sag.py:330: ConvergenceWarning: The max_iter was reached which means the coef_ did not converge\n",
      "  \"the coef_ did not converge\", ConvergenceWarning)\n",
      "/home/alex/miniconda3/envs/precfda_bc/lib/python3.7/site-packages/sklearn/linear_model/_sag.py:330: ConvergenceWarning: The max_iter was reached which means the coef_ did not converge\n",
      "  \"the coef_ did not converge\", ConvergenceWarning)\n",
      "/home/alex/miniconda3/envs/precfda_bc/lib/python3.7/site-packages/sklearn/linear_model/_sag.py:330: ConvergenceWarning: The max_iter was reached which means the coef_ did not converge\n",
      "  \"the coef_ did not converge\", ConvergenceWarning)\n",
      "/home/alex/miniconda3/envs/precfda_bc/lib/python3.7/site-packages/sklearn/linear_model/_sag.py:330: ConvergenceWarning: The max_iter was reached which means the coef_ did not converge\n",
      "  \"the coef_ did not converge\", ConvergenceWarning)\n",
      "/home/alex/miniconda3/envs/precfda_bc/lib/python3.7/site-packages/sklearn/linear_model/_sag.py:330: ConvergenceWarning: The max_iter was reached which means the coef_ did not converge\n",
      "  \"the coef_ did not converge\", ConvergenceWarning)\n",
      "/home/alex/miniconda3/envs/precfda_bc/lib/python3.7/site-packages/sklearn/linear_model/_sag.py:330: ConvergenceWarning: The max_iter was reached which means the coef_ did not converge\n",
      "  \"the coef_ did not converge\", ConvergenceWarning)\n",
      "/home/alex/miniconda3/envs/precfda_bc/lib/python3.7/site-packages/sklearn/linear_model/_sag.py:330: ConvergenceWarning: The max_iter was reached which means the coef_ did not converge\n",
      "  \"the coef_ did not converge\", ConvergenceWarning)\n",
      "/home/alex/miniconda3/envs/precfda_bc/lib/python3.7/site-packages/sklearn/linear_model/_sag.py:330: ConvergenceWarning: The max_iter was reached which means the coef_ did not converge\n",
      "  \"the coef_ did not converge\", ConvergenceWarning)\n",
      "/home/alex/miniconda3/envs/precfda_bc/lib/python3.7/site-packages/sklearn/linear_model/_sag.py:330: ConvergenceWarning: The max_iter was reached which means the coef_ did not converge\n",
      "  \"the coef_ did not converge\", ConvergenceWarning)\n",
      "/home/alex/miniconda3/envs/precfda_bc/lib/python3.7/site-packages/sklearn/linear_model/_sag.py:330: ConvergenceWarning: The max_iter was reached which means the coef_ did not converge\n",
      "  \"the coef_ did not converge\", ConvergenceWarning)\n",
      "/home/alex/miniconda3/envs/precfda_bc/lib/python3.7/site-packages/sklearn/linear_model/_sag.py:330: ConvergenceWarning: The max_iter was reached which means the coef_ did not converge\n",
      "  \"the coef_ did not converge\", ConvergenceWarning)\n",
      "/home/alex/miniconda3/envs/precfda_bc/lib/python3.7/site-packages/sklearn/linear_model/_sag.py:330: ConvergenceWarning: The max_iter was reached which means the coef_ did not converge\n",
      "  \"the coef_ did not converge\", ConvergenceWarning)\n",
      "/home/alex/miniconda3/envs/precfda_bc/lib/python3.7/site-packages/sklearn/linear_model/_sag.py:330: ConvergenceWarning: The max_iter was reached which means the coef_ did not converge\n",
      "  \"the coef_ did not converge\", ConvergenceWarning)\n",
      "/home/alex/miniconda3/envs/precfda_bc/lib/python3.7/site-packages/sklearn/linear_model/_sag.py:330: ConvergenceWarning: The max_iter was reached which means the coef_ did not converge\n",
      "  \"the coef_ did not converge\", ConvergenceWarning)\n",
      "/home/alex/miniconda3/envs/precfda_bc/lib/python3.7/site-packages/sklearn/linear_model/_sag.py:330: ConvergenceWarning: The max_iter was reached which means the coef_ did not converge\n",
      "  \"the coef_ did not converge\", ConvergenceWarning)\n",
      "/home/alex/miniconda3/envs/precfda_bc/lib/python3.7/site-packages/sklearn/linear_model/_sag.py:330: ConvergenceWarning: The max_iter was reached which means the coef_ did not converge\n",
      "  \"the coef_ did not converge\", ConvergenceWarning)\n",
      "/home/alex/miniconda3/envs/precfda_bc/lib/python3.7/site-packages/sklearn/linear_model/_sag.py:330: ConvergenceWarning: The max_iter was reached which means the coef_ did not converge\n",
      "  \"the coef_ did not converge\", ConvergenceWarning)\n",
      "/home/alex/miniconda3/envs/precfda_bc/lib/python3.7/site-packages/sklearn/linear_model/_sag.py:330: ConvergenceWarning: The max_iter was reached which means the coef_ did not converge\n",
      "  \"the coef_ did not converge\", ConvergenceWarning)\n",
      "/home/alex/miniconda3/envs/precfda_bc/lib/python3.7/site-packages/sklearn/linear_model/_sag.py:330: ConvergenceWarning: The max_iter was reached which means the coef_ did not converge\n",
      "  \"the coef_ did not converge\", ConvergenceWarning)\n",
      "/home/alex/miniconda3/envs/precfda_bc/lib/python3.7/site-packages/sklearn/linear_model/_sag.py:330: ConvergenceWarning: The max_iter was reached which means the coef_ did not converge\n",
      "  \"the coef_ did not converge\", ConvergenceWarning)\n",
      "/home/alex/miniconda3/envs/precfda_bc/lib/python3.7/site-packages/sklearn/linear_model/_sag.py:330: ConvergenceWarning: The max_iter was reached which means the coef_ did not converge\n",
      "  \"the coef_ did not converge\", ConvergenceWarning)\n",
      "/home/alex/miniconda3/envs/precfda_bc/lib/python3.7/site-packages/sklearn/linear_model/_sag.py:330: ConvergenceWarning: The max_iter was reached which means the coef_ did not converge\n",
      "  \"the coef_ did not converge\", ConvergenceWarning)\n",
      "/home/alex/miniconda3/envs/precfda_bc/lib/python3.7/site-packages/sklearn/linear_model/_sag.py:330: ConvergenceWarning: The max_iter was reached which means the coef_ did not converge\n",
      "  \"the coef_ did not converge\", ConvergenceWarning)\n",
      "/home/alex/miniconda3/envs/precfda_bc/lib/python3.7/site-packages/sklearn/linear_model/_sag.py:330: ConvergenceWarning: The max_iter was reached which means the coef_ did not converge\n",
      "  \"the coef_ did not converge\", ConvergenceWarning)\n",
      "/home/alex/miniconda3/envs/precfda_bc/lib/python3.7/site-packages/sklearn/linear_model/_sag.py:330: ConvergenceWarning: The max_iter was reached which means the coef_ did not converge\n",
      "  \"the coef_ did not converge\", ConvergenceWarning)\n"
     ]
    },
    {
     "name": "stderr",
     "output_type": "stream",
     "text": [
      "/home/alex/miniconda3/envs/precfda_bc/lib/python3.7/site-packages/sklearn/linear_model/_sag.py:330: ConvergenceWarning: The max_iter was reached which means the coef_ did not converge\n",
      "  \"the coef_ did not converge\", ConvergenceWarning)\n",
      "/home/alex/miniconda3/envs/precfda_bc/lib/python3.7/site-packages/sklearn/linear_model/_sag.py:330: ConvergenceWarning: The max_iter was reached which means the coef_ did not converge\n",
      "  \"the coef_ did not converge\", ConvergenceWarning)\n",
      "/home/alex/miniconda3/envs/precfda_bc/lib/python3.7/site-packages/sklearn/linear_model/_sag.py:330: ConvergenceWarning: The max_iter was reached which means the coef_ did not converge\n",
      "  \"the coef_ did not converge\", ConvergenceWarning)\n",
      "/home/alex/miniconda3/envs/precfda_bc/lib/python3.7/site-packages/sklearn/linear_model/_sag.py:330: ConvergenceWarning: The max_iter was reached which means the coef_ did not converge\n",
      "  \"the coef_ did not converge\", ConvergenceWarning)\n",
      "/home/alex/miniconda3/envs/precfda_bc/lib/python3.7/site-packages/sklearn/linear_model/_sag.py:330: ConvergenceWarning: The max_iter was reached which means the coef_ did not converge\n",
      "  \"the coef_ did not converge\", ConvergenceWarning)\n",
      "/home/alex/miniconda3/envs/precfda_bc/lib/python3.7/site-packages/sklearn/linear_model/_sag.py:330: ConvergenceWarning: The max_iter was reached which means the coef_ did not converge\n",
      "  \"the coef_ did not converge\", ConvergenceWarning)\n",
      "/home/alex/miniconda3/envs/precfda_bc/lib/python3.7/site-packages/sklearn/linear_model/_sag.py:330: ConvergenceWarning: The max_iter was reached which means the coef_ did not converge\n",
      "  \"the coef_ did not converge\", ConvergenceWarning)\n",
      "/home/alex/miniconda3/envs/precfda_bc/lib/python3.7/site-packages/sklearn/linear_model/_sag.py:330: ConvergenceWarning: The max_iter was reached which means the coef_ did not converge\n",
      "  \"the coef_ did not converge\", ConvergenceWarning)\n",
      "/home/alex/miniconda3/envs/precfda_bc/lib/python3.7/site-packages/sklearn/linear_model/_sag.py:330: ConvergenceWarning: The max_iter was reached which means the coef_ did not converge\n",
      "  \"the coef_ did not converge\", ConvergenceWarning)\n",
      "/home/alex/miniconda3/envs/precfda_bc/lib/python3.7/site-packages/sklearn/linear_model/_sag.py:330: ConvergenceWarning: The max_iter was reached which means the coef_ did not converge\n",
      "  \"the coef_ did not converge\", ConvergenceWarning)\n",
      "/home/alex/miniconda3/envs/precfda_bc/lib/python3.7/site-packages/sklearn/linear_model/_sag.py:330: ConvergenceWarning: The max_iter was reached which means the coef_ did not converge\n",
      "  \"the coef_ did not converge\", ConvergenceWarning)\n",
      "/home/alex/miniconda3/envs/precfda_bc/lib/python3.7/site-packages/sklearn/linear_model/_sag.py:330: ConvergenceWarning: The max_iter was reached which means the coef_ did not converge\n",
      "  \"the coef_ did not converge\", ConvergenceWarning)\n",
      "/home/alex/miniconda3/envs/precfda_bc/lib/python3.7/site-packages/sklearn/linear_model/_sag.py:330: ConvergenceWarning: The max_iter was reached which means the coef_ did not converge\n",
      "  \"the coef_ did not converge\", ConvergenceWarning)\n",
      "/home/alex/miniconda3/envs/precfda_bc/lib/python3.7/site-packages/sklearn/linear_model/_sag.py:330: ConvergenceWarning: The max_iter was reached which means the coef_ did not converge\n",
      "  \"the coef_ did not converge\", ConvergenceWarning)\n",
      "/home/alex/miniconda3/envs/precfda_bc/lib/python3.7/site-packages/sklearn/linear_model/_sag.py:330: ConvergenceWarning: The max_iter was reached which means the coef_ did not converge\n",
      "  \"the coef_ did not converge\", ConvergenceWarning)\n",
      "/home/alex/miniconda3/envs/precfda_bc/lib/python3.7/site-packages/sklearn/linear_model/_sag.py:330: ConvergenceWarning: The max_iter was reached which means the coef_ did not converge\n",
      "  \"the coef_ did not converge\", ConvergenceWarning)\n",
      "/home/alex/miniconda3/envs/precfda_bc/lib/python3.7/site-packages/sklearn/linear_model/_sag.py:330: ConvergenceWarning: The max_iter was reached which means the coef_ did not converge\n",
      "  \"the coef_ did not converge\", ConvergenceWarning)\n",
      "/home/alex/miniconda3/envs/precfda_bc/lib/python3.7/site-packages/sklearn/linear_model/_sag.py:330: ConvergenceWarning: The max_iter was reached which means the coef_ did not converge\n",
      "  \"the coef_ did not converge\", ConvergenceWarning)\n",
      "/home/alex/miniconda3/envs/precfda_bc/lib/python3.7/site-packages/sklearn/linear_model/_sag.py:330: ConvergenceWarning: The max_iter was reached which means the coef_ did not converge\n",
      "  \"the coef_ did not converge\", ConvergenceWarning)\n",
      "/home/alex/miniconda3/envs/precfda_bc/lib/python3.7/site-packages/sklearn/linear_model/_sag.py:330: ConvergenceWarning: The max_iter was reached which means the coef_ did not converge\n",
      "  \"the coef_ did not converge\", ConvergenceWarning)\n",
      "/home/alex/miniconda3/envs/precfda_bc/lib/python3.7/site-packages/sklearn/linear_model/_sag.py:330: ConvergenceWarning: The max_iter was reached which means the coef_ did not converge\n",
      "  \"the coef_ did not converge\", ConvergenceWarning)\n",
      "/home/alex/miniconda3/envs/precfda_bc/lib/python3.7/site-packages/sklearn/linear_model/_sag.py:330: ConvergenceWarning: The max_iter was reached which means the coef_ did not converge\n",
      "  \"the coef_ did not converge\", ConvergenceWarning)\n",
      "/home/alex/miniconda3/envs/precfda_bc/lib/python3.7/site-packages/sklearn/linear_model/_sag.py:330: ConvergenceWarning: The max_iter was reached which means the coef_ did not converge\n",
      "  \"the coef_ did not converge\", ConvergenceWarning)\n",
      "/home/alex/miniconda3/envs/precfda_bc/lib/python3.7/site-packages/sklearn/linear_model/_sag.py:330: ConvergenceWarning: The max_iter was reached which means the coef_ did not converge\n",
      "  \"the coef_ did not converge\", ConvergenceWarning)\n",
      "/home/alex/miniconda3/envs/precfda_bc/lib/python3.7/site-packages/sklearn/linear_model/_sag.py:330: ConvergenceWarning: The max_iter was reached which means the coef_ did not converge\n",
      "  \"the coef_ did not converge\", ConvergenceWarning)\n",
      "/home/alex/miniconda3/envs/precfda_bc/lib/python3.7/site-packages/sklearn/linear_model/_sag.py:330: ConvergenceWarning: The max_iter was reached which means the coef_ did not converge\n",
      "  \"the coef_ did not converge\", ConvergenceWarning)\n",
      "/home/alex/miniconda3/envs/precfda_bc/lib/python3.7/site-packages/sklearn/linear_model/_sag.py:330: ConvergenceWarning: The max_iter was reached which means the coef_ did not converge\n",
      "  \"the coef_ did not converge\", ConvergenceWarning)\n",
      "/home/alex/miniconda3/envs/precfda_bc/lib/python3.7/site-packages/sklearn/linear_model/_sag.py:330: ConvergenceWarning: The max_iter was reached which means the coef_ did not converge\n",
      "  \"the coef_ did not converge\", ConvergenceWarning)\n",
      "/home/alex/miniconda3/envs/precfda_bc/lib/python3.7/site-packages/sklearn/linear_model/_sag.py:330: ConvergenceWarning: The max_iter was reached which means the coef_ did not converge\n",
      "  \"the coef_ did not converge\", ConvergenceWarning)\n",
      "/home/alex/miniconda3/envs/precfda_bc/lib/python3.7/site-packages/sklearn/linear_model/_sag.py:330: ConvergenceWarning: The max_iter was reached which means the coef_ did not converge\n",
      "  \"the coef_ did not converge\", ConvergenceWarning)\n",
      "/home/alex/miniconda3/envs/precfda_bc/lib/python3.7/site-packages/sklearn/linear_model/_sag.py:330: ConvergenceWarning: The max_iter was reached which means the coef_ did not converge\n",
      "  \"the coef_ did not converge\", ConvergenceWarning)\n",
      "/home/alex/miniconda3/envs/precfda_bc/lib/python3.7/site-packages/sklearn/linear_model/_sag.py:330: ConvergenceWarning: The max_iter was reached which means the coef_ did not converge\n",
      "  \"the coef_ did not converge\", ConvergenceWarning)\n",
      "/home/alex/miniconda3/envs/precfda_bc/lib/python3.7/site-packages/sklearn/linear_model/_sag.py:330: ConvergenceWarning: The max_iter was reached which means the coef_ did not converge\n",
      "  \"the coef_ did not converge\", ConvergenceWarning)\n",
      "/home/alex/miniconda3/envs/precfda_bc/lib/python3.7/site-packages/sklearn/linear_model/_sag.py:330: ConvergenceWarning: The max_iter was reached which means the coef_ did not converge\n",
      "  \"the coef_ did not converge\", ConvergenceWarning)\n",
      "/home/alex/miniconda3/envs/precfda_bc/lib/python3.7/site-packages/sklearn/linear_model/_sag.py:330: ConvergenceWarning: The max_iter was reached which means the coef_ did not converge\n",
      "  \"the coef_ did not converge\", ConvergenceWarning)\n"
     ]
    },
    {
     "name": "stderr",
     "output_type": "stream",
     "text": [
      "/home/alex/miniconda3/envs/precfda_bc/lib/python3.7/site-packages/sklearn/linear_model/_sag.py:330: ConvergenceWarning: The max_iter was reached which means the coef_ did not converge\n",
      "  \"the coef_ did not converge\", ConvergenceWarning)\n",
      "/home/alex/miniconda3/envs/precfda_bc/lib/python3.7/site-packages/sklearn/linear_model/_sag.py:330: ConvergenceWarning: The max_iter was reached which means the coef_ did not converge\n",
      "  \"the coef_ did not converge\", ConvergenceWarning)\n",
      "/home/alex/miniconda3/envs/precfda_bc/lib/python3.7/site-packages/sklearn/linear_model/_sag.py:330: ConvergenceWarning: The max_iter was reached which means the coef_ did not converge\n",
      "  \"the coef_ did not converge\", ConvergenceWarning)\n",
      "/home/alex/miniconda3/envs/precfda_bc/lib/python3.7/site-packages/sklearn/linear_model/_sag.py:330: ConvergenceWarning: The max_iter was reached which means the coef_ did not converge\n",
      "  \"the coef_ did not converge\", ConvergenceWarning)\n",
      "/home/alex/miniconda3/envs/precfda_bc/lib/python3.7/site-packages/sklearn/linear_model/_sag.py:330: ConvergenceWarning: The max_iter was reached which means the coef_ did not converge\n",
      "  \"the coef_ did not converge\", ConvergenceWarning)\n",
      "/home/alex/miniconda3/envs/precfda_bc/lib/python3.7/site-packages/sklearn/linear_model/_sag.py:330: ConvergenceWarning: The max_iter was reached which means the coef_ did not converge\n",
      "  \"the coef_ did not converge\", ConvergenceWarning)\n",
      "/home/alex/miniconda3/envs/precfda_bc/lib/python3.7/site-packages/sklearn/linear_model/_sag.py:330: ConvergenceWarning: The max_iter was reached which means the coef_ did not converge\n",
      "  \"the coef_ did not converge\", ConvergenceWarning)\n",
      "/home/alex/miniconda3/envs/precfda_bc/lib/python3.7/site-packages/sklearn/linear_model/_sag.py:330: ConvergenceWarning: The max_iter was reached which means the coef_ did not converge\n",
      "  \"the coef_ did not converge\", ConvergenceWarning)\n",
      "/home/alex/miniconda3/envs/precfda_bc/lib/python3.7/site-packages/sklearn/linear_model/_sag.py:330: ConvergenceWarning: The max_iter was reached which means the coef_ did not converge\n",
      "  \"the coef_ did not converge\", ConvergenceWarning)\n",
      "/home/alex/miniconda3/envs/precfda_bc/lib/python3.7/site-packages/sklearn/linear_model/_sag.py:330: ConvergenceWarning: The max_iter was reached which means the coef_ did not converge\n",
      "  \"the coef_ did not converge\", ConvergenceWarning)\n",
      "/home/alex/miniconda3/envs/precfda_bc/lib/python3.7/site-packages/sklearn/linear_model/_sag.py:330: ConvergenceWarning: The max_iter was reached which means the coef_ did not converge\n",
      "  \"the coef_ did not converge\", ConvergenceWarning)\n",
      "/home/alex/miniconda3/envs/precfda_bc/lib/python3.7/site-packages/sklearn/linear_model/_sag.py:330: ConvergenceWarning: The max_iter was reached which means the coef_ did not converge\n",
      "  \"the coef_ did not converge\", ConvergenceWarning)\n",
      "/home/alex/miniconda3/envs/precfda_bc/lib/python3.7/site-packages/sklearn/linear_model/_sag.py:330: ConvergenceWarning: The max_iter was reached which means the coef_ did not converge\n",
      "  \"the coef_ did not converge\", ConvergenceWarning)\n",
      "/home/alex/miniconda3/envs/precfda_bc/lib/python3.7/site-packages/sklearn/linear_model/_sag.py:330: ConvergenceWarning: The max_iter was reached which means the coef_ did not converge\n",
      "  \"the coef_ did not converge\", ConvergenceWarning)\n",
      "/home/alex/miniconda3/envs/precfda_bc/lib/python3.7/site-packages/sklearn/linear_model/_sag.py:330: ConvergenceWarning: The max_iter was reached which means the coef_ did not converge\n",
      "  \"the coef_ did not converge\", ConvergenceWarning)\n",
      "/home/alex/miniconda3/envs/precfda_bc/lib/python3.7/site-packages/sklearn/linear_model/_sag.py:330: ConvergenceWarning: The max_iter was reached which means the coef_ did not converge\n",
      "  \"the coef_ did not converge\", ConvergenceWarning)\n",
      "/home/alex/miniconda3/envs/precfda_bc/lib/python3.7/site-packages/sklearn/linear_model/_sag.py:330: ConvergenceWarning: The max_iter was reached which means the coef_ did not converge\n",
      "  \"the coef_ did not converge\", ConvergenceWarning)\n",
      "/home/alex/miniconda3/envs/precfda_bc/lib/python3.7/site-packages/sklearn/linear_model/_sag.py:330: ConvergenceWarning: The max_iter was reached which means the coef_ did not converge\n",
      "  \"the coef_ did not converge\", ConvergenceWarning)\n",
      "/home/alex/miniconda3/envs/precfda_bc/lib/python3.7/site-packages/sklearn/linear_model/_sag.py:330: ConvergenceWarning: The max_iter was reached which means the coef_ did not converge\n",
      "  \"the coef_ did not converge\", ConvergenceWarning)\n",
      "/home/alex/miniconda3/envs/precfda_bc/lib/python3.7/site-packages/sklearn/linear_model/_sag.py:330: ConvergenceWarning: The max_iter was reached which means the coef_ did not converge\n",
      "  \"the coef_ did not converge\", ConvergenceWarning)\n",
      "/home/alex/miniconda3/envs/precfda_bc/lib/python3.7/site-packages/sklearn/linear_model/_sag.py:330: ConvergenceWarning: The max_iter was reached which means the coef_ did not converge\n",
      "  \"the coef_ did not converge\", ConvergenceWarning)\n",
      "/home/alex/miniconda3/envs/precfda_bc/lib/python3.7/site-packages/sklearn/linear_model/_sag.py:330: ConvergenceWarning: The max_iter was reached which means the coef_ did not converge\n",
      "  \"the coef_ did not converge\", ConvergenceWarning)\n",
      "/home/alex/miniconda3/envs/precfda_bc/lib/python3.7/site-packages/sklearn/linear_model/_sag.py:330: ConvergenceWarning: The max_iter was reached which means the coef_ did not converge\n",
      "  \"the coef_ did not converge\", ConvergenceWarning)\n",
      "/home/alex/miniconda3/envs/precfda_bc/lib/python3.7/site-packages/sklearn/linear_model/_sag.py:330: ConvergenceWarning: The max_iter was reached which means the coef_ did not converge\n",
      "  \"the coef_ did not converge\", ConvergenceWarning)\n",
      "/home/alex/miniconda3/envs/precfda_bc/lib/python3.7/site-packages/sklearn/linear_model/_sag.py:330: ConvergenceWarning: The max_iter was reached which means the coef_ did not converge\n",
      "  \"the coef_ did not converge\", ConvergenceWarning)\n",
      "/home/alex/miniconda3/envs/precfda_bc/lib/python3.7/site-packages/sklearn/linear_model/_sag.py:330: ConvergenceWarning: The max_iter was reached which means the coef_ did not converge\n",
      "  \"the coef_ did not converge\", ConvergenceWarning)\n",
      "/home/alex/miniconda3/envs/precfda_bc/lib/python3.7/site-packages/sklearn/linear_model/_sag.py:330: ConvergenceWarning: The max_iter was reached which means the coef_ did not converge\n",
      "  \"the coef_ did not converge\", ConvergenceWarning)\n",
      "/home/alex/miniconda3/envs/precfda_bc/lib/python3.7/site-packages/sklearn/linear_model/_sag.py:330: ConvergenceWarning: The max_iter was reached which means the coef_ did not converge\n",
      "  \"the coef_ did not converge\", ConvergenceWarning)\n",
      "/home/alex/miniconda3/envs/precfda_bc/lib/python3.7/site-packages/sklearn/linear_model/_sag.py:330: ConvergenceWarning: The max_iter was reached which means the coef_ did not converge\n",
      "  \"the coef_ did not converge\", ConvergenceWarning)\n",
      "/home/alex/miniconda3/envs/precfda_bc/lib/python3.7/site-packages/sklearn/linear_model/_sag.py:330: ConvergenceWarning: The max_iter was reached which means the coef_ did not converge\n",
      "  \"the coef_ did not converge\", ConvergenceWarning)\n",
      "/home/alex/miniconda3/envs/precfda_bc/lib/python3.7/site-packages/sklearn/linear_model/_sag.py:330: ConvergenceWarning: The max_iter was reached which means the coef_ did not converge\n",
      "  \"the coef_ did not converge\", ConvergenceWarning)\n",
      "/home/alex/miniconda3/envs/precfda_bc/lib/python3.7/site-packages/sklearn/linear_model/_sag.py:330: ConvergenceWarning: The max_iter was reached which means the coef_ did not converge\n",
      "  \"the coef_ did not converge\", ConvergenceWarning)\n",
      "/home/alex/miniconda3/envs/precfda_bc/lib/python3.7/site-packages/sklearn/linear_model/_sag.py:330: ConvergenceWarning: The max_iter was reached which means the coef_ did not converge\n",
      "  \"the coef_ did not converge\", ConvergenceWarning)\n",
      "/home/alex/miniconda3/envs/precfda_bc/lib/python3.7/site-packages/sklearn/linear_model/_sag.py:330: ConvergenceWarning: The max_iter was reached which means the coef_ did not converge\n",
      "  \"the coef_ did not converge\", ConvergenceWarning)\n",
      "/home/alex/miniconda3/envs/precfda_bc/lib/python3.7/site-packages/sklearn/linear_model/_sag.py:330: ConvergenceWarning: The max_iter was reached which means the coef_ did not converge\n",
      "  \"the coef_ did not converge\", ConvergenceWarning)\n"
     ]
    },
    {
     "name": "stderr",
     "output_type": "stream",
     "text": [
      "/home/alex/miniconda3/envs/precfda_bc/lib/python3.7/site-packages/sklearn/linear_model/_sag.py:330: ConvergenceWarning: The max_iter was reached which means the coef_ did not converge\n",
      "  \"the coef_ did not converge\", ConvergenceWarning)\n",
      "/home/alex/miniconda3/envs/precfda_bc/lib/python3.7/site-packages/sklearn/linear_model/_sag.py:330: ConvergenceWarning: The max_iter was reached which means the coef_ did not converge\n",
      "  \"the coef_ did not converge\", ConvergenceWarning)\n",
      "/home/alex/miniconda3/envs/precfda_bc/lib/python3.7/site-packages/sklearn/linear_model/_sag.py:330: ConvergenceWarning: The max_iter was reached which means the coef_ did not converge\n",
      "  \"the coef_ did not converge\", ConvergenceWarning)\n",
      "/home/alex/miniconda3/envs/precfda_bc/lib/python3.7/site-packages/sklearn/linear_model/_sag.py:330: ConvergenceWarning: The max_iter was reached which means the coef_ did not converge\n",
      "  \"the coef_ did not converge\", ConvergenceWarning)\n",
      "/home/alex/miniconda3/envs/precfda_bc/lib/python3.7/site-packages/sklearn/linear_model/_sag.py:330: ConvergenceWarning: The max_iter was reached which means the coef_ did not converge\n",
      "  \"the coef_ did not converge\", ConvergenceWarning)\n",
      "/home/alex/miniconda3/envs/precfda_bc/lib/python3.7/site-packages/sklearn/linear_model/_sag.py:330: ConvergenceWarning: The max_iter was reached which means the coef_ did not converge\n",
      "  \"the coef_ did not converge\", ConvergenceWarning)\n",
      "/home/alex/miniconda3/envs/precfda_bc/lib/python3.7/site-packages/sklearn/linear_model/_sag.py:330: ConvergenceWarning: The max_iter was reached which means the coef_ did not converge\n",
      "  \"the coef_ did not converge\", ConvergenceWarning)\n",
      "/home/alex/miniconda3/envs/precfda_bc/lib/python3.7/site-packages/sklearn/linear_model/_sag.py:330: ConvergenceWarning: The max_iter was reached which means the coef_ did not converge\n",
      "  \"the coef_ did not converge\", ConvergenceWarning)\n",
      "/home/alex/miniconda3/envs/precfda_bc/lib/python3.7/site-packages/sklearn/linear_model/_sag.py:330: ConvergenceWarning: The max_iter was reached which means the coef_ did not converge\n",
      "  \"the coef_ did not converge\", ConvergenceWarning)\n",
      "/home/alex/miniconda3/envs/precfda_bc/lib/python3.7/site-packages/sklearn/linear_model/_sag.py:330: ConvergenceWarning: The max_iter was reached which means the coef_ did not converge\n",
      "  \"the coef_ did not converge\", ConvergenceWarning)\n",
      "/home/alex/miniconda3/envs/precfda_bc/lib/python3.7/site-packages/sklearn/linear_model/_sag.py:330: ConvergenceWarning: The max_iter was reached which means the coef_ did not converge\n",
      "  \"the coef_ did not converge\", ConvergenceWarning)\n",
      "/home/alex/miniconda3/envs/precfda_bc/lib/python3.7/site-packages/sklearn/linear_model/_sag.py:330: ConvergenceWarning: The max_iter was reached which means the coef_ did not converge\n",
      "  \"the coef_ did not converge\", ConvergenceWarning)\n",
      "/home/alex/miniconda3/envs/precfda_bc/lib/python3.7/site-packages/sklearn/linear_model/_sag.py:330: ConvergenceWarning: The max_iter was reached which means the coef_ did not converge\n",
      "  \"the coef_ did not converge\", ConvergenceWarning)\n",
      "/home/alex/miniconda3/envs/precfda_bc/lib/python3.7/site-packages/sklearn/linear_model/_sag.py:330: ConvergenceWarning: The max_iter was reached which means the coef_ did not converge\n",
      "  \"the coef_ did not converge\", ConvergenceWarning)\n",
      "/home/alex/miniconda3/envs/precfda_bc/lib/python3.7/site-packages/sklearn/linear_model/_sag.py:330: ConvergenceWarning: The max_iter was reached which means the coef_ did not converge\n",
      "  \"the coef_ did not converge\", ConvergenceWarning)\n"
     ]
    },
    {
     "name": "stdout",
     "output_type": "stream",
     "text": [
      "CPU times: user 210 ms, sys: 91.3 ms, total: 301 ms\n",
      "Wall time: 20.1 s\n"
     ]
    }
   ],
   "source": [
    "%%time\n",
    "\n",
    "# Set the experiment name\n",
    "mlflow.set_tracking_uri(f'file://{experiment_base_path}')\n",
    "mlflow.set_experiment('SC2-V8-Exp_1-L1-Logistic_Regression_Exp')\n",
    "    \n",
    "# Define the parameter grid\n",
    "param_dict = {'C': np.logspace(-2, 0, 5).tolist() + np.logspace(1, 5, 3).tolist(),\n",
    "             'max_iter': [1000],\n",
    "             'solver': ['saga'],\n",
    "             'class_weight': [None],\n",
    "             'lower_quantile_removed_CoV': [0, 0.25, 0.5, 0.9],\n",
    "             'use_smote': [True]}\n",
    "\n",
    "# Load the gene expression (GE) raw data from file\n",
    "X, y, phenotype_df = data_loading.load_sc2_data()\n",
    "        \n",
    "# Split into CV/test set using target class to stratify\n",
    "X_cv, X_test, y_cv, y_test = train_test_split(X, y, test_size=0.2, stratify=y, random_state=110)\n",
    "\n",
    "# Run mlflow runs in parallel\n",
    "results = joblib.Parallel(n_jobs=-1, backend='multiprocessing')\\\n",
    "    (joblib.delayed(run_mlflow_exp_v8)(X_cv, X_test, y_cv, y_test, curr_param_index, curr_params_dict)\\\n",
    "         for curr_param_index, curr_params_dict in enumerate(ParameterGrid(param_dict)))"
   ]
  },
  {
   "cell_type": "markdown",
   "metadata": {
    "hidden": true
   },
   "source": [
    "## Getting the results as a dataframe"
   ]
  },
  {
   "cell_type": "code",
   "execution_count": 16,
   "metadata": {
    "hidden": true
   },
   "outputs": [
    {
     "ename": "AttributeError",
     "evalue": "'NoneType' object has no attribute 'experiment_id'",
     "output_type": "error",
     "traceback": [
      "\u001b[0;31m---------------------------------------------------------------------------\u001b[0m",
      "\u001b[0;31mAttributeError\u001b[0m                            Traceback (most recent call last)",
      "\u001b[0;32m<ipython-input-16-72fd7823082b>\u001b[0m in \u001b[0;36m<module>\u001b[0;34m\u001b[0m\n\u001b[1;32m      1\u001b[0m \u001b[0;31m# Get the experiment id from the experiment name\u001b[0m\u001b[0;34m\u001b[0m\u001b[0;34m\u001b[0m\u001b[0;34m\u001b[0m\u001b[0m\n\u001b[0;32m----> 2\u001b[0;31m \u001b[0mcurr_experiment_id\u001b[0m\u001b[0;34m=\u001b[0m\u001b[0mmlflow\u001b[0m\u001b[0;34m.\u001b[0m\u001b[0mget_experiment_by_name\u001b[0m\u001b[0;34m(\u001b[0m\u001b[0;34m'SC2-V8-l1-Logistic_Regression_Exp'\u001b[0m\u001b[0;34m)\u001b[0m\u001b[0;34m.\u001b[0m\u001b[0mexperiment_id\u001b[0m\u001b[0;34m\u001b[0m\u001b[0;34m\u001b[0m\u001b[0m\n\u001b[0m\u001b[1;32m      3\u001b[0m \u001b[0;34m\u001b[0m\u001b[0m\n\u001b[1;32m      4\u001b[0m \u001b[0mexperiment_results_v1_df\u001b[0m \u001b[0;34m=\u001b[0m \u001b[0mmlflow\u001b[0m\u001b[0;34m.\u001b[0m\u001b[0msearch_runs\u001b[0m\u001b[0;34m(\u001b[0m\u001b[0mexperiment_ids\u001b[0m\u001b[0;34m=\u001b[0m\u001b[0mcurr_experiment_id\u001b[0m\u001b[0;34m)\u001b[0m\u001b[0;31m\\\u001b[0m\u001b[0;34m\u001b[0m\u001b[0;34m\u001b[0m\u001b[0m\n\u001b[1;32m      5\u001b[0m     \u001b[0;34m.\u001b[0m\u001b[0mrename\u001b[0m\u001b[0;34m(\u001b[0m\u001b[0mcolumns\u001b[0m\u001b[0;34m=\u001b[0m\u001b[0;34m{\u001b[0m\u001b[0;34m'metrics.cv_test_accuracy_of_0_cases_list'\u001b[0m\u001b[0;34m:\u001b[0m \u001b[0;34m'metrics.cv_test_0_class_accuracy'\u001b[0m\u001b[0;34m}\u001b[0m\u001b[0;34m)\u001b[0m\u001b[0;34m\u001b[0m\u001b[0;34m\u001b[0m\u001b[0m\n",
      "\u001b[0;31mAttributeError\u001b[0m: 'NoneType' object has no attribute 'experiment_id'"
     ]
    }
   ],
   "source": [
    "# Get the experiment id from the experiment name\n",
    "curr_experiment_id=mlflow.get_experiment_by_name('SC2-V8-l1-Logistic_Regression_Exp').experiment_id\n",
    "\n",
    "experiment_results_v1_df = mlflow.search_runs(experiment_ids=curr_experiment_id)\\\n",
    "    .rename(columns={'metrics.cv_test_accuracy_of_0_cases_list': 'metrics.cv_test_0_class_accuracy'})\n",
    "\n",
    "# Melt the dataframe to get accuracy as a single column\n",
    "experiment_results_v1_df_melt = experiment_results_v1_df\\\n",
    "    .melt(id_vars=['run_id','metrics.count_non_zero_features','params.lower_quantile_removed_CoV','params.log10_C','params.log10_max_iter','params.use_smote'],\n",
    "          value_vars=['metrics.cv_training_accuracy','metrics.cv_test_accuracy','metrics.cv_test_0_class_accuracy'],\n",
    "          var_name='train_or_cv',\n",
    "          value_name='accuracy')"
   ]
  },
  {
   "cell_type": "code",
   "execution_count": 27,
   "metadata": {
    "hidden": true
   },
   "outputs": [
    {
     "data": {
      "image/png": "[encoded data removed]",
      "text/plain": [
       "<Figure size 640x480 with 1 Axes>"
      ]
     },
     "metadata": {},
     "output_type": "display_data"
    },
    {
     "data": {
      "text/plain": [
       "<ggplot: (8726192002117)>"
      ]
     },
     "execution_count": 27,
     "metadata": {},
     "output_type": "execute_result"
    }
   ],
   "source": [
    "plot_df = experiment_results_v1_df_melt.copy()\n",
    "\n",
    "(ggplot(data=plot_df) \n",
    " + geom_boxplot(aes(x='params.use_smote', \n",
    "                  y='accuracy', \n",
    "                  color='train_or_cv'))\n",
    ")"
   ]
  },
  {
   "cell_type": "markdown",
   "metadata": {
    "hidden": true
   },
   "source": [
    "**Again, using SMOTE over-sampling improves the class 0 performance**"
   ]
  },
  {
   "cell_type": "code",
   "execution_count": 32,
   "metadata": {
    "hidden": true
   },
   "outputs": [],
   "source": [
    "experiment_results_v1_df_melt_v1 = experiment_results_v1_df_melt.loc[experiment_results_v1_df_melt['params.use_smote'] == 'True']"
   ]
  },
  {
   "cell_type": "markdown",
   "metadata": {
    "hidden": true
   },
   "source": [
    "### Looking at maximum iteration influence"
   ]
  },
  {
   "cell_type": "code",
   "execution_count": 35,
   "metadata": {
    "hidden": true
   },
   "outputs": [
    {
     "data": {
      "image/png": "[encoded data removed]",
      "text/plain": [
       "<Figure size 640x480 with 1 Axes>"
      ]
     },
     "metadata": {},
     "output_type": "display_data"
    },
    {
     "data": {
      "text/plain": [
       "<ggplot: (8726191797101)>"
      ]
     },
     "execution_count": 35,
     "metadata": {},
     "output_type": "execute_result"
    }
   ],
   "source": [
    "plot_df = experiment_results_v1_df_melt_v1.copy()\n",
    "\n",
    "(ggplot(data=plot_df) \n",
    " + geom_boxplot(aes(x='params.log10_max_iter', \n",
    "                  y='accuracy', \n",
    "                  color='train_or_cv'))\n",
    ")"
   ]
  },
  {
   "cell_type": "markdown",
   "metadata": {
    "hidden": true
   },
   "source": [
    "There seems to be no major difference between 100 and 1,000 iterations overall"
   ]
  },
  {
   "cell_type": "code",
   "execution_count": 36,
   "metadata": {
    "hidden": true
   },
   "outputs": [],
   "source": [
    "experiment_results_v1_df_melt_v2 = experiment_results_v1_df_melt_v1.loc[experiment_results_v1_df_melt_v1['params.log10_max_iter'] == '3.0']"
   ]
  },
  {
   "cell_type": "code",
   "execution_count": 48,
   "metadata": {
    "hidden": true
   },
   "outputs": [
    {
     "data": {
      "text/plain": [
       "<matplotlib.lines.Line2D at 0x7efb99667fd0>"
      ]
     },
     "execution_count": 48,
     "metadata": {},
     "output_type": "execute_result"
    },
    {
     "data": {
      "image/png": "[encoded data removed]",
      "text/plain": [
       "<Figure size 786.15x360 with 1 Axes>"
      ]
     },
     "metadata": {
      "needs_background": "light"
     },
     "output_type": "display_data"
    }
   ],
   "source": [
    "sns.lmplot(x='metrics.count_non_zero_features',\n",
    "           y='accuracy',\n",
    "           data=experiment_results_v1_df_melt_v2,\n",
    "           hue='train_or_cv', \n",
    "           fit_reg=True, size=5, aspect=1.25)\n",
    "\n",
    "ax = plt.gca()\n",
    "ax.set_xscale('log')\n",
    "ax.axvline(3, c='r', alpha=0.3)"
   ]
  },
  {
   "cell_type": "markdown",
   "metadata": {
    "hidden": true
   },
   "source": [
    "* As the # of features in the model increases, the class 0 performance worsens as the training accuracty increases\n",
    "* The test accuracy stays fairly stable around 60%\n",
    "* 3 features are nearly as predictive >100 features for the test set"
   ]
  },
  {
   "cell_type": "code",
   "execution_count": 51,
   "metadata": {
    "hidden": true
   },
   "outputs": [
    {
     "data": {
      "text/html": [
       "<div>\n",
       "<style scoped>\n",
       "    .dataframe tbody tr th:only-of-type {\n",
       "        vertical-align: middle;\n",
       "    }\n",
       "\n",
       "    .dataframe tbody tr th {\n",
       "        vertical-align: top;\n",
       "    }\n",
       "\n",
       "    .dataframe thead th {\n",
       "        text-align: right;\n",
       "    }\n",
       "</style>\n",
       "<table border=\"1\" class=\"dataframe\">\n",
       "  <thead>\n",
       "    <tr style=\"text-align: right;\">\n",
       "      <th></th>\n",
       "      <th>run_id</th>\n",
       "      <th>metrics.count_non_zero_features</th>\n",
       "      <th>params.lower_quantile_removed_CoV</th>\n",
       "      <th>params.log10_C</th>\n",
       "      <th>params.log10_max_iter</th>\n",
       "      <th>params.use_smote</th>\n",
       "      <th>train_or_cv</th>\n",
       "      <th>accuracy</th>\n",
       "    </tr>\n",
       "  </thead>\n",
       "  <tbody>\n",
       "    <tr>\n",
       "      <th>97</th>\n",
       "      <td>8ac88453b19b440b9ad6ea5426c3b238</td>\n",
       "      <td>1.0</td>\n",
       "      <td>0.9</td>\n",
       "      <td>-1.5</td>\n",
       "      <td>3.0</td>\n",
       "      <td>True</td>\n",
       "      <td>metrics.cv_training_accuracy</td>\n",
       "      <td>0.687000</td>\n",
       "    </tr>\n",
       "    <tr>\n",
       "      <th>101</th>\n",
       "      <td>31451ba324414e769da6e27ebe84e7b9</td>\n",
       "      <td>1.0</td>\n",
       "      <td>0.5</td>\n",
       "      <td>-1.5</td>\n",
       "      <td>3.0</td>\n",
       "      <td>True</td>\n",
       "      <td>metrics.cv_training_accuracy</td>\n",
       "      <td>0.687000</td>\n",
       "    </tr>\n",
       "    <tr>\n",
       "      <th>105</th>\n",
       "      <td>88494373c30342b5a9df4bcb4c674893</td>\n",
       "      <td>3.0</td>\n",
       "      <td>0.25</td>\n",
       "      <td>-1.5</td>\n",
       "      <td>3.0</td>\n",
       "      <td>True</td>\n",
       "      <td>metrics.cv_training_accuracy</td>\n",
       "      <td>0.692829</td>\n",
       "    </tr>\n",
       "    <tr>\n",
       "      <th>108</th>\n",
       "      <td>a6662a30898249268eb0cde0bcfafc55</td>\n",
       "      <td>3.0</td>\n",
       "      <td>0</td>\n",
       "      <td>-1.5</td>\n",
       "      <td>3.0</td>\n",
       "      <td>True</td>\n",
       "      <td>metrics.cv_training_accuracy</td>\n",
       "      <td>0.692829</td>\n",
       "    </tr>\n",
       "    <tr>\n",
       "      <th>225</th>\n",
       "      <td>8ac88453b19b440b9ad6ea5426c3b238</td>\n",
       "      <td>1.0</td>\n",
       "      <td>0.9</td>\n",
       "      <td>-1.5</td>\n",
       "      <td>3.0</td>\n",
       "      <td>True</td>\n",
       "      <td>metrics.cv_test_accuracy</td>\n",
       "      <td>0.561376</td>\n",
       "    </tr>\n",
       "    <tr>\n",
       "      <th>229</th>\n",
       "      <td>31451ba324414e769da6e27ebe84e7b9</td>\n",
       "      <td>1.0</td>\n",
       "      <td>0.5</td>\n",
       "      <td>-1.5</td>\n",
       "      <td>3.0</td>\n",
       "      <td>True</td>\n",
       "      <td>metrics.cv_test_accuracy</td>\n",
       "      <td>0.561376</td>\n",
       "    </tr>\n",
       "    <tr>\n",
       "      <th>233</th>\n",
       "      <td>88494373c30342b5a9df4bcb4c674893</td>\n",
       "      <td>3.0</td>\n",
       "      <td>0.25</td>\n",
       "      <td>-1.5</td>\n",
       "      <td>3.0</td>\n",
       "      <td>True</td>\n",
       "      <td>metrics.cv_test_accuracy</td>\n",
       "      <td>0.567725</td>\n",
       "    </tr>\n",
       "    <tr>\n",
       "      <th>236</th>\n",
       "      <td>a6662a30898249268eb0cde0bcfafc55</td>\n",
       "      <td>3.0</td>\n",
       "      <td>0</td>\n",
       "      <td>-1.5</td>\n",
       "      <td>3.0</td>\n",
       "      <td>True</td>\n",
       "      <td>metrics.cv_test_accuracy</td>\n",
       "      <td>0.567725</td>\n",
       "    </tr>\n",
       "    <tr>\n",
       "      <th>353</th>\n",
       "      <td>8ac88453b19b440b9ad6ea5426c3b238</td>\n",
       "      <td>1.0</td>\n",
       "      <td>0.9</td>\n",
       "      <td>-1.5</td>\n",
       "      <td>3.0</td>\n",
       "      <td>True</td>\n",
       "      <td>metrics.cv_test_0_class_accuracy</td>\n",
       "      <td>0.800000</td>\n",
       "    </tr>\n",
       "    <tr>\n",
       "      <th>357</th>\n",
       "      <td>31451ba324414e769da6e27ebe84e7b9</td>\n",
       "      <td>1.0</td>\n",
       "      <td>0.5</td>\n",
       "      <td>-1.5</td>\n",
       "      <td>3.0</td>\n",
       "      <td>True</td>\n",
       "      <td>metrics.cv_test_0_class_accuracy</td>\n",
       "      <td>0.800000</td>\n",
       "    </tr>\n",
       "    <tr>\n",
       "      <th>361</th>\n",
       "      <td>88494373c30342b5a9df4bcb4c674893</td>\n",
       "      <td>3.0</td>\n",
       "      <td>0.25</td>\n",
       "      <td>-1.5</td>\n",
       "      <td>3.0</td>\n",
       "      <td>True</td>\n",
       "      <td>metrics.cv_test_0_class_accuracy</td>\n",
       "      <td>1.000000</td>\n",
       "    </tr>\n",
       "    <tr>\n",
       "      <th>364</th>\n",
       "      <td>a6662a30898249268eb0cde0bcfafc55</td>\n",
       "      <td>3.0</td>\n",
       "      <td>0</td>\n",
       "      <td>-1.5</td>\n",
       "      <td>3.0</td>\n",
       "      <td>True</td>\n",
       "      <td>metrics.cv_test_0_class_accuracy</td>\n",
       "      <td>1.000000</td>\n",
       "    </tr>\n",
       "  </tbody>\n",
       "</table>\n",
       "</div>"
      ],
      "text/plain": [
       "                               run_id  metrics.count_non_zero_features  \\\n",
       "97   8ac88453b19b440b9ad6ea5426c3b238                              1.0   \n",
       "101  31451ba324414e769da6e27ebe84e7b9                              1.0   \n",
       "105  88494373c30342b5a9df4bcb4c674893                              3.0   \n",
       "108  a6662a30898249268eb0cde0bcfafc55                              3.0   \n",
       "225  8ac88453b19b440b9ad6ea5426c3b238                              1.0   \n",
       "229  31451ba324414e769da6e27ebe84e7b9                              1.0   \n",
       "233  88494373c30342b5a9df4bcb4c674893                              3.0   \n",
       "236  a6662a30898249268eb0cde0bcfafc55                              3.0   \n",
       "353  8ac88453b19b440b9ad6ea5426c3b238                              1.0   \n",
       "357  31451ba324414e769da6e27ebe84e7b9                              1.0   \n",
       "361  88494373c30342b5a9df4bcb4c674893                              3.0   \n",
       "364  a6662a30898249268eb0cde0bcfafc55                              3.0   \n",
       "\n",
       "    params.lower_quantile_removed_CoV params.log10_C params.log10_max_iter  \\\n",
       "97                                0.9           -1.5                   3.0   \n",
       "101                               0.5           -1.5                   3.0   \n",
       "105                              0.25           -1.5                   3.0   \n",
       "108                                 0           -1.5                   3.0   \n",
       "225                               0.9           -1.5                   3.0   \n",
       "229                               0.5           -1.5                   3.0   \n",
       "233                              0.25           -1.5                   3.0   \n",
       "236                                 0           -1.5                   3.0   \n",
       "353                               0.9           -1.5                   3.0   \n",
       "357                               0.5           -1.5                   3.0   \n",
       "361                              0.25           -1.5                   3.0   \n",
       "364                                 0           -1.5                   3.0   \n",
       "\n",
       "    params.use_smote                       train_or_cv  accuracy  \n",
       "97              True      metrics.cv_training_accuracy  0.687000  \n",
       "101             True      metrics.cv_training_accuracy  0.687000  \n",
       "105             True      metrics.cv_training_accuracy  0.692829  \n",
       "108             True      metrics.cv_training_accuracy  0.692829  \n",
       "225             True          metrics.cv_test_accuracy  0.561376  \n",
       "229             True          metrics.cv_test_accuracy  0.561376  \n",
       "233             True          metrics.cv_test_accuracy  0.567725  \n",
       "236             True          metrics.cv_test_accuracy  0.567725  \n",
       "353             True  metrics.cv_test_0_class_accuracy  0.800000  \n",
       "357             True  metrics.cv_test_0_class_accuracy  0.800000  \n",
       "361             True  metrics.cv_test_0_class_accuracy  1.000000  \n",
       "364             True  metrics.cv_test_0_class_accuracy  1.000000  "
      ]
     },
     "execution_count": 51,
     "metadata": {},
     "output_type": "execute_result"
    }
   ],
   "source": [
    "experiment_results_v1_df_melt_v2\\\n",
    "    .loc[(experiment_results_v1_df_melt_v2['metrics.count_non_zero_features'] < 5)\\\n",
    "        & (experiment_results_v1_df_melt_v2['metrics.count_non_zero_features'] > 0)]"
   ]
  },
  {
   "cell_type": "markdown",
   "metadata": {
    "hidden": true
   },
   "source": [
    "Final model:\n",
    "* lower_quantile_removed_CoV=0\n",
    "* log10_C=-1.5\n",
    "* log10_max_iter=3.0\n",
    "* use_smote=True"
   ]
  },
  {
   "cell_type": "code",
   "execution_count": 42,
   "metadata": {
    "hidden": true
   },
   "outputs": [],
   "source": [
    "_, y, _ = data_loading.load_sc2_data()"
   ]
  },
  {
   "cell_type": "code",
   "execution_count": 46,
   "metadata": {
    "hidden": true
   },
   "outputs": [
    {
     "data": {
      "text/plain": [
       "1    0.752874\n",
       "0    0.247126\n",
       "Name: SURVIVAL_STATUS, dtype: float64"
      ]
     },
     "execution_count": 46,
     "metadata": {},
     "output_type": "execute_result"
    }
   ],
   "source": [
    "y.value_counts() / y.shape[0]"
   ]
  },
  {
   "cell_type": "markdown",
   "metadata": {
    "heading_collapsed": true
   },
   "source": [
    "# Exp 1 - Investigating AUC of train vs. test"
   ]
  },
  {
   "cell_type": "code",
   "execution_count": 19,
   "metadata": {
    "hidden": true
   },
   "outputs": [],
   "source": [
    "# Get the experiment id from the experiment name\n",
    "curr_experiment_id=mlflow.get_experiment_by_name('SC2-V8-Exp_1-L1-Logistic_Regression_Exp').experiment_id\n",
    "\n",
    "experiment_results_v1_df = mlflow.search_runs(experiment_ids=curr_experiment_id)\\\n",
    "    .rename(columns={'metrics.cv_test_accuracy_of_0_cases_list': 'metrics.cv_test_0_class_accuracy'})\n",
    "\n",
    "# Melt the dataframe to get accuracy as a single column\n",
    "experiment_results_v1_df_melt = experiment_results_v1_df\\\n",
    "    .melt(id_vars=['run_id','metrics.count_non_zero_features','params.lower_quantile_removed_CoV','params.log10_C','params.log10_max_iter','params.use_smote'],\n",
    "          value_vars=['metrics.cv_training_accuracy','metrics.cv_test_accuracy','metrics.cv_test_0_class_accuracy'],\n",
    "          var_name='train_or_cv',\n",
    "          value_name='accuracy')"
   ]
  },
  {
   "cell_type": "code",
   "execution_count": 22,
   "metadata": {
    "hidden": true,
    "scrolled": false
   },
   "outputs": [
    {
     "data": {
      "text/html": [
       "<div>\n",
       "<style scoped>\n",
       "    .dataframe tbody tr th:only-of-type {\n",
       "        vertical-align: middle;\n",
       "    }\n",
       "\n",
       "    .dataframe tbody tr th {\n",
       "        vertical-align: top;\n",
       "    }\n",
       "\n",
       "    .dataframe thead th {\n",
       "        text-align: right;\n",
       "    }\n",
       "</style>\n",
       "<table border=\"1\" class=\"dataframe\">\n",
       "  <thead>\n",
       "    <tr style=\"text-align: right;\">\n",
       "      <th></th>\n",
       "      <th>params.log10_C</th>\n",
       "      <th>metrics.count_non_zero_features</th>\n",
       "      <th>metrics.train_auc</th>\n",
       "      <th>metrics.test_auc</th>\n",
       "    </tr>\n",
       "  </thead>\n",
       "  <tbody>\n",
       "    <tr>\n",
       "      <th>0</th>\n",
       "      <td>5.0</td>\n",
       "      <td>790.0</td>\n",
       "      <td>1.000000</td>\n",
       "      <td>0.606838</td>\n",
       "    </tr>\n",
       "    <tr>\n",
       "      <th>1</th>\n",
       "      <td>5.0</td>\n",
       "      <td>790.0</td>\n",
       "      <td>1.000000</td>\n",
       "      <td>0.606838</td>\n",
       "    </tr>\n",
       "    <tr>\n",
       "      <th>2</th>\n",
       "      <td>5.0</td>\n",
       "      <td>790.0</td>\n",
       "      <td>1.000000</td>\n",
       "      <td>0.606838</td>\n",
       "    </tr>\n",
       "    <tr>\n",
       "      <th>3</th>\n",
       "      <td>5.0</td>\n",
       "      <td>790.0</td>\n",
       "      <td>1.000000</td>\n",
       "      <td>0.606838</td>\n",
       "    </tr>\n",
       "    <tr>\n",
       "      <th>4</th>\n",
       "      <td>3.0</td>\n",
       "      <td>790.0</td>\n",
       "      <td>1.000000</td>\n",
       "      <td>0.606838</td>\n",
       "    </tr>\n",
       "    <tr>\n",
       "      <th>5</th>\n",
       "      <td>3.0</td>\n",
       "      <td>790.0</td>\n",
       "      <td>1.000000</td>\n",
       "      <td>0.606838</td>\n",
       "    </tr>\n",
       "    <tr>\n",
       "      <th>6</th>\n",
       "      <td>3.0</td>\n",
       "      <td>790.0</td>\n",
       "      <td>1.000000</td>\n",
       "      <td>0.606838</td>\n",
       "    </tr>\n",
       "    <tr>\n",
       "      <th>7</th>\n",
       "      <td>3.0</td>\n",
       "      <td>790.0</td>\n",
       "      <td>1.000000</td>\n",
       "      <td>0.606838</td>\n",
       "    </tr>\n",
       "    <tr>\n",
       "      <th>8</th>\n",
       "      <td>1.0</td>\n",
       "      <td>499.0</td>\n",
       "      <td>1.000000</td>\n",
       "      <td>0.619658</td>\n",
       "    </tr>\n",
       "    <tr>\n",
       "      <th>9</th>\n",
       "      <td>1.0</td>\n",
       "      <td>499.0</td>\n",
       "      <td>1.000000</td>\n",
       "      <td>0.619658</td>\n",
       "    </tr>\n",
       "    <tr>\n",
       "      <th>10</th>\n",
       "      <td>1.0</td>\n",
       "      <td>499.0</td>\n",
       "      <td>1.000000</td>\n",
       "      <td>0.619658</td>\n",
       "    </tr>\n",
       "    <tr>\n",
       "      <th>11</th>\n",
       "      <td>1.0</td>\n",
       "      <td>499.0</td>\n",
       "      <td>1.000000</td>\n",
       "      <td>0.619658</td>\n",
       "    </tr>\n",
       "    <tr>\n",
       "      <th>12</th>\n",
       "      <td>0.0</td>\n",
       "      <td>129.0</td>\n",
       "      <td>1.000000</td>\n",
       "      <td>0.628205</td>\n",
       "    </tr>\n",
       "    <tr>\n",
       "      <th>13</th>\n",
       "      <td>0.0</td>\n",
       "      <td>129.0</td>\n",
       "      <td>1.000000</td>\n",
       "      <td>0.628205</td>\n",
       "    </tr>\n",
       "    <tr>\n",
       "      <th>14</th>\n",
       "      <td>0.0</td>\n",
       "      <td>129.0</td>\n",
       "      <td>1.000000</td>\n",
       "      <td>0.628205</td>\n",
       "    </tr>\n",
       "    <tr>\n",
       "      <th>15</th>\n",
       "      <td>0.0</td>\n",
       "      <td>129.0</td>\n",
       "      <td>1.000000</td>\n",
       "      <td>0.628205</td>\n",
       "    </tr>\n",
       "    <tr>\n",
       "      <th>16</th>\n",
       "      <td>-0.5</td>\n",
       "      <td>55.0</td>\n",
       "      <td>0.981224</td>\n",
       "      <td>0.696581</td>\n",
       "    </tr>\n",
       "    <tr>\n",
       "      <th>17</th>\n",
       "      <td>-0.5</td>\n",
       "      <td>55.0</td>\n",
       "      <td>0.981224</td>\n",
       "      <td>0.696581</td>\n",
       "    </tr>\n",
       "    <tr>\n",
       "      <th>18</th>\n",
       "      <td>-0.5</td>\n",
       "      <td>55.0</td>\n",
       "      <td>0.981224</td>\n",
       "      <td>0.696581</td>\n",
       "    </tr>\n",
       "    <tr>\n",
       "      <th>19</th>\n",
       "      <td>-0.5</td>\n",
       "      <td>55.0</td>\n",
       "      <td>0.981224</td>\n",
       "      <td>0.696581</td>\n",
       "    </tr>\n",
       "    <tr>\n",
       "      <th>20</th>\n",
       "      <td>-1.0</td>\n",
       "      <td>13.0</td>\n",
       "      <td>0.814875</td>\n",
       "      <td>0.760684</td>\n",
       "    </tr>\n",
       "    <tr>\n",
       "      <th>21</th>\n",
       "      <td>-1.0</td>\n",
       "      <td>13.0</td>\n",
       "      <td>0.814875</td>\n",
       "      <td>0.760684</td>\n",
       "    </tr>\n",
       "    <tr>\n",
       "      <th>22</th>\n",
       "      <td>-1.0</td>\n",
       "      <td>13.0</td>\n",
       "      <td>0.814875</td>\n",
       "      <td>0.760684</td>\n",
       "    </tr>\n",
       "    <tr>\n",
       "      <th>23</th>\n",
       "      <td>-1.0</td>\n",
       "      <td>13.0</td>\n",
       "      <td>0.814875</td>\n",
       "      <td>0.760684</td>\n",
       "    </tr>\n",
       "    <tr>\n",
       "      <th>24</th>\n",
       "      <td>-1.5</td>\n",
       "      <td>2.0</td>\n",
       "      <td>0.700227</td>\n",
       "      <td>0.764957</td>\n",
       "    </tr>\n",
       "    <tr>\n",
       "      <th>25</th>\n",
       "      <td>-1.5</td>\n",
       "      <td>2.0</td>\n",
       "      <td>0.700227</td>\n",
       "      <td>0.764957</td>\n",
       "    </tr>\n",
       "    <tr>\n",
       "      <th>26</th>\n",
       "      <td>-1.5</td>\n",
       "      <td>2.0</td>\n",
       "      <td>0.700227</td>\n",
       "      <td>0.764957</td>\n",
       "    </tr>\n",
       "    <tr>\n",
       "      <th>27</th>\n",
       "      <td>-1.5</td>\n",
       "      <td>2.0</td>\n",
       "      <td>0.700227</td>\n",
       "      <td>0.764957</td>\n",
       "    </tr>\n",
       "    <tr>\n",
       "      <th>28</th>\n",
       "      <td>-2.0</td>\n",
       "      <td>0.0</td>\n",
       "      <td>0.500000</td>\n",
       "      <td>0.500000</td>\n",
       "    </tr>\n",
       "    <tr>\n",
       "      <th>29</th>\n",
       "      <td>-2.0</td>\n",
       "      <td>0.0</td>\n",
       "      <td>0.500000</td>\n",
       "      <td>0.500000</td>\n",
       "    </tr>\n",
       "    <tr>\n",
       "      <th>30</th>\n",
       "      <td>-2.0</td>\n",
       "      <td>0.0</td>\n",
       "      <td>0.500000</td>\n",
       "      <td>0.500000</td>\n",
       "    </tr>\n",
       "    <tr>\n",
       "      <th>31</th>\n",
       "      <td>-2.0</td>\n",
       "      <td>0.0</td>\n",
       "      <td>0.500000</td>\n",
       "      <td>0.500000</td>\n",
       "    </tr>\n",
       "  </tbody>\n",
       "</table>\n",
       "</div>"
      ],
      "text/plain": [
       "   params.log10_C  metrics.count_non_zero_features  metrics.train_auc  \\\n",
       "0             5.0                            790.0           1.000000   \n",
       "1             5.0                            790.0           1.000000   \n",
       "2             5.0                            790.0           1.000000   \n",
       "3             5.0                            790.0           1.000000   \n",
       "4             3.0                            790.0           1.000000   \n",
       "5             3.0                            790.0           1.000000   \n",
       "6             3.0                            790.0           1.000000   \n",
       "7             3.0                            790.0           1.000000   \n",
       "8             1.0                            499.0           1.000000   \n",
       "9             1.0                            499.0           1.000000   \n",
       "10            1.0                            499.0           1.000000   \n",
       "11            1.0                            499.0           1.000000   \n",
       "12            0.0                            129.0           1.000000   \n",
       "13            0.0                            129.0           1.000000   \n",
       "14            0.0                            129.0           1.000000   \n",
       "15            0.0                            129.0           1.000000   \n",
       "16           -0.5                             55.0           0.981224   \n",
       "17           -0.5                             55.0           0.981224   \n",
       "18           -0.5                             55.0           0.981224   \n",
       "19           -0.5                             55.0           0.981224   \n",
       "20           -1.0                             13.0           0.814875   \n",
       "21           -1.0                             13.0           0.814875   \n",
       "22           -1.0                             13.0           0.814875   \n",
       "23           -1.0                             13.0           0.814875   \n",
       "24           -1.5                              2.0           0.700227   \n",
       "25           -1.5                              2.0           0.700227   \n",
       "26           -1.5                              2.0           0.700227   \n",
       "27           -1.5                              2.0           0.700227   \n",
       "28           -2.0                              0.0           0.500000   \n",
       "29           -2.0                              0.0           0.500000   \n",
       "30           -2.0                              0.0           0.500000   \n",
       "31           -2.0                              0.0           0.500000   \n",
       "\n",
       "    metrics.test_auc  \n",
       "0           0.606838  \n",
       "1           0.606838  \n",
       "2           0.606838  \n",
       "3           0.606838  \n",
       "4           0.606838  \n",
       "5           0.606838  \n",
       "6           0.606838  \n",
       "7           0.606838  \n",
       "8           0.619658  \n",
       "9           0.619658  \n",
       "10          0.619658  \n",
       "11          0.619658  \n",
       "12          0.628205  \n",
       "13          0.628205  \n",
       "14          0.628205  \n",
       "15          0.628205  \n",
       "16          0.696581  \n",
       "17          0.696581  \n",
       "18          0.696581  \n",
       "19          0.696581  \n",
       "20          0.760684  \n",
       "21          0.760684  \n",
       "22          0.760684  \n",
       "23          0.760684  \n",
       "24          0.764957  \n",
       "25          0.764957  \n",
       "26          0.764957  \n",
       "27          0.764957  \n",
       "28          0.500000  \n",
       "29          0.500000  \n",
       "30          0.500000  \n",
       "31          0.500000  "
      ]
     },
     "execution_count": 22,
     "metadata": {},
     "output_type": "execute_result"
    }
   ],
   "source": [
    "experiment_results_v1_df.loc[:, ['params.log10_C','metrics.count_non_zero_features','metrics.train_auc','metrics.test_auc']]"
   ]
  },
  {
   "cell_type": "markdown",
   "metadata": {},
   "source": [
    "# Exp 2 - Generating many train/cv/test results"
   ]
  },
  {
   "cell_type": "markdown",
   "metadata": {},
   "source": [
    "## Running MLFlow experiment"
   ]
  },
  {
   "cell_type": "code",
   "execution_count": null,
   "metadata": {
    "scrolled": true
   },
   "outputs": [],
   "source": [
    "%%time\n",
    "\n",
    "# Set the experiment name\n",
    "mlflow.set_tracking_uri(f'file://{experiment_base_path}')\n",
    "mlflow.set_experiment('SC2-V10-Exp_2-L1-Logistic_Regression_Exp')\n",
    "    \n",
    "# Define the parameter grid\n",
    "param_dict = {'C': np.logspace(-2, 0, 9).tolist() + np.logspace(1, 5, 3).tolist(),\n",
    "             'max_iter': [100],\n",
    "             'solver': ['saga'],\n",
    "             'class_weight': [None],\n",
    "             'lower_quantile_removed_CoV': [0, 0.25, 0.5, 0.9],\n",
    "             'use_smote': [True]}\n",
    "\n",
    "# Load the gene expression (GE) raw data from file\n",
    "X, y, phenotype_df = data_loading.load_sc2_data()\n",
    "\n",
    "# For 10 different cv/test splits\n",
    "for i in range(15):\n",
    "    # Split into CV/test set using target class to stratify\n",
    "    X_cv, X_test, y_cv, y_test = train_test_split(X, y, test_size=0.2, stratify=y)\n",
    "\n",
    "    #model_funcs.run_mlflow_exp_V10(X_cv, X_test, y_cv, y_test, test_param_dict, experiment_base_path)\n",
    "\n",
    "    # Run mlflow runs in parallel\n",
    "    results = joblib.Parallel(n_jobs=-1, backend='multiprocessing')\\\n",
    "        (joblib.delayed(model_funcs.run_mlflow_exp_V10)(X_cv, X_test, y_cv, y_test, curr_params_dict, experiment_base_path)\\\n",
    "             for curr_param_index, curr_params_dict in enumerate(ParameterGrid(param_dict)))"
   ]
  },
  {
   "cell_type": "markdown",
   "metadata": {},
   "source": [
    "## Creating a dataframe with the experiment results"
   ]
  },
  {
   "cell_type": "code",
   "execution_count": 5,
   "metadata": {},
   "outputs": [],
   "source": [
    "# Get the experiment id from the experiment name\n",
    "curr_experiment_id=mlflow.get_experiment_by_name('SC2-V10-Exp_2-L1-Logistic_Regression_Exp').experiment_id\n",
    "\n",
    "experiment_results_sc2_v10_exp2_df = mlflow.search_runs(experiment_ids=curr_experiment_id)\\\n",
    "    .rename(columns={'metrics.cv_test_accuracy_of_0_cases_list': 'metrics.cv_test_0_class_accuracy'})\n",
    "\n",
    "# Melt the dataframe to get accuracy as a single column\n",
    "experiment_results_sc2_v10_exp2_df_melt = experiment_results_sc2_v10_exp2_df\\\n",
    "    .melt(id_vars=['run_id','metrics.count_non_zero_features','params.lower_quantile_removed_CoV','params.log10_C','params.log10_max_iter','params.use_smote'],\n",
    "          value_vars=['metrics.cv_training_accuracy','metrics.cv_test_accuracy','metrics.cv_test_0_class_accuracy'],\n",
    "          var_name='train_or_cv',\n",
    "          value_name='accuracy')\n",
    "\n",
    "experiment_results_sc2_v10_exp2_df_melt['metrics.log10_count_non_zero_features'] = np.log10(experiment_results_sc2_v10_exp2_df_melt['metrics.count_non_zero_features'] + 1)"
   ]
  },
  {
   "cell_type": "markdown",
   "metadata": {},
   "source": [
    "## Plotting feature count vs. CV accuracies"
   ]
  },
  {
   "cell_type": "code",
   "execution_count": 6,
   "metadata": {},
   "outputs": [
    {
     "name": "stderr",
     "output_type": "stream",
     "text": [
      "/home/alex/miniconda3/envs/precfda_bc/lib/python3.7/site-packages/seaborn/regression.py:546: UserWarning: The `size` paramter has been renamed to `height`; please update your code.\n",
      "  warnings.warn(msg, UserWarning)\n"
     ]
    },
    {
     "data": {
      "image/png": "[encoded data removed]",
      "text/plain": [
       "<Figure size 786.15x360 with 1 Axes>"
      ]
     },
     "metadata": {
      "needs_background": "light"
     },
     "output_type": "display_data"
    }
   ],
   "source": [
    "plot_df = experiment_results_sc2_v10_exp2_df_melt\\\n",
    "    .loc[experiment_results_sc2_v10_exp2_df_melt['metrics.count_non_zero_features'] > 1]\n",
    "\n",
    "\n",
    "sns.lmplot(x='metrics.log10_count_non_zero_features',\n",
    "           y='accuracy',\n",
    "           data=plot_df,\n",
    "           hue='train_or_cv', \n",
    "           fit_reg=True, size=5, aspect=1.25)\n",
    "\n",
    "ax = plt.gca()\n",
    "#ax.set_xscale('log')\n",
    "#ax.axvline(3, c='r', alpha=0.3)"
   ]
  },
  {
   "cell_type": "markdown",
   "metadata": {},
   "source": [
    "This shows that using using ~10 features is a good compromise between class 0 test accuracy and overall test accuracy. If we use too many more features, the overall test accuracy does improve a bit but the class 0 accuracy plummets."
   ]
  },
  {
   "cell_type": "markdown",
   "metadata": {},
   "source": [
    "## Plotting boxplot of accuracy vs. log10(C)"
   ]
  },
  {
   "cell_type": "code",
   "execution_count": 7,
   "metadata": {},
   "outputs": [
    {
     "data": {
      "text/plain": [
       "<matplotlib.lines.Line2D at 0x7efbe934d710>"
      ]
     },
     "execution_count": 7,
     "metadata": {},
     "output_type": "execute_result"
    },
    {
     "data": {
      "image/png": "[encoded data removed]",
      "text/plain": [
       "<Figure size 864x432 with 1 Axes>"
      ]
     },
     "metadata": {
      "needs_background": "light"
     },
     "output_type": "display_data"
    }
   ],
   "source": [
    "plot_df = experiment_results_sc2_v10_exp2_df_melt\\\n",
    "#    .loc[experiment_results_sc2_v10_exp2_df_melt['metrics.count_non_zero_features'] > 1]\n",
    "\n",
    "plt.figure(figsize=(12,6))\n",
    "ax=plt.gca()\n",
    "\n",
    "sns.boxplot(x='params.log10_C',\n",
    "           y='accuracy',\n",
    "           data=plot_df,\n",
    "           hue='train_or_cv', \n",
    "           order=['-2.0', '-1.75', '-1.5', '-1.25', '-1.0', '-0.75', '-0.5', '-0.25', \n",
    "                  '0.0', '1.0', '3.0', '5.0'],\n",
    "           ax=ax)\n",
    "\n",
    "ax.legend(bbox_to_anchor=(1.05,1))\n",
    "#ax.axhline(0.5, c='g')\n",
    "ax.axvline(3)"
   ]
  },
  {
   "cell_type": "markdown",
   "metadata": {},
   "source": [
    "log10_C=-1.25 is the clear winner here; It balances the overall and class 0 test accuracy"
   ]
  },
  {
   "cell_type": "code",
   "execution_count": 8,
   "metadata": {},
   "outputs": [
    {
     "data": {
      "text/plain": [
       "<matplotlib.lines.Line2D at 0x7efbe9103a10>"
      ]
     },
     "execution_count": 8,
     "metadata": {},
     "output_type": "execute_result"
    },
    {
     "data": {
      "image/png": "[encoded data removed]",
      "text/plain": [
       "<Figure size 864x360 with 1 Axes>"
      ]
     },
     "metadata": {
      "needs_background": "light"
     },
     "output_type": "display_data"
    }
   ],
   "source": [
    "plot_df = experiment_results_sc2_v10_exp2_df_melt\\\n",
    "    .loc[experiment_results_sc2_v10_exp2_df_melt['params.log10_C'] == '-1.25']\n",
    "\n",
    "plt.figure(figsize=(12,5))\n",
    "ax=plt.gca()\n",
    "\n",
    "sns.boxplot(x='params.lower_quantile_removed_CoV',\n",
    "           y='accuracy',\n",
    "           data=plot_df,\n",
    "           hue='train_or_cv', \n",
    "           ax=ax)\n",
    "\n",
    "ax.legend(bbox_to_anchor=(1.05,1))\n",
    "ax.axhline(0.7, c='g')\n",
    "#ax.axvline(1)"
   ]
  },
  {
   "cell_type": "markdown",
   "metadata": {},
   "source": [
    "There is no difference in performance based on the quantiles of low CoV genes removed"
   ]
  },
  {
   "cell_type": "markdown",
   "metadata": {},
   "source": [
    "Final model:\n",
    "* log10_C=-1.25\n",
    "* lower_quantile_removed_CoV=0.25"
   ]
  },
  {
   "cell_type": "code",
   "execution_count": 109,
   "metadata": {},
   "outputs": [
    {
     "data": {
      "text/html": [
       "<div>\n",
       "<style scoped>\n",
       "    .dataframe tbody tr th:only-of-type {\n",
       "        vertical-align: middle;\n",
       "    }\n",
       "\n",
       "    .dataframe tbody tr th {\n",
       "        vertical-align: top;\n",
       "    }\n",
       "\n",
       "    .dataframe thead th {\n",
       "        text-align: right;\n",
       "    }\n",
       "</style>\n",
       "<table border=\"1\" class=\"dataframe\">\n",
       "  <thead>\n",
       "    <tr style=\"text-align: right;\">\n",
       "      <th></th>\n",
       "      <th>metrics.train_auc</th>\n",
       "      <th>metrics.cv_training_accuracy</th>\n",
       "      <th>metrics.cv_test_0_class_accuracy</th>\n",
       "      <th>metrics.cv_test_accuracy</th>\n",
       "      <th>metrics.test_accuracy</th>\n",
       "      <th>metrics.count_non_zero_features</th>\n",
       "      <th>metrics.cv_test_auc</th>\n",
       "      <th>metrics.test_auc</th>\n",
       "    </tr>\n",
       "  </thead>\n",
       "  <tbody>\n",
       "    <tr>\n",
       "      <th>count</th>\n",
       "      <td>15.000000</td>\n",
       "      <td>15.000000</td>\n",
       "      <td>15.000000</td>\n",
       "      <td>15.000000</td>\n",
       "      <td>15.000000</td>\n",
       "      <td>15.000000</td>\n",
       "      <td>15.000000</td>\n",
       "      <td>15.000000</td>\n",
       "    </tr>\n",
       "    <tr>\n",
       "      <th>mean</th>\n",
       "      <td>0.713705</td>\n",
       "      <td>0.690720</td>\n",
       "      <td>0.648974</td>\n",
       "      <td>0.578977</td>\n",
       "      <td>0.539048</td>\n",
       "      <td>3.133333</td>\n",
       "      <td>0.613903</td>\n",
       "      <td>0.569516</td>\n",
       "    </tr>\n",
       "    <tr>\n",
       "      <th>std</th>\n",
       "      <td>0.035381</td>\n",
       "      <td>0.017205</td>\n",
       "      <td>0.076880</td>\n",
       "      <td>0.032018</td>\n",
       "      <td>0.082855</td>\n",
       "      <td>1.407463</td>\n",
       "      <td>0.036589</td>\n",
       "      <td>0.095165</td>\n",
       "    </tr>\n",
       "    <tr>\n",
       "      <th>min</th>\n",
       "      <td>0.657778</td>\n",
       "      <td>0.665561</td>\n",
       "      <td>0.537143</td>\n",
       "      <td>0.517460</td>\n",
       "      <td>0.371429</td>\n",
       "      <td>1.000000</td>\n",
       "      <td>0.554062</td>\n",
       "      <td>0.320513</td>\n",
       "    </tr>\n",
       "    <tr>\n",
       "      <th>25%</th>\n",
       "      <td>0.687460</td>\n",
       "      <td>0.680889</td>\n",
       "      <td>0.587716</td>\n",
       "      <td>0.561376</td>\n",
       "      <td>0.500000</td>\n",
       "      <td>2.500000</td>\n",
       "      <td>0.589146</td>\n",
       "      <td>0.553419</td>\n",
       "    </tr>\n",
       "    <tr>\n",
       "      <th>50%</th>\n",
       "      <td>0.709841</td>\n",
       "      <td>0.686643</td>\n",
       "      <td>0.653333</td>\n",
       "      <td>0.582804</td>\n",
       "      <td>0.542857</td>\n",
       "      <td>3.000000</td>\n",
       "      <td>0.617647</td>\n",
       "      <td>0.589744</td>\n",
       "    </tr>\n",
       "    <tr>\n",
       "      <th>75%</th>\n",
       "      <td>0.738458</td>\n",
       "      <td>0.700538</td>\n",
       "      <td>0.717857</td>\n",
       "      <td>0.593651</td>\n",
       "      <td>0.571429</td>\n",
       "      <td>3.500000</td>\n",
       "      <td>0.632843</td>\n",
       "      <td>0.621795</td>\n",
       "    </tr>\n",
       "    <tr>\n",
       "      <th>max</th>\n",
       "      <td>0.776871</td>\n",
       "      <td>0.730981</td>\n",
       "      <td>0.785714</td>\n",
       "      <td>0.662698</td>\n",
       "      <td>0.742857</td>\n",
       "      <td>6.000000</td>\n",
       "      <td>0.678711</td>\n",
       "      <td>0.673077</td>\n",
       "    </tr>\n",
       "  </tbody>\n",
       "</table>\n",
       "</div>"
      ],
      "text/plain": [
       "       metrics.train_auc  metrics.cv_training_accuracy  \\\n",
       "count          15.000000                     15.000000   \n",
       "mean            0.713705                      0.690720   \n",
       "std             0.035381                      0.017205   \n",
       "min             0.657778                      0.665561   \n",
       "25%             0.687460                      0.680889   \n",
       "50%             0.709841                      0.686643   \n",
       "75%             0.738458                      0.700538   \n",
       "max             0.776871                      0.730981   \n",
       "\n",
       "       metrics.cv_test_0_class_accuracy  metrics.cv_test_accuracy  \\\n",
       "count                         15.000000                 15.000000   \n",
       "mean                           0.648974                  0.578977   \n",
       "std                            0.076880                  0.032018   \n",
       "min                            0.537143                  0.517460   \n",
       "25%                            0.587716                  0.561376   \n",
       "50%                            0.653333                  0.582804   \n",
       "75%                            0.717857                  0.593651   \n",
       "max                            0.785714                  0.662698   \n",
       "\n",
       "       metrics.test_accuracy  metrics.count_non_zero_features  \\\n",
       "count              15.000000                        15.000000   \n",
       "mean                0.539048                         3.133333   \n",
       "std                 0.082855                         1.407463   \n",
       "min                 0.371429                         1.000000   \n",
       "25%                 0.500000                         2.500000   \n",
       "50%                 0.542857                         3.000000   \n",
       "75%                 0.571429                         3.500000   \n",
       "max                 0.742857                         6.000000   \n",
       "\n",
       "       metrics.cv_test_auc  metrics.test_auc  \n",
       "count            15.000000         15.000000  \n",
       "mean              0.613903          0.569516  \n",
       "std               0.036589          0.095165  \n",
       "min               0.554062          0.320513  \n",
       "25%               0.589146          0.553419  \n",
       "50%               0.617647          0.589744  \n",
       "75%               0.632843          0.621795  \n",
       "max               0.678711          0.673077  "
      ]
     },
     "execution_count": 109,
     "metadata": {},
     "output_type": "execute_result"
    }
   ],
   "source": [
    "experiment_results_sc2_v10_exp2_df\\\n",
    "    .loc[(experiment_results_sc2_v10_exp2_df['params.log10_C'] == '-1.25')\n",
    "        & (experiment_results_sc2_v10_exp2_df['params.lower_quantile_removed_CoV'] == '0')]\\\n",
    "    .filter(regex='metrics.*')\\\n",
    "    .describe()"
   ]
  },
  {
   "cell_type": "markdown",
   "metadata": {},
   "source": [
    "## Get the full feature list"
   ]
  },
  {
   "cell_type": "code",
   "execution_count": 110,
   "metadata": {},
   "outputs": [],
   "source": [
    "import glob\n",
    "\n",
    "# Get the full run_id list for this experiment\n",
    "run_id_list = experiment_results_sc2_v10_exp2_df\\\n",
    "    .loc[(experiment_results_sc2_v10_exp2_df['params.log10_C'] == '-1.25')\n",
    "        & (experiment_results_sc2_v10_exp2_df['params.lower_quantile_removed_CoV'] == '0')]\\\n",
    "    ['run_id']\n",
    "\n",
    "full_feature_list = []\n",
    "\n",
    "for curr_run_id in run_id_list:\n",
    "    # Get the current run's artifact uri\n",
    "    curr_run = mlflow.get_run(run_id=curr_run_id)\n",
    "    curr_artifact_uri = curr_run.to_dictionary()['info']['artifact_uri']\n",
    "\n",
    "    # Get the feature list filepath\n",
    "    feature_list_filepath = glob.glob(f'{curr_artifact_uri[7:]}/*')[0]\n",
    "    \n",
    "    # Open the feature list file\n",
    "    with open(feature_list_filepath, 'r') as f:\n",
    "        # Get the first feature\n",
    "        curr_feature = f.readline()\n",
    "\n",
    "        # While the current feature name is not empty\n",
    "        while curr_feature != '':\n",
    "            # Add the feature to the full feature list\n",
    "            full_feature_list.append(f.readline().strip())\n",
    "            \n",
    "            # Get the next feature\n",
    "            curr_feature = f.readline()\n",
    "\n",
    "# Remove any empty feature from the final list\n",
    "full_feature_list = [curr_feature for curr_feature in full_feature_list if len(curr_feature) > 0]"
   ]
  },
  {
   "cell_type": "code",
   "execution_count": 117,
   "metadata": {},
   "outputs": [
    {
     "data": {
      "text/plain": [
       "7q31.1     5\n",
       "9p21.3     4\n",
       "10p15.3    2\n",
       "7p15.3     2\n",
       "8q23.3     2\n",
       "7p12.1     1\n",
       "7p11.2     1\n",
       "8q23.1     1\n",
       "dtype: int64"
      ]
     },
     "execution_count": 117,
     "metadata": {},
     "output_type": "execute_result"
    }
   ],
   "source": [
    "pd.Series(full_feature_list).value_counts()"
   ]
  },
  {
   "cell_type": "markdown",
   "metadata": {},
   "source": [
    "# Output the feature list"
   ]
  },
  {
   "cell_type": "code",
   "execution_count": 118,
   "metadata": {},
   "outputs": [],
   "source": [
    "with open('./../../data/intermediate/CN_feature_list.txt', 'w') as f:\n",
    "    for curr_feature in np.sort(np.unique(full_feature_list)):\n",
    "        if len(curr_feature) > 0:\n",
    "            f.write(f'{curr_feature}\\n')"
   ]
  },
  {
   "cell_type": "code",
   "execution_count": null,
   "metadata": {},
   "outputs": [],
   "source": []
  }
 ],
 "metadata": {
  "kernelspec": {
   "display_name": "Python 3",
   "language": "python",
   "name": "python3"
  },
  "language_info": {
   "codemirror_mode": {
    "name": "ipython",
    "version": 3
   },
   "file_extension": ".py",
   "mimetype": "text/x-python",
   "name": "python",
   "nbconvert_exporter": "python",
   "pygments_lexer": "ipython3",
   "version": "3.7.6"
  },
  "notify_time": "10",
  "toc": {
   "base_numbering": 1,
   "nav_menu": {},
   "number_sections": true,
   "sideBar": true,
   "skip_h1_title": false,
   "title_cell": "Table of Contents",
   "title_sidebar": "Contents",
   "toc_cell": false,
   "toc_position": {
    "height": "calc(100% - 180px)",
    "left": "10px",
    "top": "150px",
    "width": "384px"
   },
   "toc_section_display": true,
   "toc_window_display": true
  }
 },
 "nbformat": 4,
 "nbformat_minor": 4
}
